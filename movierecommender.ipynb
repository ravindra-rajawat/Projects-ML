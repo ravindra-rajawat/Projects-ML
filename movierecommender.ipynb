{
  "cells": [
    {
      "cell_type": "markdown",
      "metadata": {
        "id": "view-in-github",
        "colab_type": "text"
      },
      "source": [
        "<a href=\"https://colab.research.google.com/github/ravindra-rajawat/resume/blob/main/movierecommender.ipynb\" target=\"_parent\"><img src=\"https://colab.research.google.com/assets/colab-badge.svg\" alt=\"Open In Colab\"/></a>"
      ]
    },
    {
      "cell_type": "markdown",
      "source": [
        "\n",
        "># **Movie Recommendation System**\n",
        "\n",
        "   Recommender systems are meant to give suggestions to the users based on the features they love the most. A highly performing movie recommendation will suggest movies that match the similarities with the highest degree of performance.\n",
        "\n",
        "\n",
        "**Data Sources**\n",
        "\n",
        "  **Collabrative Filtering**:  Collaborative filtering is a method of making automatic predictions (filtering) about the interests of a user by collecting preferences or taste information from many users.\n",
        "  \n",
        "**Content-based Filtering**: A Content-Based Recommender works by the data that we take from the user, either explicitly (rating) or implicitly (clicking on a link). By the data we create a user profile, which is then used to suggest to the user, as the user provides more input or take more actions on the recommendation, the engine becomes more accurate.\n",
        "\n",
        "**Lets develop a basic recommandation system using Python and Pandas**\n",
        "\n",
        "\n",
        "\n",
        "\n",
        "\n",
        "\n"
      ],
      "metadata": {
        "id": "A18NUGJ4ITuG"
      }
    },
    {
      "cell_type": "markdown",
      "source": [
        "\n",
        "\n",
        ">**Importing Library**\n",
        "\n"
      ],
      "metadata": {
        "id": "j8E4pIPlMJPB"
      }
    },
    {
      "cell_type": "code",
      "execution_count": null,
      "metadata": {
        "id": "Qyms1nGnS4f3"
      },
      "outputs": [],
      "source": [
        "import pandas as pd"
      ]
    },
    {
      "cell_type": "code",
      "source": [
        "import numpy as np"
      ],
      "metadata": {
        "id": "fMCJtxDsOF2Q"
      },
      "execution_count": null,
      "outputs": []
    },
    {
      "cell_type": "markdown",
      "source": [
        "\n",
        "\n",
        "\n",
        "> **Importing Dataset**\n",
        "\n",
        "\n",
        "\n"
      ],
      "metadata": {
        "id": "18mbKZ0bMW2d"
      }
    },
    {
      "cell_type": "code",
      "source": [
        "mv=pd.read_csv(\"https://github.com/YBI-Foundation/Dataset/raw/main/Movies%20Recommendation.csv\")"
      ],
      "metadata": {
        "id": "zMu4GJ0fOLKl"
      },
      "execution_count": null,
      "outputs": []
    },
    {
      "cell_type": "markdown",
      "source": [
        "\n",
        "\n",
        "> **Describing Data**\n",
        "\n"
      ],
      "metadata": {
        "id": "VPvFX29aM7Gb"
      }
    },
    {
      "cell_type": "code",
      "source": [
        "mv.head()"
      ],
      "metadata": {
        "colab": {
          "base_uri": "https://localhost:8080/",
          "height": 672
        },
        "id": "548GvmvuOso0",
        "outputId": "9fd72b50-25a4-4682-cef9-fdbf302fb51a"
      },
      "execution_count": null,
      "outputs": [
        {
          "output_type": "execute_result",
          "data": {
            "text/plain": [
              "   Movie_ID      Movie_Title                       Movie_Genre Movie_Language  \\\n",
              "0         1       Four Rooms                      Crime Comedy             en   \n",
              "1         2        Star Wars  Adventure Action Science Fiction             en   \n",
              "2         3     Finding Nemo                  Animation Family             en   \n",
              "3         4     Forrest Gump              Comedy Drama Romance             en   \n",
              "4         5  American Beauty                             Drama             en   \n",
              "\n",
              "   Movie_Budget  Movie_Popularity Movie_Release_Date  Movie_Revenue  \\\n",
              "0       4000000         22.876230         09-12-1995        4300000   \n",
              "1      11000000        126.393695         25-05-1977      775398007   \n",
              "2      94000000         85.688789         30-05-2003      940335536   \n",
              "3      55000000        138.133331         06-07-1994      677945399   \n",
              "4      15000000         80.878605         15-09-1999      356296601   \n",
              "\n",
              "   Movie_Runtime  Movie_Vote  ...  \\\n",
              "0           98.0         6.5  ...   \n",
              "1          121.0         8.1  ...   \n",
              "2          100.0         7.6  ...   \n",
              "3          142.0         8.2  ...   \n",
              "4          122.0         7.9  ...   \n",
              "\n",
              "                                      Movie_Homepage  \\\n",
              "0                                                NaN   \n",
              "1  http://www.starwars.com/films/star-wars-episod...   \n",
              "2              http://movies.disney.com/finding-nemo   \n",
              "3                                                NaN   \n",
              "4                      http://www.dreamworks.com/ab/   \n",
              "\n",
              "                                      Movie_Keywords  \\\n",
              "0          hotel new year's eve witch bet hotel room   \n",
              "1        android galaxy hermit death star lightsaber   \n",
              "2  father son relationship harbor underwater fish...   \n",
              "3  vietnam veteran hippie mentally disabled runni...   \n",
              "4  male nudity female nudity adultery midlife cri...   \n",
              "\n",
              "                                      Movie_Overview  \\\n",
              "0  It's Ted the Bellhop's first night on the job....   \n",
              "1  Princess Leia is captured and held hostage by ...   \n",
              "2  Nemo, an adventurous young clownfish, is unexp...   \n",
              "3  A man with a low IQ has accomplished great thi...   \n",
              "4  Lester Burnham, a depressed suburban father in...   \n",
              "\n",
              "                              Movie_Production_House  \\\n",
              "0  [{\"name\": \"Miramax Films\", \"id\": 14}, {\"name\":...   \n",
              "1  [{\"name\": \"Lucasfilm\", \"id\": 1}, {\"name\": \"Twe...   \n",
              "2     [{\"name\": \"Pixar Animation Studios\", \"id\": 3}]   \n",
              "3          [{\"name\": \"Paramount Pictures\", \"id\": 4}]   \n",
              "4  [{\"name\": \"DreamWorks SKG\", \"id\": 27}, {\"name\"...   \n",
              "\n",
              "                            Movie_Production_Country  \\\n",
              "0  [{\"iso_3166_1\": \"US\", \"name\": \"United States o...   \n",
              "1  [{\"iso_3166_1\": \"US\", \"name\": \"United States o...   \n",
              "2  [{\"iso_3166_1\": \"US\", \"name\": \"United States o...   \n",
              "3  [{\"iso_3166_1\": \"US\", \"name\": \"United States o...   \n",
              "4  [{\"iso_3166_1\": \"US\", \"name\": \"United States o...   \n",
              "\n",
              "                      Movie_Spoken_Language  \\\n",
              "0  [{\"iso_639_1\": \"en\", \"name\": \"English\"}]   \n",
              "1  [{\"iso_639_1\": \"en\", \"name\": \"English\"}]   \n",
              "2  [{\"iso_639_1\": \"en\", \"name\": \"English\"}]   \n",
              "3  [{\"iso_639_1\": \"en\", \"name\": \"English\"}]   \n",
              "4  [{\"iso_639_1\": \"en\", \"name\": \"English\"}]   \n",
              "\n",
              "                                       Movie_Tagline  \\\n",
              "0  Twelve outrageous guests. Four scandalous requ...   \n",
              "1       A long time ago in a galaxy far, far away...   \n",
              "2  There are 3.7 trillion fish in the ocean, they...   \n",
              "3  The world will never be the same, once you've ...   \n",
              "4                                       Look closer.   \n",
              "\n",
              "                                          Movie_Cast  \\\n",
              "0  Tim Roth Antonio Banderas Jennifer Beals Madon...   \n",
              "1  Mark Hamill Harrison Ford Carrie Fisher Peter ...   \n",
              "2  Albert Brooks Ellen DeGeneres Alexander Gould ...   \n",
              "3  Tom Hanks Robin Wright Gary Sinise Mykelti Wil...   \n",
              "4  Kevin Spacey Annette Bening Thora Birch Wes Be...   \n",
              "\n",
              "                                          Movie_Crew   Movie_Director  \n",
              "0  [{'name': 'Allison Anders', 'gender': 1, 'depa...   Allison Anders  \n",
              "1  [{'name': 'George Lucas', 'gender': 2, 'depart...     George Lucas  \n",
              "2  [{'name': 'Andrew Stanton', 'gender': 2, 'depa...   Andrew Stanton  \n",
              "3  [{'name': 'Alan Silvestri', 'gender': 2, 'depa...  Robert Zemeckis  \n",
              "4  [{'name': 'Thomas Newman', 'gender': 2, 'depar...       Sam Mendes  \n",
              "\n",
              "[5 rows x 21 columns]"
            ],
            "text/html": [
              "\n",
              "  <div id=\"df-d491ad59-35f3-4066-944e-be603b04bd9c\" class=\"colab-df-container\">\n",
              "    <div>\n",
              "<style scoped>\n",
              "    .dataframe tbody tr th:only-of-type {\n",
              "        vertical-align: middle;\n",
              "    }\n",
              "\n",
              "    .dataframe tbody tr th {\n",
              "        vertical-align: top;\n",
              "    }\n",
              "\n",
              "    .dataframe thead th {\n",
              "        text-align: right;\n",
              "    }\n",
              "</style>\n",
              "<table border=\"1\" class=\"dataframe\">\n",
              "  <thead>\n",
              "    <tr style=\"text-align: right;\">\n",
              "      <th></th>\n",
              "      <th>Movie_ID</th>\n",
              "      <th>Movie_Title</th>\n",
              "      <th>Movie_Genre</th>\n",
              "      <th>Movie_Language</th>\n",
              "      <th>Movie_Budget</th>\n",
              "      <th>Movie_Popularity</th>\n",
              "      <th>Movie_Release_Date</th>\n",
              "      <th>Movie_Revenue</th>\n",
              "      <th>Movie_Runtime</th>\n",
              "      <th>Movie_Vote</th>\n",
              "      <th>...</th>\n",
              "      <th>Movie_Homepage</th>\n",
              "      <th>Movie_Keywords</th>\n",
              "      <th>Movie_Overview</th>\n",
              "      <th>Movie_Production_House</th>\n",
              "      <th>Movie_Production_Country</th>\n",
              "      <th>Movie_Spoken_Language</th>\n",
              "      <th>Movie_Tagline</th>\n",
              "      <th>Movie_Cast</th>\n",
              "      <th>Movie_Crew</th>\n",
              "      <th>Movie_Director</th>\n",
              "    </tr>\n",
              "  </thead>\n",
              "  <tbody>\n",
              "    <tr>\n",
              "      <th>0</th>\n",
              "      <td>1</td>\n",
              "      <td>Four Rooms</td>\n",
              "      <td>Crime Comedy</td>\n",
              "      <td>en</td>\n",
              "      <td>4000000</td>\n",
              "      <td>22.876230</td>\n",
              "      <td>09-12-1995</td>\n",
              "      <td>4300000</td>\n",
              "      <td>98.0</td>\n",
              "      <td>6.5</td>\n",
              "      <td>...</td>\n",
              "      <td>NaN</td>\n",
              "      <td>hotel new year's eve witch bet hotel room</td>\n",
              "      <td>It's Ted the Bellhop's first night on the job....</td>\n",
              "      <td>[{\"name\": \"Miramax Films\", \"id\": 14}, {\"name\":...</td>\n",
              "      <td>[{\"iso_3166_1\": \"US\", \"name\": \"United States o...</td>\n",
              "      <td>[{\"iso_639_1\": \"en\", \"name\": \"English\"}]</td>\n",
              "      <td>Twelve outrageous guests. Four scandalous requ...</td>\n",
              "      <td>Tim Roth Antonio Banderas Jennifer Beals Madon...</td>\n",
              "      <td>[{'name': 'Allison Anders', 'gender': 1, 'depa...</td>\n",
              "      <td>Allison Anders</td>\n",
              "    </tr>\n",
              "    <tr>\n",
              "      <th>1</th>\n",
              "      <td>2</td>\n",
              "      <td>Star Wars</td>\n",
              "      <td>Adventure Action Science Fiction</td>\n",
              "      <td>en</td>\n",
              "      <td>11000000</td>\n",
              "      <td>126.393695</td>\n",
              "      <td>25-05-1977</td>\n",
              "      <td>775398007</td>\n",
              "      <td>121.0</td>\n",
              "      <td>8.1</td>\n",
              "      <td>...</td>\n",
              "      <td>http://www.starwars.com/films/star-wars-episod...</td>\n",
              "      <td>android galaxy hermit death star lightsaber</td>\n",
              "      <td>Princess Leia is captured and held hostage by ...</td>\n",
              "      <td>[{\"name\": \"Lucasfilm\", \"id\": 1}, {\"name\": \"Twe...</td>\n",
              "      <td>[{\"iso_3166_1\": \"US\", \"name\": \"United States o...</td>\n",
              "      <td>[{\"iso_639_1\": \"en\", \"name\": \"English\"}]</td>\n",
              "      <td>A long time ago in a galaxy far, far away...</td>\n",
              "      <td>Mark Hamill Harrison Ford Carrie Fisher Peter ...</td>\n",
              "      <td>[{'name': 'George Lucas', 'gender': 2, 'depart...</td>\n",
              "      <td>George Lucas</td>\n",
              "    </tr>\n",
              "    <tr>\n",
              "      <th>2</th>\n",
              "      <td>3</td>\n",
              "      <td>Finding Nemo</td>\n",
              "      <td>Animation Family</td>\n",
              "      <td>en</td>\n",
              "      <td>94000000</td>\n",
              "      <td>85.688789</td>\n",
              "      <td>30-05-2003</td>\n",
              "      <td>940335536</td>\n",
              "      <td>100.0</td>\n",
              "      <td>7.6</td>\n",
              "      <td>...</td>\n",
              "      <td>http://movies.disney.com/finding-nemo</td>\n",
              "      <td>father son relationship harbor underwater fish...</td>\n",
              "      <td>Nemo, an adventurous young clownfish, is unexp...</td>\n",
              "      <td>[{\"name\": \"Pixar Animation Studios\", \"id\": 3}]</td>\n",
              "      <td>[{\"iso_3166_1\": \"US\", \"name\": \"United States o...</td>\n",
              "      <td>[{\"iso_639_1\": \"en\", \"name\": \"English\"}]</td>\n",
              "      <td>There are 3.7 trillion fish in the ocean, they...</td>\n",
              "      <td>Albert Brooks Ellen DeGeneres Alexander Gould ...</td>\n",
              "      <td>[{'name': 'Andrew Stanton', 'gender': 2, 'depa...</td>\n",
              "      <td>Andrew Stanton</td>\n",
              "    </tr>\n",
              "    <tr>\n",
              "      <th>3</th>\n",
              "      <td>4</td>\n",
              "      <td>Forrest Gump</td>\n",
              "      <td>Comedy Drama Romance</td>\n",
              "      <td>en</td>\n",
              "      <td>55000000</td>\n",
              "      <td>138.133331</td>\n",
              "      <td>06-07-1994</td>\n",
              "      <td>677945399</td>\n",
              "      <td>142.0</td>\n",
              "      <td>8.2</td>\n",
              "      <td>...</td>\n",
              "      <td>NaN</td>\n",
              "      <td>vietnam veteran hippie mentally disabled runni...</td>\n",
              "      <td>A man with a low IQ has accomplished great thi...</td>\n",
              "      <td>[{\"name\": \"Paramount Pictures\", \"id\": 4}]</td>\n",
              "      <td>[{\"iso_3166_1\": \"US\", \"name\": \"United States o...</td>\n",
              "      <td>[{\"iso_639_1\": \"en\", \"name\": \"English\"}]</td>\n",
              "      <td>The world will never be the same, once you've ...</td>\n",
              "      <td>Tom Hanks Robin Wright Gary Sinise Mykelti Wil...</td>\n",
              "      <td>[{'name': 'Alan Silvestri', 'gender': 2, 'depa...</td>\n",
              "      <td>Robert Zemeckis</td>\n",
              "    </tr>\n",
              "    <tr>\n",
              "      <th>4</th>\n",
              "      <td>5</td>\n",
              "      <td>American Beauty</td>\n",
              "      <td>Drama</td>\n",
              "      <td>en</td>\n",
              "      <td>15000000</td>\n",
              "      <td>80.878605</td>\n",
              "      <td>15-09-1999</td>\n",
              "      <td>356296601</td>\n",
              "      <td>122.0</td>\n",
              "      <td>7.9</td>\n",
              "      <td>...</td>\n",
              "      <td>http://www.dreamworks.com/ab/</td>\n",
              "      <td>male nudity female nudity adultery midlife cri...</td>\n",
              "      <td>Lester Burnham, a depressed suburban father in...</td>\n",
              "      <td>[{\"name\": \"DreamWorks SKG\", \"id\": 27}, {\"name\"...</td>\n",
              "      <td>[{\"iso_3166_1\": \"US\", \"name\": \"United States o...</td>\n",
              "      <td>[{\"iso_639_1\": \"en\", \"name\": \"English\"}]</td>\n",
              "      <td>Look closer.</td>\n",
              "      <td>Kevin Spacey Annette Bening Thora Birch Wes Be...</td>\n",
              "      <td>[{'name': 'Thomas Newman', 'gender': 2, 'depar...</td>\n",
              "      <td>Sam Mendes</td>\n",
              "    </tr>\n",
              "  </tbody>\n",
              "</table>\n",
              "<p>5 rows × 21 columns</p>\n",
              "</div>\n",
              "    <div class=\"colab-df-buttons\">\n",
              "\n",
              "  <div class=\"colab-df-container\">\n",
              "    <button class=\"colab-df-convert\" onclick=\"convertToInteractive('df-d491ad59-35f3-4066-944e-be603b04bd9c')\"\n",
              "            title=\"Convert this dataframe to an interactive table.\"\n",
              "            style=\"display:none;\">\n",
              "\n",
              "  <svg xmlns=\"http://www.w3.org/2000/svg\" height=\"24px\" viewBox=\"0 -960 960 960\">\n",
              "    <path d=\"M120-120v-720h720v720H120Zm60-500h600v-160H180v160Zm220 220h160v-160H400v160Zm0 220h160v-160H400v160ZM180-400h160v-160H180v160Zm440 0h160v-160H620v160ZM180-180h160v-160H180v160Zm440 0h160v-160H620v160Z\"/>\n",
              "  </svg>\n",
              "    </button>\n",
              "\n",
              "  <style>\n",
              "    .colab-df-container {\n",
              "      display:flex;\n",
              "      gap: 12px;\n",
              "    }\n",
              "\n",
              "    .colab-df-convert {\n",
              "      background-color: #E8F0FE;\n",
              "      border: none;\n",
              "      border-radius: 50%;\n",
              "      cursor: pointer;\n",
              "      display: none;\n",
              "      fill: #1967D2;\n",
              "      height: 32px;\n",
              "      padding: 0 0 0 0;\n",
              "      width: 32px;\n",
              "    }\n",
              "\n",
              "    .colab-df-convert:hover {\n",
              "      background-color: #E2EBFA;\n",
              "      box-shadow: 0px 1px 2px rgba(60, 64, 67, 0.3), 0px 1px 3px 1px rgba(60, 64, 67, 0.15);\n",
              "      fill: #174EA6;\n",
              "    }\n",
              "\n",
              "    .colab-df-buttons div {\n",
              "      margin-bottom: 4px;\n",
              "    }\n",
              "\n",
              "    [theme=dark] .colab-df-convert {\n",
              "      background-color: #3B4455;\n",
              "      fill: #D2E3FC;\n",
              "    }\n",
              "\n",
              "    [theme=dark] .colab-df-convert:hover {\n",
              "      background-color: #434B5C;\n",
              "      box-shadow: 0px 1px 3px 1px rgba(0, 0, 0, 0.15);\n",
              "      filter: drop-shadow(0px 1px 2px rgba(0, 0, 0, 0.3));\n",
              "      fill: #FFFFFF;\n",
              "    }\n",
              "  </style>\n",
              "\n",
              "    <script>\n",
              "      const buttonEl =\n",
              "        document.querySelector('#df-d491ad59-35f3-4066-944e-be603b04bd9c button.colab-df-convert');\n",
              "      buttonEl.style.display =\n",
              "        google.colab.kernel.accessAllowed ? 'block' : 'none';\n",
              "\n",
              "      async function convertToInteractive(key) {\n",
              "        const element = document.querySelector('#df-d491ad59-35f3-4066-944e-be603b04bd9c');\n",
              "        const dataTable =\n",
              "          await google.colab.kernel.invokeFunction('convertToInteractive',\n",
              "                                                    [key], {});\n",
              "        if (!dataTable) return;\n",
              "\n",
              "        const docLinkHtml = 'Like what you see? Visit the ' +\n",
              "          '<a target=\"_blank\" href=https://colab.research.google.com/notebooks/data_table.ipynb>data table notebook</a>'\n",
              "          + ' to learn more about interactive tables.';\n",
              "        element.innerHTML = '';\n",
              "        dataTable['output_type'] = 'display_data';\n",
              "        await google.colab.output.renderOutput(dataTable, element);\n",
              "        const docLink = document.createElement('div');\n",
              "        docLink.innerHTML = docLinkHtml;\n",
              "        element.appendChild(docLink);\n",
              "      }\n",
              "    </script>\n",
              "  </div>\n",
              "\n",
              "\n",
              "<div id=\"df-6a5a40b0-4243-47b0-bfa5-9491d45e666d\">\n",
              "  <button class=\"colab-df-quickchart\" onclick=\"quickchart('df-6a5a40b0-4243-47b0-bfa5-9491d45e666d')\"\n",
              "            title=\"Suggest charts.\"\n",
              "            style=\"display:none;\">\n",
              "\n",
              "<svg xmlns=\"http://www.w3.org/2000/svg\" height=\"24px\"viewBox=\"0 0 24 24\"\n",
              "     width=\"24px\">\n",
              "    <g>\n",
              "        <path d=\"M19 3H5c-1.1 0-2 .9-2 2v14c0 1.1.9 2 2 2h14c1.1 0 2-.9 2-2V5c0-1.1-.9-2-2-2zM9 17H7v-7h2v7zm4 0h-2V7h2v10zm4 0h-2v-4h2v4z\"/>\n",
              "    </g>\n",
              "</svg>\n",
              "  </button>\n",
              "\n",
              "<style>\n",
              "  .colab-df-quickchart {\n",
              "      --bg-color: #E8F0FE;\n",
              "      --fill-color: #1967D2;\n",
              "      --hover-bg-color: #E2EBFA;\n",
              "      --hover-fill-color: #174EA6;\n",
              "      --disabled-fill-color: #AAA;\n",
              "      --disabled-bg-color: #DDD;\n",
              "  }\n",
              "\n",
              "  [theme=dark] .colab-df-quickchart {\n",
              "      --bg-color: #3B4455;\n",
              "      --fill-color: #D2E3FC;\n",
              "      --hover-bg-color: #434B5C;\n",
              "      --hover-fill-color: #FFFFFF;\n",
              "      --disabled-bg-color: #3B4455;\n",
              "      --disabled-fill-color: #666;\n",
              "  }\n",
              "\n",
              "  .colab-df-quickchart {\n",
              "    background-color: var(--bg-color);\n",
              "    border: none;\n",
              "    border-radius: 50%;\n",
              "    cursor: pointer;\n",
              "    display: none;\n",
              "    fill: var(--fill-color);\n",
              "    height: 32px;\n",
              "    padding: 0;\n",
              "    width: 32px;\n",
              "  }\n",
              "\n",
              "  .colab-df-quickchart:hover {\n",
              "    background-color: var(--hover-bg-color);\n",
              "    box-shadow: 0 1px 2px rgba(60, 64, 67, 0.3), 0 1px 3px 1px rgba(60, 64, 67, 0.15);\n",
              "    fill: var(--button-hover-fill-color);\n",
              "  }\n",
              "\n",
              "  .colab-df-quickchart-complete:disabled,\n",
              "  .colab-df-quickchart-complete:disabled:hover {\n",
              "    background-color: var(--disabled-bg-color);\n",
              "    fill: var(--disabled-fill-color);\n",
              "    box-shadow: none;\n",
              "  }\n",
              "\n",
              "  .colab-df-spinner {\n",
              "    border: 2px solid var(--fill-color);\n",
              "    border-color: transparent;\n",
              "    border-bottom-color: var(--fill-color);\n",
              "    animation:\n",
              "      spin 1s steps(1) infinite;\n",
              "  }\n",
              "\n",
              "  @keyframes spin {\n",
              "    0% {\n",
              "      border-color: transparent;\n",
              "      border-bottom-color: var(--fill-color);\n",
              "      border-left-color: var(--fill-color);\n",
              "    }\n",
              "    20% {\n",
              "      border-color: transparent;\n",
              "      border-left-color: var(--fill-color);\n",
              "      border-top-color: var(--fill-color);\n",
              "    }\n",
              "    30% {\n",
              "      border-color: transparent;\n",
              "      border-left-color: var(--fill-color);\n",
              "      border-top-color: var(--fill-color);\n",
              "      border-right-color: var(--fill-color);\n",
              "    }\n",
              "    40% {\n",
              "      border-color: transparent;\n",
              "      border-right-color: var(--fill-color);\n",
              "      border-top-color: var(--fill-color);\n",
              "    }\n",
              "    60% {\n",
              "      border-color: transparent;\n",
              "      border-right-color: var(--fill-color);\n",
              "    }\n",
              "    80% {\n",
              "      border-color: transparent;\n",
              "      border-right-color: var(--fill-color);\n",
              "      border-bottom-color: var(--fill-color);\n",
              "    }\n",
              "    90% {\n",
              "      border-color: transparent;\n",
              "      border-bottom-color: var(--fill-color);\n",
              "    }\n",
              "  }\n",
              "</style>\n",
              "\n",
              "  <script>\n",
              "    async function quickchart(key) {\n",
              "      const quickchartButtonEl =\n",
              "        document.querySelector('#' + key + ' button');\n",
              "      quickchartButtonEl.disabled = true;  // To prevent multiple clicks.\n",
              "      quickchartButtonEl.classList.add('colab-df-spinner');\n",
              "      try {\n",
              "        const charts = await google.colab.kernel.invokeFunction(\n",
              "            'suggestCharts', [key], {});\n",
              "      } catch (error) {\n",
              "        console.error('Error during call to suggestCharts:', error);\n",
              "      }\n",
              "      quickchartButtonEl.classList.remove('colab-df-spinner');\n",
              "      quickchartButtonEl.classList.add('colab-df-quickchart-complete');\n",
              "    }\n",
              "    (() => {\n",
              "      let quickchartButtonEl =\n",
              "        document.querySelector('#df-6a5a40b0-4243-47b0-bfa5-9491d45e666d button');\n",
              "      quickchartButtonEl.style.display =\n",
              "        google.colab.kernel.accessAllowed ? 'block' : 'none';\n",
              "    })();\n",
              "  </script>\n",
              "</div>\n",
              "    </div>\n",
              "  </div>\n"
            ]
          },
          "metadata": {},
          "execution_count": 103
        }
      ]
    },
    {
      "cell_type": "code",
      "source": [
        "mv.columns"
      ],
      "metadata": {
        "colab": {
          "base_uri": "https://localhost:8080/"
        },
        "id": "7HhtyNnHO3pq",
        "outputId": "734053c4-fa9a-4730-c0a9-abdb83cbf5d5"
      },
      "execution_count": null,
      "outputs": [
        {
          "output_type": "execute_result",
          "data": {
            "text/plain": [
              "Index(['Movie_ID', 'Movie_Title', 'Movie_Genre', 'Movie_Language',\n",
              "       'Movie_Budget', 'Movie_Popularity', 'Movie_Release_Date',\n",
              "       'Movie_Revenue', 'Movie_Runtime', 'Movie_Vote', 'Movie_Vote_Count',\n",
              "       'Movie_Homepage', 'Movie_Keywords', 'Movie_Overview',\n",
              "       'Movie_Production_House', 'Movie_Production_Country',\n",
              "       'Movie_Spoken_Language', 'Movie_Tagline', 'Movie_Cast', 'Movie_Crew',\n",
              "       'Movie_Director'],\n",
              "      dtype='object')"
            ]
          },
          "metadata": {},
          "execution_count": 104
        }
      ]
    },
    {
      "cell_type": "code",
      "source": [
        "mv.info()"
      ],
      "metadata": {
        "colab": {
          "base_uri": "https://localhost:8080/"
        },
        "id": "GZf4tVnoPkct",
        "outputId": "c65af009-d61c-46bc-b85b-25da0d76f100"
      },
      "execution_count": null,
      "outputs": [
        {
          "output_type": "stream",
          "name": "stdout",
          "text": [
            "<class 'pandas.core.frame.DataFrame'>\n",
            "RangeIndex: 4760 entries, 0 to 4759\n",
            "Data columns (total 21 columns):\n",
            " #   Column                    Non-Null Count  Dtype  \n",
            "---  ------                    --------------  -----  \n",
            " 0   Movie_ID                  4760 non-null   int64  \n",
            " 1   Movie_Title               4760 non-null   object \n",
            " 2   Movie_Genre               4760 non-null   object \n",
            " 3   Movie_Language            4760 non-null   object \n",
            " 4   Movie_Budget              4760 non-null   int64  \n",
            " 5   Movie_Popularity          4760 non-null   float64\n",
            " 6   Movie_Release_Date        4760 non-null   object \n",
            " 7   Movie_Revenue             4760 non-null   int64  \n",
            " 8   Movie_Runtime             4758 non-null   float64\n",
            " 9   Movie_Vote                4760 non-null   float64\n",
            " 10  Movie_Vote_Count          4760 non-null   int64  \n",
            " 11  Movie_Homepage            1699 non-null   object \n",
            " 12  Movie_Keywords            4373 non-null   object \n",
            " 13  Movie_Overview            4757 non-null   object \n",
            " 14  Movie_Production_House    4760 non-null   object \n",
            " 15  Movie_Production_Country  4760 non-null   object \n",
            " 16  Movie_Spoken_Language     4760 non-null   object \n",
            " 17  Movie_Tagline             3942 non-null   object \n",
            " 18  Movie_Cast                4733 non-null   object \n",
            " 19  Movie_Crew                4760 non-null   object \n",
            " 20  Movie_Director            4738 non-null   object \n",
            "dtypes: float64(3), int64(4), object(14)\n",
            "memory usage: 781.1+ KB\n"
          ]
        }
      ]
    },
    {
      "cell_type": "code",
      "source": [
        "mv.describe()"
      ],
      "metadata": {
        "colab": {
          "base_uri": "https://localhost:8080/",
          "height": 300
        },
        "id": "5xmNTcanPpMT",
        "outputId": "293c6ef5-c923-4fd4-9464-00e73ac46520"
      },
      "execution_count": null,
      "outputs": [
        {
          "output_type": "execute_result",
          "data": {
            "text/plain": [
              "          Movie_ID  Movie_Budget  Movie_Popularity  Movie_Revenue  \\\n",
              "count  4760.000000  4.760000e+03       4760.000000   4.760000e+03   \n",
              "mean   2382.566387  2.920129e+07         21.599510   8.263743e+07   \n",
              "std    1377.270159  4.075620e+07         31.887919   1.630554e+08   \n",
              "min       1.000000  0.000000e+00          0.000372   0.000000e+00   \n",
              "25%    1190.750000  9.257500e+05          4.807074   0.000000e+00   \n",
              "50%    2380.500000  1.500000e+07         13.119058   1.944716e+07   \n",
              "75%    3572.250000  4.000000e+07         28.411929   9.341276e+07   \n",
              "max    4788.000000  3.800000e+08        875.581305   2.787965e+09   \n",
              "\n",
              "       Movie_Runtime   Movie_Vote  Movie_Vote_Count  \n",
              "count    4758.000000  4760.000000       4760.000000  \n",
              "mean      107.184111     6.113866        692.508403  \n",
              "std        21.960332     1.141294       1235.007337  \n",
              "min         0.000000     0.000000          0.000000  \n",
              "25%        94.000000     5.600000         55.000000  \n",
              "50%       104.000000     6.200000        238.000000  \n",
              "75%       118.000000     6.800000        740.250000  \n",
              "max       338.000000    10.000000      13752.000000  "
            ],
            "text/html": [
              "\n",
              "  <div id=\"df-5fc0d4ae-dea4-4d1a-b9a8-f7e8f3f7f6d6\" class=\"colab-df-container\">\n",
              "    <div>\n",
              "<style scoped>\n",
              "    .dataframe tbody tr th:only-of-type {\n",
              "        vertical-align: middle;\n",
              "    }\n",
              "\n",
              "    .dataframe tbody tr th {\n",
              "        vertical-align: top;\n",
              "    }\n",
              "\n",
              "    .dataframe thead th {\n",
              "        text-align: right;\n",
              "    }\n",
              "</style>\n",
              "<table border=\"1\" class=\"dataframe\">\n",
              "  <thead>\n",
              "    <tr style=\"text-align: right;\">\n",
              "      <th></th>\n",
              "      <th>Movie_ID</th>\n",
              "      <th>Movie_Budget</th>\n",
              "      <th>Movie_Popularity</th>\n",
              "      <th>Movie_Revenue</th>\n",
              "      <th>Movie_Runtime</th>\n",
              "      <th>Movie_Vote</th>\n",
              "      <th>Movie_Vote_Count</th>\n",
              "    </tr>\n",
              "  </thead>\n",
              "  <tbody>\n",
              "    <tr>\n",
              "      <th>count</th>\n",
              "      <td>4760.000000</td>\n",
              "      <td>4.760000e+03</td>\n",
              "      <td>4760.000000</td>\n",
              "      <td>4.760000e+03</td>\n",
              "      <td>4758.000000</td>\n",
              "      <td>4760.000000</td>\n",
              "      <td>4760.000000</td>\n",
              "    </tr>\n",
              "    <tr>\n",
              "      <th>mean</th>\n",
              "      <td>2382.566387</td>\n",
              "      <td>2.920129e+07</td>\n",
              "      <td>21.599510</td>\n",
              "      <td>8.263743e+07</td>\n",
              "      <td>107.184111</td>\n",
              "      <td>6.113866</td>\n",
              "      <td>692.508403</td>\n",
              "    </tr>\n",
              "    <tr>\n",
              "      <th>std</th>\n",
              "      <td>1377.270159</td>\n",
              "      <td>4.075620e+07</td>\n",
              "      <td>31.887919</td>\n",
              "      <td>1.630554e+08</td>\n",
              "      <td>21.960332</td>\n",
              "      <td>1.141294</td>\n",
              "      <td>1235.007337</td>\n",
              "    </tr>\n",
              "    <tr>\n",
              "      <th>min</th>\n",
              "      <td>1.000000</td>\n",
              "      <td>0.000000e+00</td>\n",
              "      <td>0.000372</td>\n",
              "      <td>0.000000e+00</td>\n",
              "      <td>0.000000</td>\n",
              "      <td>0.000000</td>\n",
              "      <td>0.000000</td>\n",
              "    </tr>\n",
              "    <tr>\n",
              "      <th>25%</th>\n",
              "      <td>1190.750000</td>\n",
              "      <td>9.257500e+05</td>\n",
              "      <td>4.807074</td>\n",
              "      <td>0.000000e+00</td>\n",
              "      <td>94.000000</td>\n",
              "      <td>5.600000</td>\n",
              "      <td>55.000000</td>\n",
              "    </tr>\n",
              "    <tr>\n",
              "      <th>50%</th>\n",
              "      <td>2380.500000</td>\n",
              "      <td>1.500000e+07</td>\n",
              "      <td>13.119058</td>\n",
              "      <td>1.944716e+07</td>\n",
              "      <td>104.000000</td>\n",
              "      <td>6.200000</td>\n",
              "      <td>238.000000</td>\n",
              "    </tr>\n",
              "    <tr>\n",
              "      <th>75%</th>\n",
              "      <td>3572.250000</td>\n",
              "      <td>4.000000e+07</td>\n",
              "      <td>28.411929</td>\n",
              "      <td>9.341276e+07</td>\n",
              "      <td>118.000000</td>\n",
              "      <td>6.800000</td>\n",
              "      <td>740.250000</td>\n",
              "    </tr>\n",
              "    <tr>\n",
              "      <th>max</th>\n",
              "      <td>4788.000000</td>\n",
              "      <td>3.800000e+08</td>\n",
              "      <td>875.581305</td>\n",
              "      <td>2.787965e+09</td>\n",
              "      <td>338.000000</td>\n",
              "      <td>10.000000</td>\n",
              "      <td>13752.000000</td>\n",
              "    </tr>\n",
              "  </tbody>\n",
              "</table>\n",
              "</div>\n",
              "    <div class=\"colab-df-buttons\">\n",
              "\n",
              "  <div class=\"colab-df-container\">\n",
              "    <button class=\"colab-df-convert\" onclick=\"convertToInteractive('df-5fc0d4ae-dea4-4d1a-b9a8-f7e8f3f7f6d6')\"\n",
              "            title=\"Convert this dataframe to an interactive table.\"\n",
              "            style=\"display:none;\">\n",
              "\n",
              "  <svg xmlns=\"http://www.w3.org/2000/svg\" height=\"24px\" viewBox=\"0 -960 960 960\">\n",
              "    <path d=\"M120-120v-720h720v720H120Zm60-500h600v-160H180v160Zm220 220h160v-160H400v160Zm0 220h160v-160H400v160ZM180-400h160v-160H180v160Zm440 0h160v-160H620v160ZM180-180h160v-160H180v160Zm440 0h160v-160H620v160Z\"/>\n",
              "  </svg>\n",
              "    </button>\n",
              "\n",
              "  <style>\n",
              "    .colab-df-container {\n",
              "      display:flex;\n",
              "      gap: 12px;\n",
              "    }\n",
              "\n",
              "    .colab-df-convert {\n",
              "      background-color: #E8F0FE;\n",
              "      border: none;\n",
              "      border-radius: 50%;\n",
              "      cursor: pointer;\n",
              "      display: none;\n",
              "      fill: #1967D2;\n",
              "      height: 32px;\n",
              "      padding: 0 0 0 0;\n",
              "      width: 32px;\n",
              "    }\n",
              "\n",
              "    .colab-df-convert:hover {\n",
              "      background-color: #E2EBFA;\n",
              "      box-shadow: 0px 1px 2px rgba(60, 64, 67, 0.3), 0px 1px 3px 1px rgba(60, 64, 67, 0.15);\n",
              "      fill: #174EA6;\n",
              "    }\n",
              "\n",
              "    .colab-df-buttons div {\n",
              "      margin-bottom: 4px;\n",
              "    }\n",
              "\n",
              "    [theme=dark] .colab-df-convert {\n",
              "      background-color: #3B4455;\n",
              "      fill: #D2E3FC;\n",
              "    }\n",
              "\n",
              "    [theme=dark] .colab-df-convert:hover {\n",
              "      background-color: #434B5C;\n",
              "      box-shadow: 0px 1px 3px 1px rgba(0, 0, 0, 0.15);\n",
              "      filter: drop-shadow(0px 1px 2px rgba(0, 0, 0, 0.3));\n",
              "      fill: #FFFFFF;\n",
              "    }\n",
              "  </style>\n",
              "\n",
              "    <script>\n",
              "      const buttonEl =\n",
              "        document.querySelector('#df-5fc0d4ae-dea4-4d1a-b9a8-f7e8f3f7f6d6 button.colab-df-convert');\n",
              "      buttonEl.style.display =\n",
              "        google.colab.kernel.accessAllowed ? 'block' : 'none';\n",
              "\n",
              "      async function convertToInteractive(key) {\n",
              "        const element = document.querySelector('#df-5fc0d4ae-dea4-4d1a-b9a8-f7e8f3f7f6d6');\n",
              "        const dataTable =\n",
              "          await google.colab.kernel.invokeFunction('convertToInteractive',\n",
              "                                                    [key], {});\n",
              "        if (!dataTable) return;\n",
              "\n",
              "        const docLinkHtml = 'Like what you see? Visit the ' +\n",
              "          '<a target=\"_blank\" href=https://colab.research.google.com/notebooks/data_table.ipynb>data table notebook</a>'\n",
              "          + ' to learn more about interactive tables.';\n",
              "        element.innerHTML = '';\n",
              "        dataTable['output_type'] = 'display_data';\n",
              "        await google.colab.output.renderOutput(dataTable, element);\n",
              "        const docLink = document.createElement('div');\n",
              "        docLink.innerHTML = docLinkHtml;\n",
              "        element.appendChild(docLink);\n",
              "      }\n",
              "    </script>\n",
              "  </div>\n",
              "\n",
              "\n",
              "<div id=\"df-7ca625cb-69e3-479c-bce4-9dbd354bf88c\">\n",
              "  <button class=\"colab-df-quickchart\" onclick=\"quickchart('df-7ca625cb-69e3-479c-bce4-9dbd354bf88c')\"\n",
              "            title=\"Suggest charts.\"\n",
              "            style=\"display:none;\">\n",
              "\n",
              "<svg xmlns=\"http://www.w3.org/2000/svg\" height=\"24px\"viewBox=\"0 0 24 24\"\n",
              "     width=\"24px\">\n",
              "    <g>\n",
              "        <path d=\"M19 3H5c-1.1 0-2 .9-2 2v14c0 1.1.9 2 2 2h14c1.1 0 2-.9 2-2V5c0-1.1-.9-2-2-2zM9 17H7v-7h2v7zm4 0h-2V7h2v10zm4 0h-2v-4h2v4z\"/>\n",
              "    </g>\n",
              "</svg>\n",
              "  </button>\n",
              "\n",
              "<style>\n",
              "  .colab-df-quickchart {\n",
              "      --bg-color: #E8F0FE;\n",
              "      --fill-color: #1967D2;\n",
              "      --hover-bg-color: #E2EBFA;\n",
              "      --hover-fill-color: #174EA6;\n",
              "      --disabled-fill-color: #AAA;\n",
              "      --disabled-bg-color: #DDD;\n",
              "  }\n",
              "\n",
              "  [theme=dark] .colab-df-quickchart {\n",
              "      --bg-color: #3B4455;\n",
              "      --fill-color: #D2E3FC;\n",
              "      --hover-bg-color: #434B5C;\n",
              "      --hover-fill-color: #FFFFFF;\n",
              "      --disabled-bg-color: #3B4455;\n",
              "      --disabled-fill-color: #666;\n",
              "  }\n",
              "\n",
              "  .colab-df-quickchart {\n",
              "    background-color: var(--bg-color);\n",
              "    border: none;\n",
              "    border-radius: 50%;\n",
              "    cursor: pointer;\n",
              "    display: none;\n",
              "    fill: var(--fill-color);\n",
              "    height: 32px;\n",
              "    padding: 0;\n",
              "    width: 32px;\n",
              "  }\n",
              "\n",
              "  .colab-df-quickchart:hover {\n",
              "    background-color: var(--hover-bg-color);\n",
              "    box-shadow: 0 1px 2px rgba(60, 64, 67, 0.3), 0 1px 3px 1px rgba(60, 64, 67, 0.15);\n",
              "    fill: var(--button-hover-fill-color);\n",
              "  }\n",
              "\n",
              "  .colab-df-quickchart-complete:disabled,\n",
              "  .colab-df-quickchart-complete:disabled:hover {\n",
              "    background-color: var(--disabled-bg-color);\n",
              "    fill: var(--disabled-fill-color);\n",
              "    box-shadow: none;\n",
              "  }\n",
              "\n",
              "  .colab-df-spinner {\n",
              "    border: 2px solid var(--fill-color);\n",
              "    border-color: transparent;\n",
              "    border-bottom-color: var(--fill-color);\n",
              "    animation:\n",
              "      spin 1s steps(1) infinite;\n",
              "  }\n",
              "\n",
              "  @keyframes spin {\n",
              "    0% {\n",
              "      border-color: transparent;\n",
              "      border-bottom-color: var(--fill-color);\n",
              "      border-left-color: var(--fill-color);\n",
              "    }\n",
              "    20% {\n",
              "      border-color: transparent;\n",
              "      border-left-color: var(--fill-color);\n",
              "      border-top-color: var(--fill-color);\n",
              "    }\n",
              "    30% {\n",
              "      border-color: transparent;\n",
              "      border-left-color: var(--fill-color);\n",
              "      border-top-color: var(--fill-color);\n",
              "      border-right-color: var(--fill-color);\n",
              "    }\n",
              "    40% {\n",
              "      border-color: transparent;\n",
              "      border-right-color: var(--fill-color);\n",
              "      border-top-color: var(--fill-color);\n",
              "    }\n",
              "    60% {\n",
              "      border-color: transparent;\n",
              "      border-right-color: var(--fill-color);\n",
              "    }\n",
              "    80% {\n",
              "      border-color: transparent;\n",
              "      border-right-color: var(--fill-color);\n",
              "      border-bottom-color: var(--fill-color);\n",
              "    }\n",
              "    90% {\n",
              "      border-color: transparent;\n",
              "      border-bottom-color: var(--fill-color);\n",
              "    }\n",
              "  }\n",
              "</style>\n",
              "\n",
              "  <script>\n",
              "    async function quickchart(key) {\n",
              "      const quickchartButtonEl =\n",
              "        document.querySelector('#' + key + ' button');\n",
              "      quickchartButtonEl.disabled = true;  // To prevent multiple clicks.\n",
              "      quickchartButtonEl.classList.add('colab-df-spinner');\n",
              "      try {\n",
              "        const charts = await google.colab.kernel.invokeFunction(\n",
              "            'suggestCharts', [key], {});\n",
              "      } catch (error) {\n",
              "        console.error('Error during call to suggestCharts:', error);\n",
              "      }\n",
              "      quickchartButtonEl.classList.remove('colab-df-spinner');\n",
              "      quickchartButtonEl.classList.add('colab-df-quickchart-complete');\n",
              "    }\n",
              "    (() => {\n",
              "      let quickchartButtonEl =\n",
              "        document.querySelector('#df-7ca625cb-69e3-479c-bce4-9dbd354bf88c button');\n",
              "      quickchartButtonEl.style.display =\n",
              "        google.colab.kernel.accessAllowed ? 'block' : 'none';\n",
              "    })();\n",
              "  </script>\n",
              "</div>\n",
              "    </div>\n",
              "  </div>\n"
            ]
          },
          "metadata": {},
          "execution_count": 106
        }
      ]
    },
    {
      "cell_type": "markdown",
      "source": [
        "\n",
        "\n",
        "> **Feature Selection**\n",
        "\n",
        "\n",
        "\n"
      ],
      "metadata": {
        "id": "Zkt_M9VrNvXp"
      }
    },
    {
      "cell_type": "code",
      "source": [
        "mv_feature=mv[['Movie_Genre',  'Movie_Keywords', 'Movie_Tagline', 'Movie_Cast','Movie_Director']].fillna('')"
      ],
      "metadata": {
        "id": "e6Or3lSNjV9A"
      },
      "execution_count": null,
      "outputs": []
    },
    {
      "cell_type": "code",
      "source": [
        "mv_feature.shape"
      ],
      "metadata": {
        "colab": {
          "base_uri": "https://localhost:8080/"
        },
        "id": "CGQVeGA6jWIX",
        "outputId": "6ee5f6c8-7374-4c71-dcb7-73a328c3d728"
      },
      "execution_count": null,
      "outputs": [
        {
          "output_type": "execute_result",
          "data": {
            "text/plain": [
              "(4760, 5)"
            ]
          },
          "metadata": {},
          "execution_count": 108
        }
      ]
    },
    {
      "cell_type": "code",
      "source": [
        "mv_feature"
      ],
      "metadata": {
        "colab": {
          "base_uri": "https://localhost:8080/",
          "height": 527
        },
        "id": "m5FYDLeDmnxO",
        "outputId": "9a36073c-07cb-4924-ea5d-d7877313a921"
      },
      "execution_count": null,
      "outputs": [
        {
          "output_type": "execute_result",
          "data": {
            "text/plain": [
              "                           Movie_Genre  \\\n",
              "0                         Crime Comedy   \n",
              "1     Adventure Action Science Fiction   \n",
              "2                     Animation Family   \n",
              "3                 Comedy Drama Romance   \n",
              "4                                Drama   \n",
              "...                                ...   \n",
              "4755                            Horror   \n",
              "4756               Comedy Family Drama   \n",
              "4757                    Thriller Drama   \n",
              "4758                            Family   \n",
              "4759                       Documentary   \n",
              "\n",
              "                                         Movie_Keywords  \\\n",
              "0             hotel new year's eve witch bet hotel room   \n",
              "1           android galaxy hermit death star lightsaber   \n",
              "2     father son relationship harbor underwater fish...   \n",
              "3     vietnam veteran hippie mentally disabled runni...   \n",
              "4     male nudity female nudity adultery midlife cri...   \n",
              "...                                                 ...   \n",
              "4755                                                      \n",
              "4756                                                      \n",
              "4757                     christian film sex trafficking   \n",
              "4758                                                      \n",
              "4759  music actors legendary perfomer classic hollyw...   \n",
              "\n",
              "                                          Movie_Tagline  \\\n",
              "0     Twelve outrageous guests. Four scandalous requ...   \n",
              "1          A long time ago in a galaxy far, far away...   \n",
              "2     There are 3.7 trillion fish in the ocean, they...   \n",
              "3     The world will never be the same, once you've ...   \n",
              "4                                          Look closer.   \n",
              "...                                                 ...   \n",
              "4755                The hot spot where Satan's waitin'.   \n",
              "4756           It’s better to stand out than to fit in.   \n",
              "4757           She never knew it could happen to her...   \n",
              "4758                                                      \n",
              "4759                                                      \n",
              "\n",
              "                                             Movie_Cast     Movie_Director  \n",
              "0     Tim Roth Antonio Banderas Jennifer Beals Madon...     Allison Anders  \n",
              "1     Mark Hamill Harrison Ford Carrie Fisher Peter ...       George Lucas  \n",
              "2     Albert Brooks Ellen DeGeneres Alexander Gould ...     Andrew Stanton  \n",
              "3     Tom Hanks Robin Wright Gary Sinise Mykelti Wil...    Robert Zemeckis  \n",
              "4     Kevin Spacey Annette Bening Thora Birch Wes Be...         Sam Mendes  \n",
              "...                                                 ...                ...  \n",
              "4755  Lisa Hart Carroll Michael Des Barres Paul Drak...         Pece Dingo  \n",
              "4756  Roni Akurati Brighton Sharbino Jason Lee Anjul...       Frank Lotito  \n",
              "4757  Nicole Smolen Kim Baldwin Ariana Stephens Brys...       Jaco Booyens  \n",
              "4758                                                                        \n",
              "4759                                    Tony Oppedisano  Simon Napier-Bell  \n",
              "\n",
              "[4760 rows x 5 columns]"
            ],
            "text/html": [
              "\n",
              "  <div id=\"df-0d86c288-45e8-477d-8952-d8dac9185b71\" class=\"colab-df-container\">\n",
              "    <div>\n",
              "<style scoped>\n",
              "    .dataframe tbody tr th:only-of-type {\n",
              "        vertical-align: middle;\n",
              "    }\n",
              "\n",
              "    .dataframe tbody tr th {\n",
              "        vertical-align: top;\n",
              "    }\n",
              "\n",
              "    .dataframe thead th {\n",
              "        text-align: right;\n",
              "    }\n",
              "</style>\n",
              "<table border=\"1\" class=\"dataframe\">\n",
              "  <thead>\n",
              "    <tr style=\"text-align: right;\">\n",
              "      <th></th>\n",
              "      <th>Movie_Genre</th>\n",
              "      <th>Movie_Keywords</th>\n",
              "      <th>Movie_Tagline</th>\n",
              "      <th>Movie_Cast</th>\n",
              "      <th>Movie_Director</th>\n",
              "    </tr>\n",
              "  </thead>\n",
              "  <tbody>\n",
              "    <tr>\n",
              "      <th>0</th>\n",
              "      <td>Crime Comedy</td>\n",
              "      <td>hotel new year's eve witch bet hotel room</td>\n",
              "      <td>Twelve outrageous guests. Four scandalous requ...</td>\n",
              "      <td>Tim Roth Antonio Banderas Jennifer Beals Madon...</td>\n",
              "      <td>Allison Anders</td>\n",
              "    </tr>\n",
              "    <tr>\n",
              "      <th>1</th>\n",
              "      <td>Adventure Action Science Fiction</td>\n",
              "      <td>android galaxy hermit death star lightsaber</td>\n",
              "      <td>A long time ago in a galaxy far, far away...</td>\n",
              "      <td>Mark Hamill Harrison Ford Carrie Fisher Peter ...</td>\n",
              "      <td>George Lucas</td>\n",
              "    </tr>\n",
              "    <tr>\n",
              "      <th>2</th>\n",
              "      <td>Animation Family</td>\n",
              "      <td>father son relationship harbor underwater fish...</td>\n",
              "      <td>There are 3.7 trillion fish in the ocean, they...</td>\n",
              "      <td>Albert Brooks Ellen DeGeneres Alexander Gould ...</td>\n",
              "      <td>Andrew Stanton</td>\n",
              "    </tr>\n",
              "    <tr>\n",
              "      <th>3</th>\n",
              "      <td>Comedy Drama Romance</td>\n",
              "      <td>vietnam veteran hippie mentally disabled runni...</td>\n",
              "      <td>The world will never be the same, once you've ...</td>\n",
              "      <td>Tom Hanks Robin Wright Gary Sinise Mykelti Wil...</td>\n",
              "      <td>Robert Zemeckis</td>\n",
              "    </tr>\n",
              "    <tr>\n",
              "      <th>4</th>\n",
              "      <td>Drama</td>\n",
              "      <td>male nudity female nudity adultery midlife cri...</td>\n",
              "      <td>Look closer.</td>\n",
              "      <td>Kevin Spacey Annette Bening Thora Birch Wes Be...</td>\n",
              "      <td>Sam Mendes</td>\n",
              "    </tr>\n",
              "    <tr>\n",
              "      <th>...</th>\n",
              "      <td>...</td>\n",
              "      <td>...</td>\n",
              "      <td>...</td>\n",
              "      <td>...</td>\n",
              "      <td>...</td>\n",
              "    </tr>\n",
              "    <tr>\n",
              "      <th>4755</th>\n",
              "      <td>Horror</td>\n",
              "      <td></td>\n",
              "      <td>The hot spot where Satan's waitin'.</td>\n",
              "      <td>Lisa Hart Carroll Michael Des Barres Paul Drak...</td>\n",
              "      <td>Pece Dingo</td>\n",
              "    </tr>\n",
              "    <tr>\n",
              "      <th>4756</th>\n",
              "      <td>Comedy Family Drama</td>\n",
              "      <td></td>\n",
              "      <td>It’s better to stand out than to fit in.</td>\n",
              "      <td>Roni Akurati Brighton Sharbino Jason Lee Anjul...</td>\n",
              "      <td>Frank Lotito</td>\n",
              "    </tr>\n",
              "    <tr>\n",
              "      <th>4757</th>\n",
              "      <td>Thriller Drama</td>\n",
              "      <td>christian film sex trafficking</td>\n",
              "      <td>She never knew it could happen to her...</td>\n",
              "      <td>Nicole Smolen Kim Baldwin Ariana Stephens Brys...</td>\n",
              "      <td>Jaco Booyens</td>\n",
              "    </tr>\n",
              "    <tr>\n",
              "      <th>4758</th>\n",
              "      <td>Family</td>\n",
              "      <td></td>\n",
              "      <td></td>\n",
              "      <td></td>\n",
              "      <td></td>\n",
              "    </tr>\n",
              "    <tr>\n",
              "      <th>4759</th>\n",
              "      <td>Documentary</td>\n",
              "      <td>music actors legendary perfomer classic hollyw...</td>\n",
              "      <td></td>\n",
              "      <td>Tony Oppedisano</td>\n",
              "      <td>Simon Napier-Bell</td>\n",
              "    </tr>\n",
              "  </tbody>\n",
              "</table>\n",
              "<p>4760 rows × 5 columns</p>\n",
              "</div>\n",
              "    <div class=\"colab-df-buttons\">\n",
              "\n",
              "  <div class=\"colab-df-container\">\n",
              "    <button class=\"colab-df-convert\" onclick=\"convertToInteractive('df-0d86c288-45e8-477d-8952-d8dac9185b71')\"\n",
              "            title=\"Convert this dataframe to an interactive table.\"\n",
              "            style=\"display:none;\">\n",
              "\n",
              "  <svg xmlns=\"http://www.w3.org/2000/svg\" height=\"24px\" viewBox=\"0 -960 960 960\">\n",
              "    <path d=\"M120-120v-720h720v720H120Zm60-500h600v-160H180v160Zm220 220h160v-160H400v160Zm0 220h160v-160H400v160ZM180-400h160v-160H180v160Zm440 0h160v-160H620v160ZM180-180h160v-160H180v160Zm440 0h160v-160H620v160Z\"/>\n",
              "  </svg>\n",
              "    </button>\n",
              "\n",
              "  <style>\n",
              "    .colab-df-container {\n",
              "      display:flex;\n",
              "      gap: 12px;\n",
              "    }\n",
              "\n",
              "    .colab-df-convert {\n",
              "      background-color: #E8F0FE;\n",
              "      border: none;\n",
              "      border-radius: 50%;\n",
              "      cursor: pointer;\n",
              "      display: none;\n",
              "      fill: #1967D2;\n",
              "      height: 32px;\n",
              "      padding: 0 0 0 0;\n",
              "      width: 32px;\n",
              "    }\n",
              "\n",
              "    .colab-df-convert:hover {\n",
              "      background-color: #E2EBFA;\n",
              "      box-shadow: 0px 1px 2px rgba(60, 64, 67, 0.3), 0px 1px 3px 1px rgba(60, 64, 67, 0.15);\n",
              "      fill: #174EA6;\n",
              "    }\n",
              "\n",
              "    .colab-df-buttons div {\n",
              "      margin-bottom: 4px;\n",
              "    }\n",
              "\n",
              "    [theme=dark] .colab-df-convert {\n",
              "      background-color: #3B4455;\n",
              "      fill: #D2E3FC;\n",
              "    }\n",
              "\n",
              "    [theme=dark] .colab-df-convert:hover {\n",
              "      background-color: #434B5C;\n",
              "      box-shadow: 0px 1px 3px 1px rgba(0, 0, 0, 0.15);\n",
              "      filter: drop-shadow(0px 1px 2px rgba(0, 0, 0, 0.3));\n",
              "      fill: #FFFFFF;\n",
              "    }\n",
              "  </style>\n",
              "\n",
              "    <script>\n",
              "      const buttonEl =\n",
              "        document.querySelector('#df-0d86c288-45e8-477d-8952-d8dac9185b71 button.colab-df-convert');\n",
              "      buttonEl.style.display =\n",
              "        google.colab.kernel.accessAllowed ? 'block' : 'none';\n",
              "\n",
              "      async function convertToInteractive(key) {\n",
              "        const element = document.querySelector('#df-0d86c288-45e8-477d-8952-d8dac9185b71');\n",
              "        const dataTable =\n",
              "          await google.colab.kernel.invokeFunction('convertToInteractive',\n",
              "                                                    [key], {});\n",
              "        if (!dataTable) return;\n",
              "\n",
              "        const docLinkHtml = 'Like what you see? Visit the ' +\n",
              "          '<a target=\"_blank\" href=https://colab.research.google.com/notebooks/data_table.ipynb>data table notebook</a>'\n",
              "          + ' to learn more about interactive tables.';\n",
              "        element.innerHTML = '';\n",
              "        dataTable['output_type'] = 'display_data';\n",
              "        await google.colab.output.renderOutput(dataTable, element);\n",
              "        const docLink = document.createElement('div');\n",
              "        docLink.innerHTML = docLinkHtml;\n",
              "        element.appendChild(docLink);\n",
              "      }\n",
              "    </script>\n",
              "  </div>\n",
              "\n",
              "\n",
              "<div id=\"df-f4df8ac1-ea94-474f-a4aa-1a6ac660409b\">\n",
              "  <button class=\"colab-df-quickchart\" onclick=\"quickchart('df-f4df8ac1-ea94-474f-a4aa-1a6ac660409b')\"\n",
              "            title=\"Suggest charts.\"\n",
              "            style=\"display:none;\">\n",
              "\n",
              "<svg xmlns=\"http://www.w3.org/2000/svg\" height=\"24px\"viewBox=\"0 0 24 24\"\n",
              "     width=\"24px\">\n",
              "    <g>\n",
              "        <path d=\"M19 3H5c-1.1 0-2 .9-2 2v14c0 1.1.9 2 2 2h14c1.1 0 2-.9 2-2V5c0-1.1-.9-2-2-2zM9 17H7v-7h2v7zm4 0h-2V7h2v10zm4 0h-2v-4h2v4z\"/>\n",
              "    </g>\n",
              "</svg>\n",
              "  </button>\n",
              "\n",
              "<style>\n",
              "  .colab-df-quickchart {\n",
              "      --bg-color: #E8F0FE;\n",
              "      --fill-color: #1967D2;\n",
              "      --hover-bg-color: #E2EBFA;\n",
              "      --hover-fill-color: #174EA6;\n",
              "      --disabled-fill-color: #AAA;\n",
              "      --disabled-bg-color: #DDD;\n",
              "  }\n",
              "\n",
              "  [theme=dark] .colab-df-quickchart {\n",
              "      --bg-color: #3B4455;\n",
              "      --fill-color: #D2E3FC;\n",
              "      --hover-bg-color: #434B5C;\n",
              "      --hover-fill-color: #FFFFFF;\n",
              "      --disabled-bg-color: #3B4455;\n",
              "      --disabled-fill-color: #666;\n",
              "  }\n",
              "\n",
              "  .colab-df-quickchart {\n",
              "    background-color: var(--bg-color);\n",
              "    border: none;\n",
              "    border-radius: 50%;\n",
              "    cursor: pointer;\n",
              "    display: none;\n",
              "    fill: var(--fill-color);\n",
              "    height: 32px;\n",
              "    padding: 0;\n",
              "    width: 32px;\n",
              "  }\n",
              "\n",
              "  .colab-df-quickchart:hover {\n",
              "    background-color: var(--hover-bg-color);\n",
              "    box-shadow: 0 1px 2px rgba(60, 64, 67, 0.3), 0 1px 3px 1px rgba(60, 64, 67, 0.15);\n",
              "    fill: var(--button-hover-fill-color);\n",
              "  }\n",
              "\n",
              "  .colab-df-quickchart-complete:disabled,\n",
              "  .colab-df-quickchart-complete:disabled:hover {\n",
              "    background-color: var(--disabled-bg-color);\n",
              "    fill: var(--disabled-fill-color);\n",
              "    box-shadow: none;\n",
              "  }\n",
              "\n",
              "  .colab-df-spinner {\n",
              "    border: 2px solid var(--fill-color);\n",
              "    border-color: transparent;\n",
              "    border-bottom-color: var(--fill-color);\n",
              "    animation:\n",
              "      spin 1s steps(1) infinite;\n",
              "  }\n",
              "\n",
              "  @keyframes spin {\n",
              "    0% {\n",
              "      border-color: transparent;\n",
              "      border-bottom-color: var(--fill-color);\n",
              "      border-left-color: var(--fill-color);\n",
              "    }\n",
              "    20% {\n",
              "      border-color: transparent;\n",
              "      border-left-color: var(--fill-color);\n",
              "      border-top-color: var(--fill-color);\n",
              "    }\n",
              "    30% {\n",
              "      border-color: transparent;\n",
              "      border-left-color: var(--fill-color);\n",
              "      border-top-color: var(--fill-color);\n",
              "      border-right-color: var(--fill-color);\n",
              "    }\n",
              "    40% {\n",
              "      border-color: transparent;\n",
              "      border-right-color: var(--fill-color);\n",
              "      border-top-color: var(--fill-color);\n",
              "    }\n",
              "    60% {\n",
              "      border-color: transparent;\n",
              "      border-right-color: var(--fill-color);\n",
              "    }\n",
              "    80% {\n",
              "      border-color: transparent;\n",
              "      border-right-color: var(--fill-color);\n",
              "      border-bottom-color: var(--fill-color);\n",
              "    }\n",
              "    90% {\n",
              "      border-color: transparent;\n",
              "      border-bottom-color: var(--fill-color);\n",
              "    }\n",
              "  }\n",
              "</style>\n",
              "\n",
              "  <script>\n",
              "    async function quickchart(key) {\n",
              "      const quickchartButtonEl =\n",
              "        document.querySelector('#' + key + ' button');\n",
              "      quickchartButtonEl.disabled = true;  // To prevent multiple clicks.\n",
              "      quickchartButtonEl.classList.add('colab-df-spinner');\n",
              "      try {\n",
              "        const charts = await google.colab.kernel.invokeFunction(\n",
              "            'suggestCharts', [key], {});\n",
              "      } catch (error) {\n",
              "        console.error('Error during call to suggestCharts:', error);\n",
              "      }\n",
              "      quickchartButtonEl.classList.remove('colab-df-spinner');\n",
              "      quickchartButtonEl.classList.add('colab-df-quickchart-complete');\n",
              "    }\n",
              "    (() => {\n",
              "      let quickchartButtonEl =\n",
              "        document.querySelector('#df-f4df8ac1-ea94-474f-a4aa-1a6ac660409b button');\n",
              "      quickchartButtonEl.style.display =\n",
              "        google.colab.kernel.accessAllowed ? 'block' : 'none';\n",
              "    })();\n",
              "  </script>\n",
              "</div>\n",
              "    </div>\n",
              "  </div>\n"
            ]
          },
          "metadata": {},
          "execution_count": 109
        }
      ]
    },
    {
      "cell_type": "code",
      "source": [
        "X=mv_feature['Movie_Genre']+' '+mv_feature['Movie_Keywords']+' '+mv_feature['Movie_Tagline']+' '+mv_feature['Movie_Cast']+' '+mv_feature['Movie_Director']"
      ],
      "metadata": {
        "id": "aRRO8-LZnA9c"
      },
      "execution_count": null,
      "outputs": []
    },
    {
      "cell_type": "code",
      "source": [
        "X"
      ],
      "metadata": {
        "colab": {
          "base_uri": "https://localhost:8080/"
        },
        "id": "SfNTjwXSoHE1",
        "outputId": "c373bca4-5b8f-4a35-8350-831f081c601f"
      },
      "execution_count": null,
      "outputs": [
        {
          "output_type": "execute_result",
          "data": {
            "text/plain": [
              "0       Crime Comedy hotel new year's eve witch bet ho...\n",
              "1       Adventure Action Science Fiction android galax...\n",
              "2       Animation Family father son relationship harbo...\n",
              "3       Comedy Drama Romance vietnam veteran hippie me...\n",
              "4       Drama male nudity female nudity adultery midli...\n",
              "                              ...                        \n",
              "4755    Horror  The hot spot where Satan's waitin'. Li...\n",
              "4756    Comedy Family Drama  It’s better to stand out ...\n",
              "4757    Thriller Drama christian film sex trafficking ...\n",
              "4758                                           Family    \n",
              "4759    Documentary music actors legendary perfomer cl...\n",
              "Length: 4760, dtype: object"
            ]
          },
          "metadata": {},
          "execution_count": 111
        }
      ]
    },
    {
      "cell_type": "code",
      "source": [
        "X.shape"
      ],
      "metadata": {
        "colab": {
          "base_uri": "https://localhost:8080/"
        },
        "id": "DpwLM4KMpIfy",
        "outputId": "65a55346-0964-42fd-d3d2-f292e3a129fa"
      },
      "execution_count": null,
      "outputs": [
        {
          "output_type": "execute_result",
          "data": {
            "text/plain": [
              "(4760,)"
            ]
          },
          "metadata": {},
          "execution_count": 112
        }
      ]
    },
    {
      "cell_type": "markdown",
      "source": [
        "\n",
        "\n",
        "> **Modeling**\n",
        "\n"
      ],
      "metadata": {
        "id": "BAe7CO75ObO7"
      }
    },
    {
      "cell_type": "code",
      "source": [
        "from sklearn.feature_extraction.text import TfidfVectorizer"
      ],
      "metadata": {
        "id": "L5ZfYIAGpMoV"
      },
      "execution_count": null,
      "outputs": []
    },
    {
      "cell_type": "code",
      "source": [
        "model =TfidfVectorizer()"
      ],
      "metadata": {
        "id": "7bCwVELBpNHl"
      },
      "execution_count": null,
      "outputs": []
    },
    {
      "cell_type": "code",
      "source": [
        "X=model.fit_transform(X)"
      ],
      "metadata": {
        "id": "yogSJftCpNLO"
      },
      "execution_count": null,
      "outputs": []
    },
    {
      "cell_type": "code",
      "source": [
        "X.shape"
      ],
      "metadata": {
        "colab": {
          "base_uri": "https://localhost:8080/"
        },
        "id": "MHV-7pjArsV7",
        "outputId": "e1c9c8e0-4d15-4fdf-b315-9ce11bdd5909"
      },
      "execution_count": null,
      "outputs": [
        {
          "output_type": "execute_result",
          "data": {
            "text/plain": [
              "(4760, 17258)"
            ]
          },
          "metadata": {},
          "execution_count": 116
        }
      ]
    },
    {
      "cell_type": "code",
      "source": [
        "print(X)"
      ],
      "metadata": {
        "colab": {
          "base_uri": "https://localhost:8080/"
        },
        "id": "vdO5iNltsSr5",
        "outputId": "c3507533-17d0-45e1-cacd-f9a53c7d4045"
      },
      "execution_count": null,
      "outputs": [
        {
          "output_type": "stream",
          "name": "stdout",
          "text": [
            "  (0, 617)\t0.1633382144407513\n",
            "  (0, 492)\t0.1432591540388685\n",
            "  (0, 15413)\t0.1465525095337543\n",
            "  (0, 9675)\t0.14226057295252661\n",
            "  (0, 9465)\t0.1659841367820977\n",
            "  (0, 1390)\t0.16898383612799558\n",
            "  (0, 7825)\t0.09799561597509843\n",
            "  (0, 1214)\t0.13865857545144072\n",
            "  (0, 729)\t0.13415063359531618\n",
            "  (0, 13093)\t0.1432591540388685\n",
            "  (0, 15355)\t0.10477815972666779\n",
            "  (0, 9048)\t0.0866842116160778\n",
            "  (0, 11161)\t0.06250380151644369\n",
            "  (0, 16773)\t0.17654247479915475\n",
            "  (0, 5612)\t0.08603537588547631\n",
            "  (0, 16735)\t0.10690083751525419\n",
            "  (0, 7904)\t0.13348000542112332\n",
            "  (0, 15219)\t0.09800472886453934\n",
            "  (0, 11242)\t0.07277788238484746\n",
            "  (0, 3878)\t0.11998399582562203\n",
            "  (0, 5499)\t0.11454057510303811\n",
            "  (0, 7071)\t0.19822417598406614\n",
            "  (0, 7454)\t0.14745635785412262\n",
            "  (0, 1495)\t0.19712637387361423\n",
            "  (0, 9206)\t0.15186283580984414\n",
            "  :\t:\n",
            "  (4757, 5455)\t0.12491480594769522\n",
            "  (4757, 2967)\t0.16273475835631626\n",
            "  (4757, 8464)\t0.23522565554066333\n",
            "  (4757, 6938)\t0.17088173678136628\n",
            "  (4757, 8379)\t0.17480603856721913\n",
            "  (4757, 15303)\t0.07654356007668191\n",
            "  (4757, 15384)\t0.09754322497537371\n",
            "  (4757, 7649)\t0.11479421494340192\n",
            "  (4757, 10896)\t0.14546473055066447\n",
            "  (4757, 4494)\t0.05675298448720501\n",
            "  (4758, 5238)\t1.0\n",
            "  (4759, 11264)\t0.33947721804318337\n",
            "  (4759, 11708)\t0.33947721804318337\n",
            "  (4759, 205)\t0.3237911628497312\n",
            "  (4759, 8902)\t0.3040290704566037\n",
            "  (4759, 14062)\t0.3237911628497312\n",
            "  (4759, 3058)\t0.2812896191863103\n",
            "  (4759, 7130)\t0.26419662449963793\n",
            "  (4759, 10761)\t0.3126617295732147\n",
            "  (4759, 4358)\t0.18306542312175342\n",
            "  (4759, 14051)\t0.20084315377640435\n",
            "  (4759, 5690)\t0.19534291014627303\n",
            "  (4759, 15431)\t0.19628653185946862\n",
            "  (4759, 1490)\t0.21197258705292082\n",
            "  (4759, 10666)\t0.15888268987343043\n"
          ]
        }
      ]
    },
    {
      "cell_type": "markdown",
      "source": [
        "\n",
        "\n",
        "> **Cosine Similarity**\n",
        "\n"
      ],
      "metadata": {
        "id": "bXjEODp4PEBI"
      }
    },
    {
      "cell_type": "code",
      "source": [
        "from sklearn.metrics.pairwise import cosine_similarity"
      ],
      "metadata": {
        "id": "LjBn5PxFu6UX"
      },
      "execution_count": null,
      "outputs": []
    },
    {
      "cell_type": "code",
      "source": [
        "Similarity_score=cosine_similarity(X)"
      ],
      "metadata": {
        "id": "UnVtjZMwvNbc"
      },
      "execution_count": null,
      "outputs": []
    },
    {
      "cell_type": "code",
      "source": [
        "Similarity_score"
      ],
      "metadata": {
        "colab": {
          "base_uri": "https://localhost:8080/"
        },
        "id": "EqHEts3cwAfY",
        "outputId": "6d7ab8f1-3f03-4fb8-e782-bed2f360a37e"
      },
      "execution_count": null,
      "outputs": [
        {
          "output_type": "execute_result",
          "data": {
            "text/plain": [
              "array([[1.        , 0.01351235, 0.03570468, ..., 0.        , 0.        ,\n",
              "        0.        ],\n",
              "       [0.01351235, 1.        , 0.00806674, ..., 0.        , 0.        ,\n",
              "        0.        ],\n",
              "       [0.03570468, 0.00806674, 1.        , ..., 0.        , 0.08014876,\n",
              "        0.        ],\n",
              "       ...,\n",
              "       [0.        , 0.        , 0.        , ..., 1.        , 0.        ,\n",
              "        0.        ],\n",
              "       [0.        , 0.        , 0.08014876, ..., 0.        , 1.        ,\n",
              "        0.        ],\n",
              "       [0.        , 0.        , 0.        , ..., 0.        , 0.        ,\n",
              "        1.        ]])"
            ]
          },
          "metadata": {},
          "execution_count": 120
        }
      ]
    },
    {
      "cell_type": "code",
      "source": [
        "Similarity_score.shape"
      ],
      "metadata": {
        "colab": {
          "base_uri": "https://localhost:8080/"
        },
        "id": "9x_BDG3JwLTv",
        "outputId": "68d199ad-8c2c-44a1-971c-6b892b4c147d"
      },
      "execution_count": null,
      "outputs": [
        {
          "output_type": "execute_result",
          "data": {
            "text/plain": [
              "(4760, 4760)"
            ]
          },
          "metadata": {},
          "execution_count": 121
        }
      ]
    },
    {
      "cell_type": "code",
      "source": [
        "Favourit_Movie_Name=input('Enter your favourite movie name: ')"
      ],
      "metadata": {
        "colab": {
          "base_uri": "https://localhost:8080/"
        },
        "id": "BZwEE0PhwLkX",
        "outputId": "f1995718-e0d0-410c-b4ec-59fe8765a199"
      },
      "execution_count": null,
      "outputs": [
        {
          "name": "stdout",
          "output_type": "stream",
          "text": [
            "Enter your favourite movie name: ramayan\n"
          ]
        }
      ]
    },
    {
      "cell_type": "code",
      "source": [
        "All_movies_Title_list= mv['Movie_Title'].tolist()"
      ],
      "metadata": {
        "id": "ADj965caw9NO"
      },
      "execution_count": null,
      "outputs": []
    },
    {
      "cell_type": "code",
      "source": [
        "import difflib as dl"
      ],
      "metadata": {
        "id": "pJO1HVTox1mE"
      },
      "execution_count": null,
      "outputs": []
    },
    {
      "cell_type": "code",
      "source": [
        "Movie_Recommandation= dl.get_close_matches(Favourit_Movie_Name,All_movies_Title_list)\n",
        "print(Movie_Recommandation)"
      ],
      "metadata": {
        "colab": {
          "base_uri": "https://localhost:8080/"
        },
        "id": "8ctYyCQIx19N",
        "outputId": "df040a04-077d-48cb-bdb0-4c1d71eb87e1"
      },
      "execution_count": null,
      "outputs": [
        {
          "output_type": "stream",
          "name": "stdout",
          "text": [
            "['Ramanujan', 'Taxman', 'Batman']\n"
          ]
        }
      ]
    },
    {
      "cell_type": "code",
      "source": [
        "close_match= Movie_Recommandation[0]\n",
        "print(close_match)"
      ],
      "metadata": {
        "id": "Ci34JAjGx2NP",
        "colab": {
          "base_uri": "https://localhost:8080/"
        },
        "outputId": "a4540375-4721-4b43-fe29-b93d293e91ca"
      },
      "execution_count": null,
      "outputs": [
        {
          "output_type": "stream",
          "name": "stdout",
          "text": [
            "Ramanujan\n"
          ]
        }
      ]
    },
    {
      "cell_type": "code",
      "source": [
        "Index_of_close_match_movie =mv[mv.Movie_Title==close_match]['Movie_ID'].values[0]\n",
        "print(Index_of_close_match_movie)"
      ],
      "metadata": {
        "colab": {
          "base_uri": "https://localhost:8080/"
        },
        "id": "xEA3wFKQEDJh",
        "outputId": "bb349ef0-d4bd-4450-c999-296a2c9a7301"
      },
      "execution_count": null,
      "outputs": [
        {
          "output_type": "stream",
          "name": "stdout",
          "text": [
            "4533\n"
          ]
        }
      ]
    },
    {
      "cell_type": "code",
      "source": [
        "Recommendation_Score =list(enumerate(Similarity_score[Index_of_close_match_movie]))\n",
        "print(Recommendation_Score)"
      ],
      "metadata": {
        "colab": {
          "base_uri": "https://localhost:8080/"
        },
        "id": "qL9UEMALEDoS",
        "outputId": "59628876-56d7-49e2-bf65-53f652a70446"
      },
      "execution_count": null,
      "outputs": [
        {
          "output_type": "stream",
          "name": "stdout",
          "text": [
            "[(0, 0.007543098320511742), (1, 0.006871904958999064), (2, 0.0), (3, 0.07660945587089843), (4, 0.0031538635917415262), (5, 0.0029980079874934664), (6, 0.014127862168176294), (7, 0.0021472668134412693), (8, 0.003246225986830281), (9, 0.007119691211077519), (10, 0.0), (11, 0.0030953471639979507), (12, 0.01747490407478228), (13, 0.0), (14, 0.0), (15, 0.043916862784532586), (16, 0.007023302215087716), (17, 0.008172628171289322), (18, 0.008079976228848913), (19, 0.017729924658761418), (20, 0.003126509141500415), (21, 0.009011074725869664), (22, 0.03976148315826081), (23, 0.029578025627212602), (24, 0.0019522709604667134), (25, 0.00247259227714474), (26, 0.0029246910034581995), (27, 0.013640027144972125), (28, 0.0), (29, 0.00284649424228977), (30, 0.0054790650301220906), (31, 0.019228694820089754), (32, 0.009368100144868842), (33, 0.002641614624222015), (34, 0.008768253635459178), (35, 0.007099089201952717), (36, 0.0140614050870852), (37, 0.00702336548260776), (38, 0.011995246299139915), (39, 0.05309028569634593), (40, 0.0), (41, 0.01188687618776291), (42, 0.0), (43, 0.024654494730533702), (44, 0.007014375506940345), (45, 0.06426053348508086), (46, 0.012204459869031275), (47, 0.004826180966121911), (48, 0.024021853592120463), (49, 0.0), (50, 0.0), (51, 0.008865565388299558), (52, 0.020845273679329337), (53, 0.030165442212198808), (54, 0.007813207610581994), (55, 0.03326298880898406), (56, 0.03241135449655003), (57, 0.015001737734610495), (58, 0.00645098808744121), (59, 0.007926656594104905), (60, 0.0025569696266954317), (61, 0.0029510977267037295), (62, 0.0033001468852769636), (63, 0.02279110756513387), (64, 0.0), (65, 0.04044141386918534), (66, 0.0029832835754259523), (67, 0.02280609558703623), (68, 0.008936633267231292), (69, 0.027615094054077895), (70, 0.005947064786238218), (71, 0.0030622477068359137), (72, 0.005273249992614662), (73, 0.06902490943642667), (74, 0.031543568543832175), (75, 0.01655721140364195), (76, 0.013000944685657257), (77, 0.00409792985128273), (78, 0.02760809030628393), (79, 0.035964603211576775), (80, 0.023044455044518963), (81, 0.03582686823854595), (82, 0.002268299306254099), (83, 0.005509897163263278), (84, 0.005323764082340122), (85, 0.0028755632385441803), (86, 0.020529479294750665), (87, 0.08576101054279939), (88, 0.05533757907381086), (89, 0.13480346200510945), (90, 0.036446348993436996), (91, 0.059942315848249696), (92, 0.002630536813965459), (93, 0.012576627411052917), (94, 0.012058407090738313), (95, 0.013507217816024805), (96, 0.015145369109688714), (97, 0.0026231515863804947), (98, 0.01602359195556917), (99, 0.00470242612709057), (100, 0.0), (101, 0.017060934095962516), (102, 0.01907167023361428), (103, 0.0025890018477432095), (104, 0.027300631391544733), (105, 0.04514524861085049), (106, 0.010380866015317519), (107, 0.009556922223463837), (108, 0.044849401673627054), (109, 0.028297501303281916), (110, 0.0), (111, 0.02762594225792004), (112, 0.018217531584476004), (113, 0.002458034438887656), (114, 0.002991957157745896), (115, 0.0030564339282499057), (116, 0.007952872560358506), (117, 0.023774398604449215), (118, 0.038138522066480454), (119, 0.010480710672235771), (120, 0.08601498364248059), (121, 0.012394231464254201), (122, 0.0), (123, 0.00327032048544152), (124, 0.029737029020304118), (125, 0.006224670292019606), (126, 0.0028202497646356737), (127, 0.02684072545636873), (128, 0.03420373518892528), (129, 0.0020872975137865373), (130, 0.013969088475198985), (131, 0.018190042395642227), (132, 0.002650060591370062), (133, 0.0), (134, 0.0), (135, 0.005432612661485492), (136, 0.002760317635960526), (137, 0.00559798381632988), (138, 0.07698631019964519), (139, 0.0), (140, 0.0027999897728937257), (141, 0.0), (142, 0.023483344481273608), (143, 0.0), (144, 0.005167137682697757), (145, 0.005542929837746996), (146, 0.0), (147, 0.007290203798429198), (148, 0.014459158662882663), (149, 0.01562610533389472), (150, 0.015062499795221954), (151, 0.007947479771832829), (152, 0.012751687899318662), (153, 0.00904241570928953), (154, 0.002805759698302085), (155, 0.0), (156, 0.010954967341141427), (157, 0.01558503281961542), (158, 0.002681250870508251), (159, 0.00233943064152839), (160, 0.0049837930390792505), (161, 0.002686773700060356), (162, 0.0), (163, 0.0), (164, 0.002844262434896766), (165, 0.030103106334122838), (166, 0.00744182097538541), (167, 0.01302769990758456), (168, 0.0), (169, 0.0029367878022753652), (170, 0.03077529406571763), (171, 0.0073030336429163656), (172, 0.0272153852876768), (173, 0.003132745875184719), (174, 0.0029524965554795866), (175, 0.017684564650660203), (176, 0.032038519868743794), (177, 0.0), (178, 0.003144433064393163), (179, 0.030598746519619652), (180, 0.0), (181, 0.0), (182, 0.010767897925627906), (183, 0.002741362002411676), (184, 0.07344262933111916), (185, 0.007273528677441661), (186, 0.0), (187, 0.004769305565124155), (188, 0.013287665474861527), (189, 0.013597576511899542), (190, 0.04876403949382152), (191, 0.014216328810854054), (192, 0.003232934347521922), (193, 0.0031603628225400464), (194, 0.002398238829154639), (195, 0.0025124470483356993), (196, 0.05851052905142625), (197, 0.0028223519844148915), (198, 0.0152279235692359), (199, 0.007683323578220921), (200, 0.04256223251648421), (201, 0.013699866420476697), (202, 0.001961374503716367), (203, 0.040432340692199045), (204, 0.0031228068807185112), (205, 0.0), (206, 0.04152834200623909), (207, 0.0061415046188911014), (208, 0.017114010158725303), (209, 0.0030161916959718115), (210, 0.009081546357635483), (211, 0.0031243718101415068), (212, 0.012620272495953795), (213, 0.0027820348575601206), (214, 0.016189853356026466), (215, 0.002936583612778921), (216, 0.06499657864456729), (217, 0.02194572658127291), (218, 0.019335457589913382), (219, 0.018507405708121625), (220, 0.005748428153061657), (221, 0.00284200304712279), (222, 0.00741658559571169), (223, 0.0), (224, 0.002286968060444816), (225, 0.07637897710620516), (226, 0.0029887044443082304), (227, 0.031782575248002216), (228, 0.002263816764246061), (229, 0.002786731256131971), (230, 0.011705089609289067), (231, 0.020671564132231632), (232, 0.021224507425664497), (233, 0.08307753145743997), (234, 0.01130108580275711), (235, 0.0033738320268560215), (236, 0.007915052959343832), (237, 0.017092482023527037), (238, 0.008594336192936536), (239, 0.028114700786140222), (240, 0.031126105559357537), (241, 0.041220046970838996), (242, 0.030149853905554545), (243, 0.005932444785947073), (244, 0.005319127845613496), (245, 0.012328782665792518), (246, 0.017402788562090335), (247, 0.018169580526812938), (248, 0.0), (249, 0.0026214380570754436), (250, 0.033097019770393615), (251, 0.0025619755450454304), (252, 0.03985378027817898), (253, 0.003268063298215347), (254, 0.05789194058913113), (255, 0.03240152068350208), (256, 0.027865617972229764), (257, 0.01839477888703237), (258, 0.007746094026905275), (259, 0.0), (260, 0.012454530423511894), (261, 0.012668792678329481), (262, 0.08723110799108222), (263, 0.007280651584880214), (264, 0.007704188713001091), (265, 0.0), (266, 0.04669722204304346), (267, 0.002533102188843462), (268, 0.0026659961389268096), (269, 0.0025648621492130996), (270, 0.0031261316462345484), (271, 0.006457821836685771), (272, 0.0), (273, 0.005276393997102354), (274, 0.046507153339284193), (275, 0.0), (276, 0.007945161113382683), (277, 0.02798251755435446), (278, 0.002574414852279057), (279, 0.002798285427928211), (280, 0.04540104737529757), (281, 0.0033744058191283767), (282, 0.04033320835235637), (283, 0.007817633954846482), (284, 0.03940752681744946), (285, 0.002707172327118092), (286, 0.009167038969933757), (287, 0.0028047413399350314), (288, 0.022509817658348745), (289, 0.010538848815120301), (290, 0.010715021565082706), (291, 0.004956132703307124), (292, 0.010364534024734152), (293, 0.0021253407591930603), (294, 0.010455102708510034), (295, 0.02051040153015598), (296, 0.006315409342208717), (297, 0.008139446771720883), (298, 0.008036807119051687), (299, 0.007692358182528685), (300, 0.007329711883341401), (301, 0.008138372857350598), (302, 0.03612135104913977), (303, 0.031985659421342696), (304, 0.0050128895710734745), (305, 0.013118145061243446), (306, 0.02317239189365216), (307, 0.09301522887920688), (308, 0.018298851131825535), (309, 0.0023774588371915178), (310, 0.012615916744461358), (311, 0.0), (312, 0.05348488721066791), (313, 0.005634935328258275), (314, 0.011007264058644549), (315, 0.02522764844324622), (316, 0.04705390601204901), (317, 0.0026173376721755326), (318, 0.0032666012515484826), (319, 0.0), (320, 0.026366425902942033), (321, 0.012744940044962707), (322, 0.026100664508262907), (323, 0.011745649744077942), (324, 0.025004685284237944), (325, 0.014182555385695092), (326, 0.003660623883008744), (327, 0.011779160145783278), (328, 0.0), (329, 0.008174265597144367), (330, 0.002065356964625612), (331, 0.0), (332, 0.013070993431372191), (333, 0.004836362997245858), (334, 0.016927716418839604), (335, 0.0), (336, 0.005517750429408898), (337, 0.0), (338, 0.0), (339, 0.010157397152774129), (340, 0.008266284306002208), (341, 0.005854514828381989), (342, 0.08149973326781558), (343, 0.0030117820578028395), (344, 0.0), (345, 0.007456559949159992), (346, 0.01339998157154344), (347, 0.0054556998965810885), (348, 0.08256114783567393), (349, 0.0028990627753087608), (350, 0.009173491573166354), (351, 0.002280509695264068), (352, 0.0), (353, 0.00303582271738581), (354, 0.004975824613233891), (355, 0.002756247731302247), (356, 0.008037575937518573), (357, 0.0025794189569345394), (358, 0.0145968462311536), (359, 0.028924195482032563), (360, 0.005159299417437233), (361, 0.0081668826959615), (362, 0.008494390804396852), (363, 0.008406983581453087), (364, 0.01822041311648226), (365, 0.008543661730248389), (366, 0.010907372138034653), (367, 0.0), (368, 0.02528944088842324), (369, 0.0), (370, 0.02176606425153266), (371, 0.029028866160492106), (372, 0.0027850903345083312), (373, 0.002832848114705993), (374, 0.01480780207091762), (375, 0.005373559487833117), (376, 0.0104408579214176), (377, 0.049274233354666554), (378, 0.0030019160074932537), (379, 0.007085241924747893), (380, 0.00624638225000442), (381, 0.006283785130063306), (382, 0.007076315816886229), (383, 0.0), (384, 0.02991491028856215), (385, 0.0), (386, 0.0), (387, 0.002819087031021553), (388, 0.002821781934995522), (389, 0.005413130704265413), (390, 0.007404881444893035), (391, 0.0), (392, 0.0), (393, 0.023618000036986865), (394, 0.0), (395, 0.0032070163085934898), (396, 0.0028724371144599097), (397, 0.012005877580670715), (398, 0.0), (399, 0.0027697273011858957), (400, 0.016213843697113036), (401, 0.007797574841775714), (402, 0.0036439108400565566), (403, 0.002533545136409657), (404, 0.0), (405, 0.0), (406, 0.008597175312277518), (407, 0.016804155680818923), (408, 0.04040063260660713), (409, 0.007083206365548247), (410, 0.002780896990316157), (411, 0.0), (412, 0.0024420286003892606), (413, 0.0), (414, 0.0), (415, 0.08592152202828239), (416, 0.002739143896857901), (417, 0.021946593505348902), (418, 0.02499173529634258), (419, 0.012031547627265052), (420, 0.00584673097900829), (421, 0.005950137953577717), (422, 0.0), (423, 0.03944523997222748), (424, 0.014909253131847478), (425, 0.014896317696535318), (426, 0.012281831268278167), (427, 0.05071240105402293), (428, 0.009644723374928521), (429, 0.008831097432589878), (430, 0.0767265524788654), (431, 0.0035251358446330427), (432, 0.0344577413667346), (433, 0.015478653366296707), (434, 0.002827852620661544), (435, 0.004408946012126675), (436, 0.024392001178114055), (437, 0.0028362587346284153), (438, 0.004445026339361377), (439, 0.0), (440, 0.0), (441, 0.002470098614418066), (442, 0.0069869456572495695), (443, 0.009746272346229637), (444, 0.03304673882031799), (445, 0.0025588897692286985), (446, 0.014640928353502738), (447, 0.0087497306916546), (448, 0.031196901865840062), (449, 0.013573877920121942), (450, 0.009246194172960714), (451, 0.005460775492333356), (452, 0.008045883024106597), (453, 0.002285677715112128), (454, 0.0), (455, 0.019251049660228683), (456, 0.0031669252094257802), (457, 0.022080390467265808), (458, 0.009402229207379181), (459, 0.0), (460, 0.005412015545583362), (461, 0.009110880737742563), (462, 0.0), (463, 0.030181828966709748), (464, 0.0029545930654703207), (465, 0.002728921462234538), (466, 0.002955175245778283), (467, 0.012943856646426471), (468, 0.012287407985979043), (469, 0.010851544048721257), (470, 0.008887192942531862), (471, 0.0027914011626596178), (472, 0.010997885889578521), (473, 0.0027042760168419283), (474, 0.0), (475, 0.0010449633547106605), (476, 0.01647495404956039), (477, 0.012273971990491942), (478, 0.01698581153070229), (479, 0.027097327465331153), (480, 0.0026229414984259665), (481, 0.009163776569512356), (482, 0.06813722961302474), (483, 0.07060544297403457), (484, 0.017830100955247428), (485, 0.03178423019249767), (486, 0.0), (487, 0.0028614145207222245), (488, 0.002891225002033356), (489, 0.003575728823855397), (490, 0.04883667339700369), (491, 0.02304576188690908), (492, 0.0), (493, 0.008946656965602099), (494, 0.0), (495, 0.002643758383056741), (496, 0.00912036420857152), (497, 0.006846452431320509), (498, 0.007334664865206914), (499, 0.05367168555268333), (500, 0.01834307271430472), (501, 0.04747883174251347), (502, 0.008821506341557057), (503, 0.0), (504, 0.0030071786084531773), (505, 0.0028396007449551326), (506, 0.0), (507, 0.02686339356436682), (508, 0.0034369709241854726), (509, 0.00864144314903853), (510, 0.0023893142255287914), (511, 0.017133043412671807), (512, 0.0064625199319498965), (513, 0.005910654900320472), (514, 0.0320755743662993), (515, 0.024454064161594083), (516, 0.0), (517, 0.0), (518, 0.019184105846028088), (519, 0.014233109128984966), (520, 0.0), (521, 0.02466719203951833), (522, 0.03800171136444902), (523, 0.024589065004702308), (524, 0.0027421377081844928), (525, 0.025483083764203527), (526, 0.003758761635787495), (527, 0.0023663766632412778), (528, 0.04830039668015727), (529, 0.05344565293110362), (530, 0.01851837849369785), (531, 0.0), (532, 0.017468746455653012), (533, 0.022996397771240486), (534, 0.021532422124195306), (535, 0.0), (536, 0.0), (537, 0.01494672218435724), (538, 0.0), (539, 0.0075285753822577645), (540, 0.01211894359034731), (541, 0.0028912265209097435), (542, 0.00590898321634906), (543, 0.008776211082605848), (544, 0.04575031657439254), (545, 0.006758551052321207), (546, 0.0074231095790152826), (547, 0.002520150175711036), (548, 0.007214629612046961), (549, 0.009738505999777634), (550, 0.02777972304899161), (551, 0.05738284192321343), (552, 0.0), (553, 0.014018961755091083), (554, 0.0), (555, 0.0), (556, 0.0), (557, 0.0), (558, 0.0027563158563400814), (559, 0.004844101682085343), (560, 0.01598177313336386), (561, 0.0), (562, 0.0063926905661844165), (563, 0.04020418646714128), (564, 0.003131542605646366), (565, 0.029733035268726976), (566, 0.013728832612393348), (567, 0.02054523783946798), (568, 0.007135585833660102), (569, 0.016666823509816662), (570, 0.010508370223321697), (571, 0.0064968879427074674), (572, 0.007887103856514673), (573, 0.05898629349438657), (574, 0.0), (575, 0.0), (576, 0.003369583631012834), (577, 0.0), (578, 0.002821111334340295), (579, 0.025854239669688386), (580, 0.00880525134406894), (581, 0.007593538562117627), (582, 0.0), (583, 0.0), (584, 0.008718985079299026), (585, 0.0), (586, 0.04941280458250079), (587, 0.003287373660787952), (588, 0.059839488813238834), (589, 0.0027702247887171805), (590, 0.007766309327898978), (591, 0.03495972746979969), (592, 0.007814148651054032), (593, 0.03180238744898846), (594, 0.009548392479818217), (595, 0.005979883606058242), (596, 0.0033491567877416656), (597, 0.0026869802712657957), (598, 0.002785024806924162), (599, 0.016187967900747575), (600, 0.008095518255213022), (601, 0.006563267248942802), (602, 0.00628156219135945), (603, 0.008183082428104043), (604, 0.017403036925892183), (605, 0.002630175428076171), (606, 0.008701301865492823), (607, 0.0023033039630969685), (608, 0.024126928782536868), (609, 0.01661709835402929), (610, 0.007649392297672809), (611, 0.004802443353559853), (612, 0.0031736213646189142), (613, 0.007583389835318977), (614, 0.003429572378909157), (615, 0.02656805595668029), (616, 0.002490960307066378), (617, 0.01726219974416556), (618, 0.027521120191936796), (619, 0.005412089018193532), (620, 0.025798457505697037), (621, 0.0046004191004602145), (622, 0.023165818336686135), (623, 0.031585246372035344), (624, 0.002734064517172585), (625, 0.004679104925926639), (626, 0.0025331389799282543), (627, 0.014465281353102467), (628, 0.00849568886542943), (629, 0.004695176645843735), (630, 0.0), (631, 0.010983847265248483), (632, 0.0), (633, 0.005326712218499339), (634, 0.005341384141053833), (635, 0.03393793182539433), (636, 0.008509996780955176), (637, 0.008725910109442247), (638, 0.0027549514220770737), (639, 0.011087959111293743), (640, 0.019779603447981402), (641, 0.039755462411022), (642, 0.007278422213311354), (643, 0.04294444140796469), (644, 0.008004722444672638), (645, 0.002441334274486514), (646, 0.03586874606039236), (647, 0.002622651928148566), (648, 0.0), (649, 0.0), (650, 0.0072033801330783735), (651, 0.0028858442440093763), (652, 0.049269265768963906), (653, 0.016463760026355124), (654, 0.005730727492266976), (655, 0.01259305837163143), (656, 0.03798882060283849), (657, 0.0026543949638479073), (658, 0.013581703842858547), (659, 0.0027843347488912765), (660, 0.0463110944708676), (661, 0.01953525046678317), (662, 0.0), (663, 0.0), (664, 0.0), (665, 0.039831087674614254), (666, 0.014775949149110163), (667, 0.047499872696633326), (668, 0.004301648262985656), (669, 0.02427305800921689), (670, 0.041680281197770536), (671, 0.02645507317021431), (672, 0.0026653962967718983), (673, 0.009195410765510068), (674, 0.0076264881545796154), (675, 0.009189296429890777), (676, 0.019821737015219467), (677, 0.023089460871541262), (678, 0.0059275564605473716), (679, 0.015414351521667513), (680, 0.003178871851754622), (681, 0.017420630077667493), (682, 0.006115165279442124), (683, 0.03204288408864709), (684, 0.00219337058240572), (685, 0.05719355119165549), (686, 0.008503041331413245), (687, 0.017677736943801533), (688, 0.009334518637766053), (689, 0.013787653223345575), (690, 0.042035448720364944), (691, 0.016926768441859537), (692, 0.011348960059605492), (693, 0.002909282797490824), (694, 0.007923954900754869), (695, 0.005008093218361132), (696, 0.008481645381910291), (697, 0.04291011980071521), (698, 0.0028280759866232746), (699, 0.006918740746018163), (700, 0.04960049686462361), (701, 0.04977037613538478), (702, 0.0), (703, 0.014535838466177982), (704, 0.0), (705, 0.0026462647899223738), (706, 0.002374150881153509), (707, 0.026509788676701035), (708, 0.0), (709, 0.033279117427607675), (710, 0.0369207503855587), (711, 0.0), (712, 0.002640862657880452), (713, 0.0317427815326614), (714, 0.06850964708558398), (715, 0.011788288090475123), (716, 0.01690402921327609), (717, 0.0031171470500872584), (718, 0.0), (719, 0.006769592569407611), (720, 0.007399486838757313), (721, 0.0034248903803207192), (722, 0.0026858408585929638), (723, 0.004602920668750284), (724, 0.071082654923022), (725, 0.03845820712057156), (726, 0.006433041088062718), (727, 0.03199611454058486), (728, 0.03512526990163618), (729, 0.03631548666526313), (730, 0.012376056044019122), (731, 0.0028593051930296508), (732, 0.007522248982983583), (733, 0.007290752697958166), (734, 0.05174623559285391), (735, 0.004081640298689804), (736, 0.0), (737, 0.018456952150069966), (738, 0.014380806168275778), (739, 0.06138995942339351), (740, 0.0020052197411528734), (741, 0.012700024542231392), (742, 0.019219012434719303), (743, 0.008658899858405657), (744, 0.07440912894660351), (745, 0.0071133390749811495), (746, 0.0), (747, 0.0), (748, 0.04513058683061834), (749, 0.002990911108923229), (750, 0.008584612182845978), (751, 0.009283958663436846), (752, 0.0), (753, 0.021807225983535843), (754, 0.0), (755, 0.002904904612998027), (756, 0.028840692255621792), (757, 0.016729149481127123), (758, 0.0), (759, 0.013664814771176651), (760, 0.006237550399180561), (761, 0.008427654668109021), (762, 0.004712927762831751), (763, 0.0), (764, 0.0), (765, 0.018449311464225314), (766, 0.002765752037132966), (767, 0.028210586676468058), (768, 0.01226157890367911), (769, 0.008316093048424846), (770, 0.0), (771, 0.0), (772, 0.0), (773, 0.037427303468254305), (774, 0.028004896569242207), (775, 0.010045586085305099), (776, 0.0), (777, 0.0035925813294029364), (778, 0.0), (779, 0.0046478409346841785), (780, 0.0), (781, 0.0), (782, 0.015702681760531786), (783, 0.003148785260373152), (784, 0.0), (785, 0.0), (786, 0.0), (787, 0.00824863349295333), (788, 0.01652477712981825), (789, 0.0), (790, 0.04414175364108804), (791, 0.029613320834956713), (792, 0.0031796033824345927), (793, 0.013636897632025193), (794, 0.022633326041906935), (795, 0.0), (796, 0.002481626875793172), (797, 0.013958690403819649), (798, 0.01286913489586004), (799, 0.03421365949791256), (800, 0.007573926604862736), (801, 0.0049806718847711815), (802, 0.07618002046865036), (803, 0.004859696591751012), (804, 0.06313082617076268), (805, 0.03620188623657832), (806, 0.0030846945200826057), (807, 0.0), (808, 0.028710177894165752), (809, 0.005582094371196265), (810, 0.029016751038011497), (811, 0.005512465341734251), (812, 0.0), (813, 0.0033572004640333203), (814, 0.0), (815, 0.002670457971537676), (816, 0.0024328716585024293), (817, 0.0028926177916550884), (818, 0.07825685424620572), (819, 0.0), (820, 0.0), (821, 0.007046083197912154), (822, 0.0), (823, 0.0034454066958894704), (824, 0.002081521369897629), (825, 0.005273445029161474), (826, 0.024211614369036974), (827, 0.005158204859632757), (828, 0.10813054930049727), (829, 0.02991666163598982), (830, 0.0031421382147778895), (831, 0.005948682310069864), (832, 0.008567828008972203), (833, 0.0), (834, 0.0), (835, 0.0), (836, 0.0), (837, 0.00923939766741193), (838, 0.0027794571666262652), (839, 0.0), (840, 0.0), (841, 0.0), (842, 0.016055793679564945), (843, 0.032194740065456175), (844, 0.006443655796913667), (845, 0.008821665028850472), (846, 0.013695390307936301), (847, 0.003427714499411664), (848, 0.0030145283021579673), (849, 0.013122227351262714), (850, 0.040879671172297675), (851, 0.0026185724321570155), (852, 0.033310795505970825), (853, 0.006515101318319248), (854, 0.0028526711039641474), (855, 0.05158692338597889), (856, 0.03341297785136611), (857, 0.0033008234317420736), (858, 0.021052518020464643), (859, 0.011361477909838972), (860, 0.009763160802076818), (861, 0.00725618807428142), (862, 0.0), (863, 0.007702433340501138), (864, 0.0030204017745982903), (865, 0.027856389828098606), (866, 0.007833542728876177), (867, 0.0029459071416803348), (868, 0.05588238865372463), (869, 0.0), (870, 0.008239492970422351), (871, 0.010976289869994025), (872, 0.01143645971685534), (873, 0.0), (874, 0.0025777395987017066), (875, 0.014411767016346118), (876, 0.00961801072523568), (877, 0.004348217893011496), (878, 0.007958846394491566), (879, 0.008791132515251305), (880, 0.008305401971884148), (881, 0.031350410442207474), (882, 0.006819875063083653), (883, 0.002855353638039827), (884, 0.0031098938711956155), (885, 0.1160251320215577), (886, 0.002802313283001627), (887, 0.017793223311481674), (888, 0.009338996897507642), (889, 0.0038468919851612), (890, 0.0031174503848991563), (891, 0.005727474015467483), (892, 0.034429625153790853), (893, 0.016963498896028172), (894, 0.029380517568051257), (895, 0.0027848351696774507), (896, 0.022335555347747595), (897, 0.0030118469600145313), (898, 0.004898126849220235), (899, 0.002755409993078515), (900, 0.007878558577636117), (901, 0.0024758103864740387), (902, 0.013469705444496664), (903, 0.035013257282455135), (904, 0.01875623354823769), (905, 0.006289773768939709), (906, 0.011969192489379384), (907, 0.043978729649753766), (908, 0.013663741480106285), (909, 0.06843364599364535), (910, 0.0199569255583167), (911, 0.026658817433380524), (912, 0.0), (913, 0.02560632250156384), (914, 0.024407900967292243), (915, 0.012635269900800668), (916, 0.005038176421085939), (917, 0.002675533894181217), (918, 0.02743018166100157), (919, 0.03777304357882734), (920, 0.007062849709519507), (921, 0.026651841916181727), (922, 0.016838594449392733), (923, 0.008114814120824947), (924, 0.0026036583937730983), (925, 0.0034369803558559455), (926, 0.006000652965046127), (927, 0.005333405198262862), (928, 0.005674094537081429), (929, 0.0021562414578598387), (930, 0.008943887011497492), (931, 0.005433535168478587), (932, 0.004860536738078569), (933, 0.0030527122038733353), (934, 0.013678455222760342), (935, 0.009936273706444815), (936, 0.05785429625155897), (937, 0.00984478315069101), (938, 0.05035776849369741), (939, 0.015434825994062694), (940, 0.0020919514459212985), (941, 0.0027996025513348116), (942, 0.006850383705508318), (943, 0.0), (944, 0.0027848980119638397), (945, 0.0077902476090810175), (946, 0.0076561089750949015), (947, 0.011366632310055495), (948, 0.015133900932143401), (949, 0.09715481219964617), (950, 0.0), (951, 0.009018218921452657), (952, 0.009108843563412104), (953, 0.006784567294036786), (954, 0.006876090379391501), (955, 0.0), (956, 0.008429279603444476), (957, 0.0027294159262238665), (958, 0.0), (959, 0.02635085627387189), (960, 0.04249973593967697), (961, 0.01085985191461196), (962, 0.0028343263687602115), (963, 0.017688111591293007), (964, 0.0), (965, 0.0076767753601195065), (966, 0.04761019873950646), (967, 0.009303220214890561), (968, 0.023896847961715133), (969, 0.07110106176395127), (970, 0.019763135848140857), (971, 0.01237167605843792), (972, 0.0), (973, 0.027158365789536683), (974, 0.005089995367168936), (975, 0.002798269155972093), (976, 0.005730899249499453), (977, 0.0251761332605117), (978, 0.0), (979, 0.0048079691267050185), (980, 0.008708906029980989), (981, 0.007586096901881953), (982, 0.0), (983, 0.023709479628656133), (984, 0.002843262959536242), (985, 0.003419325161118155), (986, 0.04270373832876401), (987, 0.003100351678475922), (988, 0.02030795469346746), (989, 0.008288001380603816), (990, 0.0301066686193799), (991, 0.009045125005300253), (992, 0.06422617161642245), (993, 0.05286661207561101), (994, 0.0030376615765453532), (995, 0.0), (996, 0.06375276890969091), (997, 0.0048901137135945825), (998, 0.0033885559508932198), (999, 0.003385782654016725), (1000, 0.007579040924820512), (1001, 0.01536360164242888), (1002, 0.0028480150481984766), (1003, 0.005557700317090103), (1004, 0.026584023559469233), (1005, 0.01833035542149879), (1006, 0.003122861210008755), (1007, 0.03199913403290843), (1008, 0.0), (1009, 0.007475283533908495), (1010, 0.07853987684264102), (1011, 0.017377476592476827), (1012, 0.013007905273617417), (1013, 0.03363674032314073), (1014, 0.0), (1015, 0.009108707221512406), (1016, 0.006910711345711444), (1017, 0.008190297151965753), (1018, 0.004741460970291543), (1019, 0.028580473230982666), (1020, 0.0028677231241590593), (1021, 0.093313495360727), (1022, 0.007658411431772237), (1023, 0.0033599696754612936), (1024, 0.035024599603267766), (1025, 0.0), (1026, 0.0029331408750560657), (1027, 0.002858287652090735), (1028, 0.023825141643073304), (1029, 0.009932694442182794), (1030, 0.008156682351731977), (1031, 0.0), (1032, 0.002823238337331277), (1033, 0.04363215150954194), (1034, 0.0028625423783621403), (1035, 0.008186041980698913), (1036, 0.0028191782942699178), (1037, 0.0024315354375035163), (1038, 0.0), (1039, 0.019084736669610122), (1040, 0.002334626541464742), (1041, 0.007909652325939168), (1042, 0.031151585066593504), (1043, 0.060380332890480407), (1044, 0.008162835683870277), (1045, 0.00788903325838196), (1046, 0.0), (1047, 0.0308163910361324), (1048, 0.04440504108069222), (1049, 0.0035444030653665453), (1050, 0.009100868897553304), (1051, 0.00940921311590834), (1052, 0.0027672569934193737), (1053, 0.0035157794075672743), (1054, 0.017763775038119003), (1055, 0.0), (1056, 0.0), (1057, 0.0), (1058, 0.10522621413007445), (1059, 0.03086408529036609), (1060, 0.030083207154613885), (1061, 0.08673782866226108), (1062, 0.021422181495267853), (1063, 0.025609981756736136), (1064, 0.010208874184080993), (1065, 0.007701694287964458), (1066, 0.02223324234825273), (1067, 0.007337866879371988), (1068, 0.016143946758647807), (1069, 0.03561699413859648), (1070, 0.0), (1071, 0.008992269862157171), (1072, 0.0029605780398889604), (1073, 0.0), (1074, 0.029668387995430107), (1075, 0.0031488216723097743), (1076, 0.0), (1077, 0.039994898659960955), (1078, 0.0024892829149802042), (1079, 0.009823754847788678), (1080, 0.014731487112174983), (1081, 0.0), (1082, 0.005340094134020641), (1083, 0.00876732194068544), (1084, 0.0029289422406999373), (1085, 0.00784327877583039), (1086, 0.024984761376394413), (1087, 0.07187511232881057), (1088, 0.002555213448269453), (1089, 0.02816770332830861), (1090, 0.00674965393465126), (1091, 0.008422766814616286), (1092, 0.004531998175564563), (1093, 0.0), (1094, 0.0), (1095, 0.025193218255111546), (1096, 0.002907998027983155), (1097, 0.0), (1098, 0.0024374471162534), (1099, 0.013923662928584532), (1100, 0.002939644334420327), (1101, 0.0), (1102, 0.0029666361959849352), (1103, 0.0), (1104, 0.005723000792393221), (1105, 0.0), (1106, 0.0), (1107, 0.020284171472358697), (1108, 0.0324812902696388), (1109, 0.01664225328948446), (1110, 0.0029381075924436173), (1111, 0.032530534943451095), (1112, 0.0029771624337815686), (1113, 0.007427108358779261), (1114, 0.020910083220366183), (1115, 0.03838208309325371), (1116, 0.01111971304343448), (1117, 0.014418009811899994), (1118, 0.04602720514461624), (1119, 0.008996588118367007), (1120, 0.004635651378978254), (1121, 0.00374489093254557), (1122, 0.016660115742516864), (1123, 0.008008373819146195), (1124, 0.016965425224156182), (1125, 0.0), (1126, 0.03186568763328179), (1127, 0.00535163162340209), (1128, 0.0), (1129, 0.005439341807853763), (1130, 0.0), (1131, 0.06709490587855083), (1132, 0.008008157469034778), (1133, 0.0), (1134, 0.011836088383336005), (1135, 0.06642055954392073), (1136, 0.0026205109359455814), (1137, 0.0044641870319710505), (1138, 0.03338506963817375), (1139, 0.012580259501413137), (1140, 0.009022356107048733), (1141, 0.009005062220820764), (1142, 0.0), (1143, 0.0), (1144, 0.002383121658511626), (1145, 0.004133374316392015), (1146, 0.005257321983161015), (1147, 0.0), (1148, 0.023084673548011803), (1149, 0.0), (1150, 0.01416281762310383), (1151, 0.007714509608100437), (1152, 0.0), (1153, 0.0038122960159072392), (1154, 0.004846418294015585), (1155, 0.0), (1156, 0.0), (1157, 0.0), (1158, 0.006074770825555718), (1159, 0.0), (1160, 0.0028371640691821514), (1161, 0.03857336122953537), (1162, 0.01904503718027634), (1163, 0.052888116584980854), (1164, 0.004421194602736207), (1165, 0.00796942569469859), (1166, 0.0), (1167, 0.005956878544609354), (1168, 0.01619367324978663), (1169, 0.019151897684440224), (1170, 0.0029924726312152107), (1171, 0.0), (1172, 0.0), (1173, 0.011882981557715937), (1174, 0.00861431548246917), (1175, 0.024279015946872606), (1176, 0.0030511931849932427), (1177, 0.024850536050323543), (1178, 0.0), (1179, 0.029490888038642672), (1180, 0.0), (1181, 0.005119139963730735), (1182, 0.0030497067309275595), (1183, 0.007821381344033942), (1184, 0.009613091105763472), (1185, 0.01383401692020872), (1186, 0.09108516456793991), (1187, 0.003511923624757416), (1188, 0.03418201888226498), (1189, 0.0), (1190, 0.06073549917473073), (1191, 0.008459635749458974), (1192, 0.03412093289757878), (1193, 0.0), (1194, 0.01840765690648666), (1195, 0.1374281020546855), (1196, 0.0), (1197, 0.004999269097852721), (1198, 0.019513248012656016), (1199, 0.0026368318951770172), (1200, 0.0), (1201, 0.0), (1202, 0.0071474656830050635), (1203, 0.0028065260958434917), (1204, 0.003032751821989661), (1205, 0.012788856086629472), (1206, 0.0339622080065826), (1207, 0.012544531080902397), (1208, 0.0038108512197196883), (1209, 0.0024909040308773818), (1210, 0.009548242798616342), (1211, 0.022164638083478988), (1212, 0.0), (1213, 0.0), (1214, 0.0), (1215, 0.007212692652120227), (1216, 0.0027105259258405345), (1217, 0.014206693108372581), (1218, 0.0), (1219, 0.009583508478595923), (1220, 0.02381016628672134), (1221, 0.015122646495877645), (1222, 0.020236880633320478), (1223, 0.03313087811861138), (1224, 0.03399531002682741), (1225, 0.01700568058668033), (1226, 0.005382546120144842), (1227, 0.0), (1228, 0.008256037065032707), (1229, 0.04785692733074382), (1230, 0.00521890733677801), (1231, 0.007372407891083233), (1232, 0.008491404740536699), (1233, 0.04085798619864707), (1234, 0.03149165375777725), (1235, 0.0), (1236, 0.004944831704428641), (1237, 0.0076491402968491065), (1238, 0.007641153341212609), (1239, 0.011910222659781129), (1240, 0.008526620709125226), (1241, 0.0024572835636778607), (1242, 0.007038175395595488), (1243, 0.0032602983533683246), (1244, 0.020333601554441316), (1245, 0.015862294012807403), (1246, 0.0), (1247, 0.01580547493294801), (1248, 0.008095986392747249), (1249, 0.0), (1250, 0.0), (1251, 0.0026450529815005377), (1252, 0.008348569168825341), (1253, 0.0), (1254, 0.01094854949570425), (1255, 0.0207146425422271), (1256, 0.011348530909779275), (1257, 0.00830345124421481), (1258, 0.009307208858975572), (1259, 0.014563323772091236), (1260, 0.0), (1261, 0.002894058655932207), (1262, 0.013095888633851992), (1263, 0.007586925793542399), (1264, 0.0036006121637343104), (1265, 0.0873970161196165), (1266, 0.02124551640129693), (1267, 0.0), (1268, 0.0), (1269, 0.007681192643326422), (1270, 0.004984703236346783), (1271, 0.0), (1272, 0.012937845072973693), (1273, 0.010166932211603853), (1274, 0.0), (1275, 0.10052022485136218), (1276, 0.014031689002316074), (1277, 0.01243829022538966), (1278, 0.044738032970314374), (1279, 0.0045778594780737135), (1280, 0.05668879063697462), (1281, 0.004962751029843272), (1282, 0.042487747946762126), (1283, 0.017335898988111286), (1284, 0.026409115440104856), (1285, 0.0), (1286, 0.002930377079729766), (1287, 0.007412448513819452), (1288, 0.007000117041454511), (1289, 0.0653023677966156), (1290, 0.002648146860886025), (1291, 0.020856269317110113), (1292, 0.03940755508834293), (1293, 0.007394879325940529), (1294, 0.016798886767830187), (1295, 0.011901587018081207), (1296, 0.008626920690473135), (1297, 0.013386176492694503), (1298, 0.04249475213707739), (1299, 0.0), (1300, 0.026261435921256505), (1301, 0.009332943925608067), (1302, 0.03149978992884693), (1303, 0.006793856529009007), (1304, 0.013489891860486216), (1305, 0.0024711359368621375), (1306, 0.04423891748918976), (1307, 0.007240146627056105), (1308, 0.02082830226964274), (1309, 0.011238100619471753), (1310, 0.006943864020036762), (1311, 0.0), (1312, 0.0025225066064574744), (1313, 0.0029454933478696922), (1314, 0.01717245549520475), (1315, 0.007483464570220876), (1316, 0.0), (1317, 0.0346221657562626), (1318, 0.002665813978069073), (1319, 0.002932618361001878), (1320, 0.0), (1321, 0.024247715605848645), (1322, 0.04045659433013075), (1323, 0.0), (1324, 0.011395308435106107), (1325, 0.009133221526396996), (1326, 0.038723543995815915), (1327, 0.007316044081369331), (1328, 0.022217606188681183), (1329, 0.010357894156091034), (1330, 0.0), (1331, 0.0), (1332, 0.006058065926096211), (1333, 0.008204386706184648), (1334, 0.015407052818554425), (1335, 0.008510306152715528), (1336, 0.0), (1337, 0.008599195598509881), (1338, 0.0029399307755231256), (1339, 0.003177185310328687), (1340, 0.013897094673846772), (1341, 0.014929261052440336), (1342, 0.010036814792653555), (1343, 0.006463655436681567), (1344, 0.010815286058294994), (1345, 0.03965427341721558), (1346, 0.08861005716551242), (1347, 0.005251874531972166), (1348, 0.004736142801352725), (1349, 0.0033679677765400574), (1350, 0.010405895707849052), (1351, 0.01395496242888717), (1352, 0.009074302434038468), (1353, 0.00975944935552952), (1354, 0.007097272642672778), (1355, 0.015369493106369767), (1356, 0.0184524290430251), (1357, 0.0027546097563014133), (1358, 0.048547803122478195), (1359, 0.06761003144829832), (1360, 0.007669035573640789), (1361, 0.0), (1362, 0.0), (1363, 0.011406923432648727), (1364, 0.015584209240789449), (1365, 0.017685365035116453), (1366, 0.02857251747778962), (1367, 0.0470399861588426), (1368, 0.007423089230395574), (1369, 0.006896760622814019), (1370, 0.0025773533933307192), (1371, 0.0), (1372, 0.02683732462239921), (1373, 0.030840582280781417), (1374, 0.015398321910996722), (1375, 0.00800883518327222), (1376, 0.037737579920388294), (1377, 0.015264362904775041), (1378, 0.0029865755724181294), (1379, 0.026184054640975868), (1380, 0.013848268398559698), (1381, 0.06067515339330719), (1382, 0.003085317075556943), (1383, 0.13680403751294032), (1384, 0.004839247602584501), (1385, 0.016140276387156767), (1386, 0.00782176516989545), (1387, 0.009643739221697301), (1388, 0.007727099743780701), (1389, 0.00810159495253008), (1390, 0.0), (1391, 0.006066068043560986), (1392, 0.0026576195583976323), (1393, 0.0), (1394, 0.026277354699260923), (1395, 0.00437671263094837), (1396, 0.013732003035974931), (1397, 0.009238034760857813), (1398, 0.07551491665287621), (1399, 0.0), (1400, 0.008882362342790759), (1401, 0.008124062912650217), (1402, 0.02196130633406122), (1403, 0.0022965791536368567), (1404, 0.0028255086920839344), (1405, 0.0), (1406, 0.005314070730502623), (1407, 0.005778228718595017), (1408, 0.017897232608137033), (1409, 0.0031978220778022147), (1410, 0.003021058784364875), (1411, 0.0029537466305950845), (1412, 0.012498197606158574), (1413, 0.008551783130046727), (1414, 0.00751739044902495), (1415, 0.002449006411684981), (1416, 0.002856436902143087), (1417, 0.02059250639462967), (1418, 0.06772433866453195), (1419, 0.01595257171535676), (1420, 0.0054151563983104575), (1421, 0.008123340502474244), (1422, 0.01593296322300514), (1423, 0.00265281254840229), (1424, 0.0), (1425, 0.01826457107000709), (1426, 0.00576061826730574), (1427, 0.0024502928837972404), (1428, 0.005154213911911858), (1429, 0.05137662721180506), (1430, 0.03126863555640166), (1431, 0.005567697440054688), (1432, 0.005663757578049697), (1433, 0.007839424727221447), (1434, 0.014940374296728363), (1435, 0.005558894908033789), (1436, 0.013893390497941022), (1437, 0.008717892965023368), (1438, 0.002960241555521598), (1439, 0.0310542877862187), (1440, 0.010847630171162333), (1441, 0.0), (1442, 0.024542925483315985), (1443, 0.016439076953636104), (1444, 0.0), (1445, 0.025678676611185607), (1446, 0.002864464621710494), (1447, 0.011855250743994336), (1448, 0.007786056528434869), (1449, 0.005724147890655646), (1450, 0.002575898114234333), (1451, 0.005107318214519655), (1452, 0.0057471480269916855), (1453, 0.0), (1454, 0.009255304858571439), (1455, 0.0054306818962789605), (1456, 0.02225954401048242), (1457, 0.0), (1458, 0.019997425106881645), (1459, 0.007572982013394453), (1460, 0.008517223029069742), (1461, 0.0), (1462, 0.031228298599929573), (1463, 0.002881979857777282), (1464, 0.028111506885678355), (1465, 0.0025915016278226293), (1466, 0.008968935323226719), (1467, 0.017712933552646064), (1468, 0.04204667328003674), (1469, 0.005628911897428813), (1470, 0.020404483120370694), (1471, 0.027346411811876588), (1472, 0.008524370114469746), (1473, 0.0), (1474, 0.011913487635506743), (1475, 0.01113653634498009), (1476, 0.0030283745992240466), (1477, 0.025023012934896546), (1478, 0.01957883568936479), (1479, 0.003278423044091973), (1480, 0.005053849765797849), (1481, 0.02110074646786123), (1482, 0.03408509773973411), (1483, 0.018775929183938625), (1484, 0.008913445832877951), (1485, 0.0), (1486, 0.0), (1487, 0.0342426475497878), (1488, 0.0482898864776991), (1489, 0.009468449775860492), (1490, 0.00735090861450964), (1491, 0.0), (1492, 0.0), (1493, 0.005242038299261352), (1494, 0.05692133823724331), (1495, 0.01850604615141045), (1496, 0.011294556881179762), (1497, 0.033849056802018114), (1498, 0.03901844835449192), (1499, 0.003346090449929915), (1500, 0.03256878682941708), (1501, 0.0), (1502, 0.07448149331020427), (1503, 0.009685670672618732), (1504, 0.0), (1505, 0.0), (1506, 0.022117869133300078), (1507, 0.015316371461468192), (1508, 0.01183686019995273), (1509, 0.01802183150747066), (1510, 0.04501124997479983), (1511, 0.0), (1512, 0.0242974924592696), (1513, 0.003113768528565177), (1514, 0.04924753152279474), (1515, 0.007743730284385757), (1516, 0.03245913208582628), (1517, 0.0), (1518, 0.03194292703627165), (1519, 0.007792149166669209), (1520, 0.0), (1521, 0.0066446986441665865), (1522, 0.007769071954579165), (1523, 0.01142660013824772), (1524, 0.0), (1525, 0.0), (1526, 0.0), (1527, 0.0029253625194469394), (1528, 0.00271495891857463), (1529, 0.014048574950886954), (1530, 0.010753455478589531), (1531, 0.018444647929739953), (1532, 0.0), (1533, 0.02902083565402363), (1534, 0.027839326641519037), (1535, 0.008826139634317135), (1536, 0.0), (1537, 0.009021567698873925), (1538, 0.002713189391568552), (1539, 0.0026653574507309727), (1540, 0.0), (1541, 0.052047278620814895), (1542, 0.005629496243916028), (1543, 0.002753914436181467), (1544, 0.0), (1545, 0.0), (1546, 0.004677578118723397), (1547, 0.012442064302576886), (1548, 0.0), (1549, 0.06447482917128064), (1550, 0.002947465106119434), (1551, 0.005343982929335455), (1552, 0.02014366713250848), (1553, 0.01848365524305659), (1554, 0.01445714204784802), (1555, 0.019033554331747065), (1556, 0.0), (1557, 0.013743592027805502), (1558, 0.0027786173356613643), (1559, 0.004705754910973343), (1560, 0.0), (1561, 0.0), (1562, 0.017424930035048514), (1563, 0.0), (1564, 0.0), (1565, 0.002554982442388557), (1566, 0.013141431881273544), (1567, 0.07897051696555904), (1568, 0.06132517488619881), (1569, 0.0), (1570, 0.011234715700026605), (1571, 0.011149241175356869), (1572, 0.011366882236672126), (1573, 0.04377297462339382), (1574, 0.003016412970903268), (1575, 0.005821785188082931), (1576, 0.03618773053842203), (1577, 0.04821659648677262), (1578, 0.02542509942741513), (1579, 0.04249488730246565), (1580, 0.01656133363277974), (1581, 0.024073049062162392), (1582, 0.002869674139328149), (1583, 0.0), (1584, 0.0), (1585, 0.024599017388499227), (1586, 0.0), (1587, 0.013366122530341931), (1588, 0.019656284591702444), (1589, 0.0), (1590, 0.027993552010055826), (1591, 0.00629718771327642), (1592, 0.02043338781431832), (1593, 0.003622434576765308), (1594, 0.047843177799911006), (1595, 0.007625643386264684), (1596, 0.03644548165956644), (1597, 0.002879383005503404), (1598, 0.010545384817880636), (1599, 0.04105422238532874), (1600, 0.01660362564024053), (1601, 0.006829055919380207), (1602, 0.0), (1603, 0.008073842453653276), (1604, 0.0076280106997163874), (1605, 0.0027004424890939576), (1606, 0.0391589178578673), (1607, 0.020517277738303953), (1608, 0.007437844418186692), (1609, 0.0), (1610, 0.0474472490976147), (1611, 0.02129176122960226), (1612, 0.02085509595461632), (1613, 0.0), (1614, 0.020125006403618667), (1615, 0.009110878825441612), (1616, 0.0026268056840889117), (1617, 0.002918156603425102), (1618, 0.0), (1619, 0.0031854580897049812), (1620, 0.002794992602150947), (1621, 0.008306934186117157), (1622, 0.005344859150802474), (1623, 0.005034938904400253), (1624, 0.04292487170952741), (1625, 0.0026878486347413828), (1626, 0.0), (1627, 0.01863599032608211), (1628, 0.002735025131491652), (1629, 0.008698130162103974), (1630, 0.01785001037701374), (1631, 0.00515865288675057), (1632, 0.029777564711386113), (1633, 0.005195428315306036), (1634, 0.00296257377425709), (1635, 0.005332422592012502), (1636, 0.0), (1637, 0.0032063073223644505), (1638, 0.013323100579613367), (1639, 0.01132277389764479), (1640, 0.008309591674528409), (1641, 0.0027718672215715653), (1642, 0.029170292715026865), (1643, 0.03419032059475937), (1644, 0.012005820636593266), (1645, 0.010320135600083416), (1646, 0.0), (1647, 0.0), (1648, 0.01564016753472152), (1649, 0.02966795702295925), (1650, 0.05057019161151267), (1651, 0.021905846877115893), (1652, 0.0), (1653, 0.008217169160509439), (1654, 0.0), (1655, 0.01825665547943464), (1656, 0.0034269913604098815), (1657, 0.0), (1658, 0.0033093525783188726), (1659, 0.0057955187445297325), (1660, 0.0031231208273104966), (1661, 0.04865227951957879), (1662, 0.028735647522134596), (1663, 0.002815963178326009), (1664, 0.01722752777056035), (1665, 0.007889715110718372), (1666, 0.002947687792878681), (1667, 0.007765835635664331), (1668, 0.0), (1669, 0.01478891691722126), (1670, 0.017223367991079118), (1671, 0.00815819029946824), (1672, 0.0027363554368173807), (1673, 0.0), (1674, 0.0), (1675, 0.026869837288744924), (1676, 0.0), (1677, 0.010609494435094182), (1678, 0.008378260505641954), (1679, 0.0), (1680, 0.007652829507245629), (1681, 0.005969456061107467), (1682, 0.0028050311391268337), (1683, 0.003198623761810025), (1684, 0.0), (1685, 0.0031625289348753143), (1686, 0.007865547312784554), (1687, 0.008934241158167315), (1688, 0.003048032087628698), (1689, 0.0), (1690, 0.0026930881372753492), (1691, 0.0253069044464228), (1692, 0.013233540783389251), (1693, 0.0028065237279268677), (1694, 0.028506887789768866), (1695, 0.0), (1696, 0.015624453290924517), (1697, 0.01583855073384106), (1698, 0.0), (1699, 0.004704306556219004), (1700, 0.02611936066994177), (1701, 0.0385234929225235), (1702, 0.0), (1703, 0.0030927114036316864), (1704, 0.04051188961801513), (1705, 0.022560963120009284), (1706, 0.010780009694096995), (1707, 0.048587440290428704), (1708, 0.0032104571727434215), (1709, 0.011267749204119317), (1710, 0.01983867216707442), (1711, 0.03402083366010859), (1712, 0.0031950610278601668), (1713, 0.014910491313928064), (1714, 0.028643467949743547), (1715, 0.0), (1716, 0.009450143630519941), (1717, 0.0030784580187897042), (1718, 0.0), (1719, 0.0026976600679690247), (1720, 0.0), (1721, 0.0), (1722, 0.01652483983929894), (1723, 0.005104293852905595), (1724, 0.005854476729324746), (1725, 0.082212335739287), (1726, 0.0), (1727, 0.003107861090640016), (1728, 0.0), (1729, 0.03428207629244172), (1730, 0.002725139998071685), (1731, 0.008248429847085957), (1732, 0.036302675701259425), (1733, 0.022963412925361488), (1734, 0.014014476114795844), (1735, 0.0), (1736, 0.0031291822055603217), (1737, 0.027329247486856348), (1738, 0.007303737282820092), (1739, 0.007576594553332033), (1740, 0.008595786096366693), (1741, 0.0), (1742, 0.0028262985855489705), (1743, 0.0025443032846436046), (1744, 0.0028515556929968183), (1745, 0.006585122334929292), (1746, 0.0), (1747, 0.0023262072139292288), (1748, 0.0034996379733796806), (1749, 0.021939140566951114), (1750, 0.0), (1751, 0.0), (1752, 0.0), (1753, 0.004673721487558916), (1754, 0.03267221923442939), (1755, 0.007321124925954664), (1756, 0.0), (1757, 0.0), (1758, 0.05485286698671239), (1759, 0.002824292764156866), (1760, 0.007790753797446145), (1761, 0.017839304898318063), (1762, 0.0026665958341653075), (1763, 0.025398476415405213), (1764, 0.040603519082960206), (1765, 0.0030915322021094482), (1766, 0.0), (1767, 0.03817748830764598), (1768, 0.003073229470349923), (1769, 0.0), (1770, 0.030312480730020776), (1771, 0.011718162186836332), (1772, 0.011394510681935803), (1773, 0.005327241785897947), (1774, 0.006433918404054839), (1775, 0.0), (1776, 0.023892331767717274), (1777, 0.041657436152050344), (1778, 0.0), (1779, 0.008971299768756234), (1780, 0.0019499097813754013), (1781, 0.014853279046985456), (1782, 0.01233390757588648), (1783, 0.0), (1784, 0.004937313704175777), (1785, 0.0), (1786, 0.0), (1787, 0.0), (1788, 0.019582176691244353), (1789, 0.012125240580387615), (1790, 0.01594421155816834), (1791, 0.005788512165366902), (1792, 0.003512729266651295), (1793, 0.015337494936719109), (1794, 0.0), (1795, 0.0), (1796, 0.007688310546846064), (1797, 0.006744942923475231), (1798, 0.034086154639424424), (1799, 0.03228351038112807), (1800, 0.0), (1801, 0.013742738037540446), (1802, 0.006552894622961284), (1803, 0.0), (1804, 0.0), (1805, 0.0032566949589781127), (1806, 0.0), (1807, 0.05776883190978891), (1808, 0.0026807329907152667), (1809, 0.04778412160360143), (1810, 0.01884668843974337), (1811, 0.008358640268035579), (1812, 0.014026953335534428), (1813, 0.002901971976332051), (1814, 0.0027522349346179834), (1815, 0.0062941421310895055), (1816, 0.0), (1817, 0.004879549242047924), (1818, 0.017013762400449967), (1819, 0.019048126464032308), (1820, 0.03695860978735239), (1821, 0.033073897723838015), (1822, 0.0031553725328634457), (1823, 0.0), (1824, 0.011298046579586243), (1825, 0.0), (1826, 0.043244690083644635), (1827, 0.0027030015448556042), (1828, 0.002579194190428954), (1829, 0.00591850953855933), (1830, 0.025349721005184896), (1831, 0.002955487013513757), (1832, 0.00555316089670685), (1833, 0.03357636741291861), (1834, 0.0), (1835, 0.0), (1836, 0.03167577227813332), (1837, 0.0), (1838, 0.01373132265323027), (1839, 0.024466568275334236), (1840, 0.004947139704602204), (1841, 0.033109625916198496), (1842, 0.0), (1843, 0.0033902854442599637), (1844, 0.008446714009900748), (1845, 0.007125754785092192), (1846, 0.024500255977618356), (1847, 0.0), (1848, 0.029204501213353783), (1849, 0.0), (1850, 0.006635948279185967), (1851, 0.01562514187663019), (1852, 0.0410200201453748), (1853, 0.008919233990697798), (1854, 0.0028539058939214797), (1855, 0.029775505715068876), (1856, 0.030339517724641434), (1857, 0.01718543992725074), (1858, 0.030356455071711294), (1859, 0.03581573983093973), (1860, 0.03389926689829417), (1861, 0.0022657218163912585), (1862, 0.0033476859438242726), (1863, 0.0), (1864, 0.020968984546843206), (1865, 0.026688701765356072), (1866, 0.03717632407095789), (1867, 0.0), (1868, 0.0), (1869, 0.0027063435516507333), (1870, 0.023837110464866643), (1871, 0.023606170067056117), (1872, 0.08435471209196198), (1873, 0.018830883836429838), (1874, 0.0032303714304173065), (1875, 0.002744899920726459), (1876, 0.021926620759176944), (1877, 0.00285233810935041), (1878, 0.026173618190334764), (1879, 0.025919467322801527), (1880, 0.0504666476736198), (1881, 0.00568707030912425), (1882, 0.002928693488335665), (1883, 0.014996558018821493), (1884, 0.002793831850424164), (1885, 0.036533327642435706), (1886, 0.03924009126331961), (1887, 0.04226871222814923), (1888, 0.0), (1889, 0.02001356124249969), (1890, 0.003316752226195361), (1891, 0.002963178624345224), (1892, 0.007651559779772193), (1893, 0.003152701148290405), (1894, 0.00833707158870955), (1895, 0.01713522750869246), (1896, 0.0031710168861419467), (1897, 0.009136276964864179), (1898, 0.00719395677377366), (1899, 0.0), (1900, 0.010469664474171145), (1901, 0.013457339280409734), (1902, 0.008857023945490648), (1903, 0.011243551200758744), (1904, 0.013886502296442744), (1905, 0.03436182746440295), (1906, 0.02570716715492982), (1907, 0.00321748239453679), (1908, 0.0077344873182882724), (1909, 0.017035216570825483), (1910, 0.004593421839470297), (1911, 0.01888967920459582), (1912, 0.03189502238168507), (1913, 0.0), (1914, 0.017680204630712425), (1915, 0.0), (1916, 0.0031499136340801784), (1917, 0.0), (1918, 0.0089006365860708), (1919, 0.009425486575671497), (1920, 0.0027637752083363287), (1921, 0.0026713732275667366), (1922, 0.003017436340957761), (1923, 0.030129718867444276), (1924, 0.12907288204737338), (1925, 0.025820056429683325), (1926, 0.008175181337535581), (1927, 0.0053565222037975585), (1928, 0.011866463200948103), (1929, 0.0028495899056188902), (1930, 0.005496552012002739), (1931, 0.016470085784940938), (1932, 0.007988874258349815), (1933, 0.0053000500890609675), (1934, 0.041367439353922196), (1935, 0.0), (1936, 0.010918192185744358), (1937, 0.01847849705362225), (1938, 0.0), (1939, 0.01742619159924325), (1940, 0.006354879193889098), (1941, 0.006507777105954399), (1942, 0.008572977541371242), (1943, 0.002601741180988907), (1944, 0.02127889881804561), (1945, 0.0077520019234302), (1946, 0.003071584073283062), (1947, 0.003469963107526969), (1948, 0.005271800009319871), (1949, 0.005636948928808084), (1950, 0.011015106770866532), (1951, 0.0031713795609179317), (1952, 0.005855029367068451), (1953, 0.0052830619258306365), (1954, 0.002647837855166665), (1955, 0.008081358034291941), (1956, 0.0), (1957, 0.0), (1958, 0.005549956129109486), (1959, 0.0032333822789687382), (1960, 0.009329641671346842), (1961, 0.03431937257813947), (1962, 0.006057250317504477), (1963, 0.0), (1964, 0.017105306919409334), (1965, 0.00803611030935869), (1966, 0.011679131679294236), (1967, 0.008186008189645164), (1968, 0.009895696152494998), (1969, 0.002884647898574281), (1970, 0.005539872336392514), (1971, 0.011430209370492998), (1972, 0.0), (1973, 0.04897543529305655), (1974, 0.0), (1975, 0.0057270822660577805), (1976, 0.0060740136099527685), (1977, 0.0026613628384866755), (1978, 0.0), (1979, 0.0), (1980, 0.0026810233596268906), (1981, 0.0), (1982, 0.007046924687069916), (1983, 0.033917604440984434), (1984, 0.0), (1985, 0.008514639481673233), (1986, 0.0), (1987, 0.007062199059503361), (1988, 0.011390031870303992), (1989, 0.012947373375852531), (1990, 0.004953680090580031), (1991, 0.037297548360627916), (1992, 0.005079700607328927), (1993, 0.017961497044747116), (1994, 0.0), (1995, 0.003214141391677285), (1996, 0.005224438896141942), (1997, 0.009154998558071779), (1998, 0.029934423444322088), (1999, 0.008690693771514945), (2000, 0.013040351583654507), (2001, 0.0), (2002, 0.0), (2003, 0.0), (2004, 0.023971252613807777), (2005, 0.0), (2006, 0.00656125033289671), (2007, 0.0), (2008, 0.008194629498814759), (2009, 0.0), (2010, 0.008436293516715945), (2011, 0.0027180079535799955), (2012, 0.006252999615048296), (2013, 0.01882486187657957), (2014, 0.007652030799232781), (2015, 0.013711196028678376), (2016, 0.011089997947190155), (2017, 0.01364983321156298), (2018, 0.0), (2019, 0.007640829760576416), (2020, 0.03627862793942746), (2021, 0.0), (2022, 0.019064455676713294), (2023, 0.002814833722319233), (2024, 0.00806908346431154), (2025, 0.0), (2026, 0.0), (2027, 0.015784938259735162), (2028, 0.006249050464734916), (2029, 0.002918255886226113), (2030, 0.0), (2031, 0.0076038321406699215), (2032, 0.0), (2033, 0.0), (2034, 0.008801200436779594), (2035, 0.0025322402977091536), (2036, 0.010941356184909505), (2037, 0.10991571131813768), (2038, 0.0), (2039, 0.002514343499940237), (2040, 0.022587801454778577), (2041, 0.0), (2042, 0.0), (2043, 0.010884198981268078), (2044, 0.005775517809636374), (2045, 0.016382419998451865), (2046, 0.0), (2047, 0.0026413750247207507), (2048, 0.010995237914102415), (2049, 0.031540255553513516), (2050, 0.018796869381609398), (2051, 0.03082331911740751), (2052, 0.0), (2053, 0.04973040840089175), (2054, 0.0), (2055, 0.0236278405021275), (2056, 0.0), (2057, 0.005273029626151675), (2058, 0.023120167281383417), (2059, 0.0), (2060, 0.0029587621632568397), (2061, 0.020708542367144388), (2062, 0.00526485883548502), (2063, 0.040646168999027066), (2064, 0.0), (2065, 0.00959756926707361), (2066, 0.014771606419498562), (2067, 0.010746941344468878), (2068, 0.015549713942469137), (2069, 0.008279082854192363), (2070, 0.007207491126909185), (2071, 0.0), (2072, 0.016956627767597578), (2073, 0.0030464050118453206), (2074, 0.0233326749690745), (2075, 0.021122039866330423), (2076, 0.0025210163663167452), (2077, 0.0), (2078, 0.047389449562400605), (2079, 0.0), (2080, 0.0028880214416445735), (2081, 0.0), (2082, 0.0), (2083, 0.0031281523987822793), (2084, 0.005867993214562242), (2085, 0.0), (2086, 0.0), (2087, 0.0029235640954724026), (2088, 0.03412029392402577), (2089, 0.009901396925040926), (2090, 0.0), (2091, 0.008543686653410786), (2092, 0.0), (2093, 0.012144151648717261), (2094, 0.00514529654647705), (2095, 0.01486053575628996), (2096, 0.0455514094071814), (2097, 0.003252751135906849), (2098, 0.0219152237761377), (2099, 0.002793861681333033), (2100, 0.030610911244895213), (2101, 0.0), (2102, 0.0029221882205873457), (2103, 0.027884462405376145), (2104, 0.00899913394764514), (2105, 0.0031829648638587817), (2106, 0.0), (2107, 0.022994329909419693), (2108, 0.0033176892513078916), (2109, 0.0030131101548559807), (2110, 0.004988782685626999), (2111, 0.04397446397837342), (2112, 0.009300397449715721), (2113, 0.0), (2114, 0.0), (2115, 0.02862572736291387), (2116, 0.003226099326311808), (2117, 0.04493182584401925), (2118, 0.021338521700185725), (2119, 0.005043979964813453), (2120, 0.0), (2121, 0.008022065897761388), (2122, 0.0030175861402559853), (2123, 0.0030939248655331777), (2124, 0.0), (2125, 0.01926904121167357), (2126, 0.0030826350634810197), (2127, 0.008968072558822668), (2128, 0.010321632142775799), (2129, 0.0027697318523728777), (2130, 0.013273310872217232), (2131, 0.026061544449425218), (2132, 0.0024972020499104564), (2133, 0.0028272683019057703), (2134, 0.003343446973823081), (2135, 0.0), (2136, 0.014231084181884839), (2137, 0.021271950380660425), (2138, 0.0), (2139, 0.01232380330929963), (2140, 0.0), (2141, 0.020017876365918473), (2142, 0.04350137182726332), (2143, 0.0200237001092026), (2144, 0.027805499271314715), (2145, 0.009321995232895904), (2146, 0.002554479640846923), (2147, 0.04218390404908014), (2148, 0.0030981990052431135), (2149, 0.002792869841696926), (2150, 0.007450347362535071), (2151, 0.00318695569505726), (2152, 0.0), (2153, 0.0077356514498044425), (2154, 0.010793343043281703), (2155, 0.0030413664013200876), (2156, 0.0), (2157, 0.06930408590532895), (2158, 0.028146386891124142), (2159, 0.018044652206587002), (2160, 0.0), (2161, 0.015986680493460522), (2162, 0.0032099456923832246), (2163, 0.002667141843465526), (2164, 0.00861140737158871), (2165, 0.0), (2166, 0.0028150959667040724), (2167, 0.0), (2168, 0.008981980377664255), (2169, 0.11047557104603418), (2170, 0.0), (2171, 0.051245695638969344), (2172, 0.007878814886533608), (2173, 0.0029434220518259314), (2174, 0.0083523834637389), (2175, 0.028929932916683304), (2176, 0.07689934102105543), (2177, 0.05227938081948653), (2178, 0.0052887343823284924), (2179, 0.0), (2180, 0.0), (2181, 0.0061717241559642085), (2182, 0.027119148472878593), (2183, 0.007134403835297312), (2184, 0.0), (2185, 0.006892321430097479), (2186, 0.0), (2187, 0.003430578097140396), (2188, 0.010283745003485658), (2189, 0.004195925375542092), (2190, 0.003221987180527141), (2191, 0.007556982165871782), (2192, 0.0030101994402885945), (2193, 0.016512948022842772), (2194, 0.0), (2195, 0.03143483619316228), (2196, 0.008910891842033416), (2197, 0.00459876173441864), (2198, 0.01541651568081323), (2199, 0.021301451507397477), (2200, 0.0), (2201, 0.0027806119607133397), (2202, 0.019776775801837208), (2203, 0.016428768256536035), (2204, 0.0), (2205, 0.022596321201000306), (2206, 0.005197185224040701), (2207, 0.0), (2208, 0.013917145057546113), (2209, 0.003327761305361549), (2210, 0.034386569991978935), (2211, 0.0025046221479484935), (2212, 0.0029826342804283473), (2213, 0.002665576102483983), (2214, 0.00916183757643428), (2215, 0.0), (2216, 0.008258327537271137), (2217, 0.0), (2218, 0.008553204944585146), (2219, 0.03672294404764315), (2220, 0.0), (2221, 0.017410944815276573), (2222, 0.0), (2223, 0.003398645999652264), (2224, 0.07438466107527365), (2225, 0.0), (2226, 0.0681155159000169), (2227, 0.0), (2228, 0.0), (2229, 0.023825260577211512), (2230, 0.0030697764457860424), (2231, 0.032685118137202096), (2232, 0.005312056853317154), (2233, 0.008442990441438411), (2234, 0.03217701541078857), (2235, 0.005587162903484802), (2236, 0.013619174966220112), (2237, 0.009373912425201216), (2238, 0.0), (2239, 0.011724336432837473), (2240, 0.0026230969076709307), (2241, 0.0), (2242, 0.02819091681523175), (2243, 0.012892300784618258), (2244, 0.0), (2245, 0.01686085669527338), (2246, 0.015903645860646555), (2247, 0.01577390208606333), (2248, 0.002687277179249402), (2249, 0.020615489896281706), (2250, 0.028322230062146483), (2251, 0.004158962650273106), (2252, 0.005858379673642709), (2253, 0.0), (2254, 0.021940312192065194), (2255, 0.010871476709314772), (2256, 0.0), (2257, 0.003848432165648569), (2258, 0.0), (2259, 0.01599611581478584), (2260, 0.0031975840181311718), (2261, 0.0), (2262, 0.0), (2263, 0.0), (2264, 0.03823195231289402), (2265, 0.0027135787869506703), (2266, 0.0036805543723718516), (2267, 0.0), (2268, 0.0028868248099859686), (2269, 0.0034692081963269895), (2270, 0.0025826480751046208), (2271, 0.009933440311988152), (2272, 0.0), (2273, 0.006417611666791438), (2274, 0.0), (2275, 0.00736325474273701), (2276, 0.024027353937172008), (2277, 0.05111528453155868), (2278, 0.005516125638398364), (2279, 0.0029124328281989035), (2280, 0.005386180765486797), (2281, 0.03538280370612062), (2282, 0.0), (2283, 0.025178901940187258), (2284, 0.02055612597660162), (2285, 0.02735071423605443), (2286, 0.020912627617977672), (2287, 0.015331169651201938), (2288, 0.003161701517812117), (2289, 0.002968415250771961), (2290, 0.030586822071578534), (2291, 0.03404871052023927), (2292, 0.0030443914717085932), (2293, 0.0032581976327778566), (2294, 0.07110283114877086), (2295, 0.008560374306980168), (2296, 0.006462875689753762), (2297, 0.023398429725963274), (2298, 0.0075920178009702), (2299, 0.03349050478287037), (2300, 0.03445278820660653), (2301, 0.0027342803987317706), (2302, 0.0033951082851809075), (2303, 0.002819136195022572), (2304, 0.0), (2305, 0.0), (2306, 0.10551993946246564), (2307, 0.0), (2308, 0.015041912945225047), (2309, 0.06654332578583644), (2310, 0.003996523938960877), (2311, 0.0), (2312, 0.0557011875158501), (2313, 0.04231501615481976), (2314, 0.005981388738787852), (2315, 0.0), (2316, 0.07090545899916292), (2317, 0.0027657355723390018), (2318, 0.014413497080745937), (2319, 0.032742215687982364), (2320, 0.0034749131464390627), (2321, 0.02787285199334788), (2322, 0.0), (2323, 0.00269744744433722), (2324, 0.017639822471596355), (2325, 0.0), (2326, 0.004269521068946218), (2327, 0.0), (2328, 0.006673550279814515), (2329, 0.007546310391581139), (2330, 0.026591350316899808), (2331, 0.0), (2332, 0.007928334988997811), (2333, 0.0), (2334, 0.11793524380161752), (2335, 0.0), (2336, 0.005406770220295062), (2337, 0.02230585822307657), (2338, 0.0027006114680898953), (2339, 0.0), (2340, 0.0029965190984229135), (2341, 0.0), (2342, 0.07935514394922404), (2343, 0.0), (2344, 0.008443918150420325), (2345, 0.0), (2346, 0.003398595878436952), (2347, 0.00274779942458216), (2348, 0.007936982870469293), (2349, 0.004138695895523696), (2350, 0.003840997073989345), (2351, 0.02881425741123948), (2352, 0.006575159035029212), (2353, 0.007921207554712966), (2354, 0.002992094342966511), (2355, 0.007025054350957783), (2356, 0.04058266737625302), (2357, 0.0), (2358, 0.0), (2359, 0.002494879718948654), (2360, 0.0), (2361, 0.003170554345535445), (2362, 0.002740017337377052), (2363, 0.0), (2364, 0.0061858054133896835), (2365, 0.048784867637996276), (2366, 0.0), (2367, 0.02738566303010377), (2368, 0.0), (2369, 0.0), (2370, 0.0031141441463019676), (2371, 0.02615035925558077), (2372, 0.0), (2373, 0.03344674803098306), (2374, 0.008539846753010925), (2375, 0.023008194428077923), (2376, 0.02081702556113523), (2377, 0.008332150391642808), (2378, 0.003517736158312698), (2379, 0.004313854018557222), (2380, 0.0), (2381, 0.021978677869192442), (2382, 0.0025605429030041804), (2383, 0.006045687306109711), (2384, 0.0), (2385, 0.003148288412343021), (2386, 0.0030560182274728454), (2387, 0.0029826140897353114), (2388, 0.007339534203038276), (2389, 0.028395730547556106), (2390, 0.01645311825413244), (2391, 0.00319253417064327), (2392, 0.003902827886020799), (2393, 0.031651538192737534), (2394, 0.003149639185357363), (2395, 0.0), (2396, 0.003016281222426529), (2397, 0.015264130802077214), (2398, 0.037321951161066035), (2399, 0.026408677907511356), (2400, 0.0033808466749168553), (2401, 0.0029050196382956217), (2402, 0.0027070082189576228), (2403, 0.03126810424117463), (2404, 0.0040656178649495145), (2405, 0.03084733951766894), (2406, 0.00989783513793941), (2407, 0.004131879154888601), (2408, 0.02640921756816774), (2409, 0.0), (2410, 0.0032791478760399685), (2411, 0.0033846857460662983), (2412, 0.007316678928926376), (2413, 0.11944978576966747), (2414, 0.0077552583809534495), (2415, 0.0036270805888171343), (2416, 0.01329089454652087), (2417, 0.003499809441911569), (2418, 0.028756944218180452), (2419, 0.003140370087536989), (2420, 0.0), (2421, 0.021217679790018047), (2422, 0.0029015385145037273), (2423, 0.0037670237495780936), (2424, 0.0), (2425, 0.0038740006406848115), (2426, 0.006934553539039256), (2427, 0.0187245096707448), (2428, 0.01778980329382015), (2429, 0.00504022189699462), (2430, 0.016602635041267896), (2431, 0.0), (2432, 0.06004186406395384), (2433, 0.00673735180618859), (2434, 0.0035734308465058882), (2435, 0.0), (2436, 0.015072195580037886), (2437, 0.003392789671547093), (2438, 0.0037024592682513044), (2439, 0.010981037942053774), (2440, 0.00607128702660272), (2441, 0.04310253944853698), (2442, 0.03466296717135423), (2443, 0.005533987016752341), (2444, 0.02149073444265044), (2445, 0.0), (2446, 0.002776276033219271), (2447, 0.007227107253690282), (2448, 0.09097438700126168), (2449, 0.0), (2450, 0.007152080783802285), (2451, 0.008263047623469787), (2452, 0.0), (2453, 0.0027472581156136188), (2454, 0.0036094428548030886), (2455, 0.0), (2456, 0.02644304387737561), (2457, 0.018839313212861475), (2458, 0.0), (2459, 0.010256308844452904), (2460, 0.02103790549829237), (2461, 0.06526113048598182), (2462, 0.0), (2463, 0.002938172468190145), (2464, 0.003278260485959834), (2465, 0.02570409986036987), (2466, 0.016805680257353323), (2467, 0.10008318843581193), (2468, 0.006352967503693409), (2469, 0.002340294356929125), (2470, 0.0), (2471, 0.011881438288356281), (2472, 0.015436025823431534), (2473, 0.010173882406564631), (2474, 0.033523327841656826), (2475, 0.0032145279970582485), (2476, 0.038237502923995935), (2477, 0.00910408345845954), (2478, 0.0034314148130150314), (2479, 0.008591226508430642), (2480, 0.01865057628904977), (2481, 0.04791690998398278), (2482, 0.015083635610742972), (2483, 0.0), (2484, 0.003996649988764394), (2485, 0.0), (2486, 0.05158322311003624), (2487, 0.0), (2488, 0.0036530263080357278), (2489, 0.003046199729745301), (2490, 0.00430825247783776), (2491, 0.0), (2492, 0.0030078221520654634), (2493, 0.014761412645128306), (2494, 0.016181285263593116), (2495, 0.002988849979700385), (2496, 0.019120409948656922), (2497, 0.0), (2498, 0.0), (2499, 0.0), (2500, 0.0), (2501, 0.013194043557144335), (2502, 0.002637267536114953), (2503, 0.0), (2504, 0.007511676538989628), (2505, 0.003319617759945407), (2506, 0.013173525108475546), (2507, 0.003247071400469911), (2508, 0.0), (2509, 0.022653047407031123), (2510, 0.0), (2511, 0.0), (2512, 0.05794881994298601), (2513, 0.0), (2514, 0.0), (2515, 0.0), (2516, 0.0), (2517, 0.011425911053061727), (2518, 0.0), (2519, 0.0), (2520, 0.002591209044719256), (2521, 0.0), (2522, 0.017180256117701583), (2523, 0.009070788060963701), (2524, 0.004381342198575978), (2525, 0.015409142751539347), (2526, 0.024266864705322435), (2527, 0.0025708660410383747), (2528, 0.015196564766925462), (2529, 0.004339028997982711), (2530, 0.04425969948522791), (2531, 0.003115194450240636), (2532, 0.0086855760012457), (2533, 0.003006372568228578), (2534, 0.00601570589229833), (2535, 0.03006877232324388), (2536, 0.0), (2537, 0.00410048141526825), (2538, 0.02556756010240329), (2539, 0.006678770916317804), (2540, 0.008031013923481769), (2541, 0.0046140979040611195), (2542, 0.009500385604576517), (2543, 0.04986742754170834), (2544, 0.0189194151996702), (2545, 0.0031141936778673984), (2546, 0.003111715765923942), (2547, 0.052334483391523356), (2548, 0.04734650325577911), (2549, 0.015584527254716948), (2550, 0.015660928134299177), (2551, 0.007817226117545031), (2552, 0.0027946318618230896), (2553, 0.0029141136792314583), (2554, 0.03768172892722338), (2555, 0.021730184843600526), (2556, 0.002771683755426932), (2557, 0.018613989912400014), (2558, 0.008427512835105743), (2559, 0.014043149135470697), (2560, 0.0034306527120177106), (2561, 0.003118474537729487), (2562, 0.005792717802134159), (2563, 0.0024721377392908934), (2564, 0.0), (2565, 0.01735914180962773), (2566, 0.012707091047101049), (2567, 0.03145368210169104), (2568, 0.0036557867447803635), (2569, 0.010555797849381479), (2570, 0.00351809452037592), (2571, 0.002887920631523548), (2572, 0.0028315061912873303), (2573, 0.004456999073491037), (2574, 0.014999304844241584), (2575, 0.008408982620047856), (2576, 0.09712258372412004), (2577, 0.0), (2578, 0.0), (2579, 0.030409286011873905), (2580, 0.007525067544665731), (2581, 0.0), (2582, 0.038272235666494514), (2583, 0.0), (2584, 0.026520445856241207), (2585, 0.003327531351788785), (2586, 0.0), (2587, 0.013318978867814598), (2588, 0.025857133919974934), (2589, 0.0), (2590, 0.019612764590471506), (2591, 0.002681695018058808), (2592, 0.003309141876378886), (2593, 0.002757815648791629), (2594, 0.011258000630215904), (2595, 0.09451950208937324), (2596, 0.0), (2597, 0.022086193995795804), (2598, 0.039205253770431), (2599, 0.03671102030840356), (2600, 0.0), (2601, 0.003117340212652479), (2602, 0.006991804089620121), (2603, 0.002510492500198161), (2604, 0.013080357894053278), (2605, 0.008031290662482302), (2606, 0.037210456134063194), (2607, 0.007552967634097891), (2608, 0.010527365493677866), (2609, 0.02566045381360811), (2610, 0.0031589537390841055), (2611, 0.0025643916888778507), (2612, 0.026201223401319584), (2613, 0.03713076994706378), (2614, 0.006491264025955825), (2615, 0.01831202795786913), (2616, 0.05664343274885264), (2617, 0.00742919527104962), (2618, 0.00517846053659826), (2619, 0.016239799398089266), (2620, 0.0), (2621, 0.0073310993670552774), (2622, 0.0046130668600804095), (2623, 0.0033838988903418733), (2624, 0.01642256596378973), (2625, 0.017243423922446436), (2626, 0.020646524671510926), (2627, 0.011255776357027684), (2628, 0.01964742038218119), (2629, 0.038956819344481766), (2630, 0.020036226903099832), (2631, 0.0), (2632, 0.00822833612025252), (2633, 0.0031380817068812207), (2634, 0.01956901232640054), (2635, 0.014083434062819814), (2636, 0.019148082991629796), (2637, 0.022620163227033557), (2638, 0.009574104945757061), (2639, 0.0), (2640, 0.023753471650654435), (2641, 0.007372434710386379), (2642, 0.020405064353700493), (2643, 0.019410578945766234), (2644, 0.0), (2645, 0.02435261491726006), (2646, 0.012363649797850698), (2647, 0.026957743268123655), (2648, 0.0), (2649, 0.05783067422479834), (2650, 0.028186664421358774), (2651, 0.014199834984153826), (2652, 0.0030218889317372255), (2653, 0.013013240167146296), (2654, 0.009565849925427283), (2655, 0.028891703569160987), (2656, 0.0), (2657, 0.0), (2658, 0.0), (2659, 0.0), (2660, 0.0), (2661, 0.02248262070309335), (2662, 0.0), (2663, 0.0), (2664, 0.0031866994813328593), (2665, 0.0), (2666, 0.02219141996758721), (2667, 0.0), (2668, 0.03340430511569767), (2669, 0.0), (2670, 0.0), (2671, 0.026526989567475335), (2672, 0.008623298362253607), (2673, 0.003976334745775824), (2674, 0.0027515548006504477), (2675, 0.0), (2676, 0.02937845854990211), (2677, 0.02496241856097082), (2678, 0.0048680955529987035), (2679, 0.002828502871439111), (2680, 0.08628332882145402), (2681, 0.0), (2682, 0.0050729326897641655), (2683, 0.006090360770137304), (2684, 0.01740610199518668), (2685, 0.0), (2686, 0.0), (2687, 0.10205831443090464), (2688, 0.015605671970466257), (2689, 0.01850505492539082), (2690, 0.0486577300860806), (2691, 0.0205090830418308), (2692, 0.03179699053985203), (2693, 0.0), (2694, 0.01999218294651737), (2695, 0.008436797839633043), (2696, 0.0034747288698545216), (2697, 0.006898355946451081), (2698, 0.0029123040551909526), (2699, 0.0), (2700, 0.0061082367443546035), (2701, 0.0), (2702, 0.003416345453613003), (2703, 0.0), (2704, 0.02842796842673759), (2705, 0.0032365550475251656), (2706, 0.002841741166231484), (2707, 0.01253785273200897), (2708, 0.0), (2709, 0.0), (2710, 0.020452234627703944), (2711, 0.005173679915218187), (2712, 0.0031937188965523375), (2713, 0.03515388209647084), (2714, 0.008917962897242263), (2715, 0.010128373836010401), (2716, 0.00811648280612553), (2717, 0.0), (2718, 0.0067139854586990505), (2719, 0.0), (2720, 0.003503311815078286), (2721, 0.0025972854604485655), (2722, 0.0041962046568158684), (2723, 0.03343962201756716), (2724, 0.031186596890092944), (2725, 0.025728875192448302), (2726, 0.0), (2727, 0.0065397928752252196), (2728, 0.0027207720442344084), (2729, 0.0224772166848492), (2730, 0.0), (2731, 0.00401231504611211), (2732, 0.024345245217460735), (2733, 0.00603992061651614), (2734, 0.0), (2735, 0.0027598469924100693), (2736, 0.00517728778422678), (2737, 0.0), (2738, 0.003527469710478046), (2739, 0.003280289264035565), (2740, 0.020690543329469333), (2741, 0.009618594498504173), (2742, 0.005048274303752226), (2743, 0.002562756393840268), (2744, 0.0493460714399845), (2745, 0.01651726835292025), (2746, 0.02908907801131548), (2747, 0.0025900397054883367), (2748, 0.0032504110027200984), (2749, 0.007001936363737658), (2750, 0.0), (2751, 0.015109767271449616), (2752, 0.00285894160524911), (2753, 0.0026332978545848887), (2754, 0.0), (2755, 0.011296036504034917), (2756, 0.016101168642076214), (2757, 0.004575062668467266), (2758, 0.0025386291548404535), (2759, 0.005298177860994225), (2760, 0.0022942647242830756), (2761, 0.01802251712138362), (2762, 0.0), (2763, 0.007513560884446088), (2764, 0.004258563301501181), (2765, 0.015554717442711346), (2766, 0.002371799318372471), (2767, 0.05209236378988409), (2768, 0.011978064193761084), (2769, 0.03202153834351235), (2770, 0.0), (2771, 0.018499110357298933), (2772, 0.017778730140178865), (2773, 0.0), (2774, 0.006147804832429495), (2775, 0.004057906984063013), (2776, 0.04602279853345964), (2777, 0.015141592011483438), (2778, 0.01018899173594729), (2779, 0.002853457805040303), (2780, 0.030625192828014056), (2781, 0.014484972473185899), (2782, 0.03470822609603998), (2783, 0.0030081588158470877), (2784, 0.008612750884786226), (2785, 0.0), (2786, 0.003201007244087666), (2787, 0.005170225481753414), (2788, 0.005535498709366401), (2789, 0.004519562441367749), (2790, 0.0309917196113028), (2791, 0.016009619565651438), (2792, 0.07380134109003035), (2793, 0.0), (2794, 0.0), (2795, 0.010641450514111125), (2796, 0.003420761313648166), (2797, 0.003658643382829747), (2798, 0.03192587729610222), (2799, 0.0), (2800, 0.002824059540644211), (2801, 0.004664243176104131), (2802, 0.026527708565415968), (2803, 0.01466986534887555), (2804, 0.007695952781920469), (2805, 0.0), (2806, 0.008520489598739465), (2807, 0.0), (2808, 0.10857573664955139), (2809, 0.020370879733425985), (2810, 0.0), (2811, 0.0), (2812, 0.0028170042877898706), (2813, 0.024191729125318424), (2814, 0.028432681336518942), (2815, 0.0), (2816, 0.0), (2817, 0.0), (2818, 0.0), (2819, 0.005759941980122573), (2820, 0.02815310018960974), (2821, 0.0031732669891506274), (2822, 0.006639776764597261), (2823, 0.0), (2824, 0.0), (2825, 0.0), (2826, 0.010739756307788707), (2827, 0.0), (2828, 0.0), (2829, 0.0), (2830, 0.026774739457975337), (2831, 0.02969320835254073), (2832, 0.003922765073389018), (2833, 0.0), (2834, 0.003708387003422315), (2835, 0.022060670060227175), (2836, 0.0), (2837, 0.0), (2838, 0.0038200198005134385), (2839, 0.0), (2840, 0.00939811007199685), (2841, 0.03078443650517869), (2842, 0.010391816955932285), (2843, 0.017086948544869668), (2844, 0.01729723036106177), (2845, 0.002751215526086511), (2846, 0.003497573074910882), (2847, 0.023327472771002323), (2848, 0.04944068306296956), (2849, 0.0031600660869284232), (2850, 0.044932378204979855), (2851, 0.0), (2852, 0.0), (2853, 0.00297413790222824), (2854, 0.009358331685270766), (2855, 0.0), (2856, 0.0), (2857, 0.0036897239272235772), (2858, 0.004236782148471011), (2859, 0.002833893825706043), (2860, 0.008347248340657068), (2861, 0.0039620076099154975), (2862, 0.0027856968462329663), (2863, 0.05331305001145785), (2864, 0.0), (2865, 0.0), (2866, 0.0), (2867, 0.0436519911305885), (2868, 0.0027654841084664744), (2869, 0.014895512509960471), (2870, 0.004052106801567037), (2871, 0.00483465687964515), (2872, 0.0034407539491412755), (2873, 0.02884237387271976), (2874, 0.0), (2875, 0.0), (2876, 0.017491463668495605), (2877, 0.008812098612729233), (2878, 0.017249926279122994), (2879, 0.010262050329450465), (2880, 0.0), (2881, 0.009543446915898948), (2882, 0.03424935109517342), (2883, 0.004044990112021054), (2884, 0.0034505818691598364), (2885, 0.005470100648212183), (2886, 0.002851781933321799), (2887, 0.010824378884725679), (2888, 0.011571890990157176), (2889, 0.004114824531278377), (2890, 0.0032983515532940704), (2891, 0.0), (2892, 0.002837393047803361), (2893, 0.0033897183001823372), (2894, 0.0030674271596626153), (2895, 0.02717377215705613), (2896, 0.0), (2897, 0.050500195758900426), (2898, 0.0346909125140742), (2899, 0.007921159586079349), (2900, 0.0029796088525771676), (2901, 0.003837752469722584), (2902, 0.0021984126168778343), (2903, 0.009449638255682697), (2904, 0.003109004844706444), (2905, 0.027672045451713912), (2906, 0.009240828046727247), (2907, 0.0027722125838768423), (2908, 0.006771500753965858), (2909, 0.015959614737801053), (2910, 0.00824454492800933), (2911, 0.015620093348743671), (2912, 0.002894336781539913), (2913, 0.0), (2914, 0.003380489386173299), (2915, 0.02939210317403387), (2916, 0.003348140054842882), (2917, 0.01717201567932159), (2918, 0.005238405037302742), (2919, 0.008704916640040593), (2920, 0.009774282124890578), (2921, 0.0), (2922, 0.0), (2923, 0.0040274338441781115), (2924, 0.0034665989230599947), (2925, 0.006765525986341088), (2926, 0.04506922552470909), (2927, 0.009323232572744545), (2928, 0.017271089195267007), (2929, 0.004849393171157376), (2930, 0.0), (2931, 0.0027038976951217772), (2932, 0.011141061259735834), (2933, 0.002538456349646271), (2934, 0.0030108920933654753), (2935, 0.0), (2936, 0.003383701019509091), (2937, 0.015339934818064598), (2938, 0.0), (2939, 0.006772001345800329), (2940, 0.011418113339324826), (2941, 0.0), (2942, 0.023853420247021022), (2943, 0.002978371281305093), (2944, 0.14547471180277508), (2945, 0.002925963309074107), (2946, 0.0029416728835399467), (2947, 0.005572944118088969), (2948, 0.0), (2949, 0.00900342080340454), (2950, 0.007311262029582745), (2951, 0.0), (2952, 0.0), (2953, 0.01588618348641148), (2954, 0.0027293150421437034), (2955, 0.04616618269271103), (2956, 0.008611325939183779), (2957, 0.0036568746915400805), (2958, 0.0), (2959, 0.005723964468350315), (2960, 0.013392575740694121), (2961, 0.008294266835138616), (2962, 0.0), (2963, 0.048239453057687426), (2964, 0.00319415879092152), (2965, 0.03543139726016697), (2966, 0.0036337183942058058), (2967, 0.0), (2968, 0.01459907785074572), (2969, 0.0024791372076831014), (2970, 0.0031860724820329724), (2971, 0.0), (2972, 0.0028175329803473126), (2973, 0.0), (2974, 0.0033559705894824986), (2975, 0.0026260529719009645), (2976, 0.002677664168956965), (2977, 0.043753028037891196), (2978, 0.00591222058166973), (2979, 0.0), (2980, 0.04464358786408402), (2981, 0.007198215836418187), (2982, 0.013678528311304578), (2983, 0.0), (2984, 0.004991936642274982), (2985, 0.002493254891334356), (2986, 0.003535656748217728), (2987, 0.0034508159229791574), (2988, 0.10239767075242323), (2989, 0.004165070894088169), (2990, 0.016180226622924527), (2991, 0.01906278417348084), (2992, 0.005069769943219769), (2993, 0.003605345157308455), (2994, 0.010564346159594631), (2995, 0.019848966763796265), (2996, 0.05300952688016152), (2997, 0.002825265458838207), (2998, 0.01603753760234336), (2999, 0.002972164561388272), (3000, 0.015366752411912822), (3001, 0.0), (3002, 0.0), (3003, 0.0033205247357466225), (3004, 0.03840393259999193), (3005, 0.005495573705072809), (3006, 0.013416004024840913), (3007, 0.003193300558596974), (3008, 0.013437038739133315), (3009, 0.0), (3010, 0.0028824034102365196), (3011, 0.005250487124922115), (3012, 0.009447270489850928), (3013, 0.048204558064381675), (3014, 0.002821807345526397), (3015, 0.0037877818940805696), (3016, 0.027850780835122137), (3017, 0.0), (3018, 0.04376126036945973), (3019, 0.009809388810750637), (3020, 0.0036287553632959805), (3021, 0.009906168642329533), (3022, 0.006325558111969973), (3023, 0.0), (3024, 0.0024726864160954736), (3025, 0.0), (3026, 0.0033024822411669968), (3027, 0.002689783930690632), (3028, 0.0028885228712504595), (3029, 0.0), (3030, 0.0040493506004009175), (3031, 0.018333708244077658), (3032, 0.009431888419555294), (3033, 0.0), (3034, 0.0), (3035, 0.008021869550506286), (3036, 0.0028418766956185247), (3037, 0.0031551769756657964), (3038, 0.0), (3039, 0.015135030852555882), (3040, 0.004174353193316837), (3041, 0.0), (3042, 0.022172312225629355), (3043, 0.009539032508894766), (3044, 0.01635996484292348), (3045, 0.004490155604072144), (3046, 0.05643454093361245), (3047, 0.010914618702636571), (3048, 0.014168033875996187), (3049, 0.021674834859630208), (3050, 0.0027385896122077897), (3051, 0.021408704558600375), (3052, 0.004082819251300068), (3053, 0.027052950863163606), (3054, 0.0), (3055, 0.004067423055033752), (3056, 0.0235135936468398), (3057, 0.0028040956611134283), (3058, 0.007624673940670245), (3059, 0.0), (3060, 0.0), (3061, 0.018771769893081144), (3062, 0.011843509880453336), (3063, 0.021734165629811803), (3064, 0.0032525154431026046), (3065, 0.01369225074736621), (3066, 0.06452619935670406), (3067, 0.020689651894701254), (3068, 0.025050064050211856), (3069, 0.0029190197278217704), (3070, 0.004856999822655289), (3071, 0.002799766400411322), (3072, 0.0034741499339637346), (3073, 0.0), (3074, 0.0036673195947011855), (3075, 0.0029030417031598037), (3076, 0.0412481875382431), (3077, 0.0), (3078, 0.015444956628944372), (3079, 0.005011028187884695), (3080, 0.0), (3081, 0.003517779329584254), (3082, 0.033126945415597506), (3083, 0.011173247238877668), (3084, 0.03955978184701875), (3085, 0.01797160260537496), (3086, 0.009102767227605767), (3087, 0.0), (3088, 0.0), (3089, 0.0), (3090, 0.0), (3091, 0.029147320868136133), (3092, 0.0), (3093, 0.0029417073838480553), (3094, 0.031743589162142975), (3095, 0.009046557353063507), (3096, 0.009286162293443426), (3097, 0.0032960246246316), (3098, 0.0), (3099, 0.011679600451437434), (3100, 0.012265647755534674), (3101, 0.0033023759556843136), (3102, 0.0), (3103, 0.0), (3104, 0.0), (3105, 0.007346581724813562), (3106, 0.0), (3107, 0.0), (3108, 0.007562888910414022), (3109, 0.0), (3110, 0.006116631523430179), (3111, 0.01874459397723866), (3112, 0.009061002758343335), (3113, 0.003048743082224474), (3114, 0.007112389289066642), (3115, 0.0187112382784536), (3116, 0.0032846770173277496), (3117, 0.006233260560910038), (3118, 0.027447670528397517), (3119, 0.004097907538903942), (3120, 0.002767395039081661), (3121, 0.01967591706874814), (3122, 0.008038533946370606), (3123, 0.02493887006214225), (3124, 0.013632778123678177), (3125, 0.008468024554713583), (3126, 0.005207115018822089), (3127, 0.010167160966967593), (3128, 0.054323618865779265), (3129, 0.0317906318710557), (3130, 0.0), (3131, 0.014048319575190177), (3132, 0.0337508393301148), (3133, 0.03503249074819973), (3134, 0.03890037304445945), (3135, 0.025077706852825846), (3136, 0.023457028407327274), (3137, 0.04243492705048844), (3138, 0.0), (3139, 0.004232022929233279), (3140, 0.018888171749597057), (3141, 0.007412257240570631), (3142, 0.0), (3143, 0.01621281791963816), (3144, 0.0), (3145, 0.0), (3146, 0.03487612058051623), (3147, 0.025662418481733902), (3148, 0.0033843197335117247), (3149, 0.012901043989950282), (3150, 0.014109379963431368), (3151, 0.0028473432683042946), (3152, 0.03635728877431049), (3153, 0.008676992567744736), (3154, 0.010313451782812138), (3155, 0.003009561604500199), (3156, 0.012647024769992701), (3157, 0.0033270426683193314), (3158, 0.04454893956196851), (3159, 0.003699477971548508), (3160, 0.004776069793554682), (3161, 0.005363977094991527), (3162, 0.0), (3163, 0.025716654297430325), (3164, 0.02169626803824402), (3165, 0.003433226349034549), (3166, 0.018705863113298353), (3167, 0.002676908767120481), (3168, 0.021183239309589905), (3169, 0.01232182153725189), (3170, 0.0028436624705654766), (3171, 0.0028433722705196985), (3172, 0.008958447833428388), (3173, 0.02671739357007709), (3174, 0.0029811340796868217), (3175, 0.0), (3176, 0.0), (3177, 0.012705274221162879), (3178, 0.004725949031099897), (3179, 0.005583193349105354), (3180, 0.00604919221942077), (3181, 0.0), (3182, 0.0030449518876913173), (3183, 0.016435038257420743), (3184, 0.029138852533422178), (3185, 0.00825032115091387), (3186, 0.017017634566909384), (3187, 0.014191091392429637), (3188, 0.0), (3189, 0.01262799999073674), (3190, 0.059148315300775245), (3191, 0.005597687558943573), (3192, 0.0), (3193, 0.007227175917058086), (3194, 0.0028213359757804897), (3195, 0.008292381133200907), (3196, 0.00944895586614524), (3197, 0.0), (3198, 0.003087871987360273), (3199, 0.0023147486555319557), (3200, 0.0025397555974357045), (3201, 0.0), (3202, 0.02143313179117022), (3203, 0.0), (3204, 0.0), (3205, 0.01907780050466773), (3206, 0.012924997035902627), (3207, 0.0), (3208, 0.00808758164620785), (3209, 0.0), (3210, 0.008499618434574176), (3211, 0.0025880322984745767), (3212, 0.0), (3213, 0.03817644197877182), (3214, 0.0028536793857370877), (3215, 0.010981553202138597), (3216, 0.0527230605694082), (3217, 0.0), (3218, 0.0031867002102734195), (3219, 0.003906318903628459), (3220, 0.002921366354832793), (3221, 0.0), (3222, 0.014969549810385374), (3223, 0.0), (3224, 0.0031120364548695967), (3225, 0.003063087249987733), (3226, 0.03173721689553301), (3227, 0.008496233890223259), (3228, 0.010226060815164814), (3229, 0.05516623083745763), (3230, 0.05255238742632404), (3231, 0.00688955035804549), (3232, 0.02317459480523246), (3233, 0.008668739809563158), (3234, 0.003267269427437266), (3235, 0.014375957823674729), (3236, 0.012783539662132417), (3237, 0.002952370863098884), (3238, 0.0025723800477931652), (3239, 0.0037685801811646875), (3240, 0.0702039995475941), (3241, 0.03102553288501981), (3242, 0.0031382560516771954), (3243, 0.002799591779721649), (3244, 0.0), (3245, 0.0), (3246, 0.020077535019058363), (3247, 0.014410673248579947), (3248, 0.053335160366274684), (3249, 0.003738522952192574), (3250, 0.024028498347811778), (3251, 0.0), (3252, 0.0665353237144646), (3253, 0.0), (3254, 0.0024440333519787434), (3255, 0.0), (3256, 0.0), (3257, 0.003601734056861166), (3258, 0.003250343131735721), (3259, 0.0), (3260, 0.10177753180861115), (3261, 0.026789712941881018), (3262, 0.0038461170078655784), (3263, 0.005923454278932757), (3264, 0.0031562219008436487), (3265, 0.0), (3266, 0.0), (3267, 0.0027122464147479705), (3268, 0.002852908832216342), (3269, 0.003233355352872134), (3270, 0.0), (3271, 0.03405510698819462), (3272, 0.01851321554875954), (3273, 0.033019543491885434), (3274, 0.0033679055417981554), (3275, 0.00984875374867121), (3276, 0.07682471006137452), (3277, 0.018904744849819372), (3278, 0.00271795373878347), (3279, 0.004659143811862214), (3280, 0.0), (3281, 0.0), (3282, 0.0038764501137846415), (3283, 0.030210021199208986), (3284, 0.04444891942444624), (3285, 0.0022471407493678103), (3286, 0.030906841928674756), (3287, 0.007953538307757186), (3288, 0.0), (3289, 0.003063324292597879), (3290, 0.016840406368349905), (3291, 0.004016852129924865), (3292, 0.003902043993168258), (3293, 0.002829182701666931), (3294, 0.0), (3295, 0.0), (3296, 0.0033997196805471523), (3297, 0.05961719357763677), (3298, 0.026206300574951106), (3299, 0.020810893152162408), (3300, 0.0028090119613795777), (3301, 0.0023407263662543532), (3302, 0.05078145751959093), (3303, 0.008575026183162422), (3304, 0.002706604518749482), (3305, 0.0), (3306, 0.0027403646482432814), (3307, 0.09206193658564776), (3308, 0.017768353857471195), (3309, 0.0), (3310, 0.0), (3311, 0.002703903166416276), (3312, 0.006315297710923262), (3313, 0.0024403869352240307), (3314, 0.01591765957698339), (3315, 0.012882369147471937), (3316, 0.03678704704069145), (3317, 0.00690167692384192), (3318, 0.00759443591515878), (3319, 0.0), (3320, 0.0), (3321, 0.0), (3322, 0.003847027576896772), (3323, 0.0), (3324, 0.0), (3325, 0.015055062394910761), (3326, 0.0031658678724178707), (3327, 0.00958202392568766), (3328, 0.020819742870946574), (3329, 0.002732666455525985), (3330, 0.008397706583233275), (3331, 0.007024171484314026), (3332, 0.0), (3333, 0.0), (3334, 0.0057207835695219375), (3335, 0.02741087908211363), (3336, 0.024418555976385224), (3337, 0.0034489754027699844), (3338, 0.00506566378668736), (3339, 0.004679233551310495), (3340, 0.0), (3341, 0.01640991487506186), (3342, 0.03327392486799077), (3343, 0.0), (3344, 0.007156228251463954), (3345, 0.0), (3346, 0.010654316186908307), (3347, 0.002508805067413042), (3348, 0.0028927438569272147), (3349, 0.008742233247614029), (3350, 0.0), (3351, 0.01566412475540257), (3352, 0.026089132606298585), (3353, 0.0031075877028350044), (3354, 0.003763332469162302), (3355, 0.0034388764954564393), (3356, 0.0), (3357, 0.020340724419115424), (3358, 0.003628897884271625), (3359, 0.0034786420849588907), (3360, 0.09707556018809371), (3361, 0.012429982432245133), (3362, 0.08214260428818926), (3363, 0.0037279018865580137), (3364, 0.003450663758251059), (3365, 0.002107934590944246), (3366, 0.007430334303570129), (3367, 0.013151542421541708), (3368, 0.0), (3369, 0.002757166339180015), (3370, 0.008179244736744331), (3371, 0.0), (3372, 0.0031392776715752197), (3373, 0.01689240429561925), (3374, 0.008362541917702353), (3375, 0.0), (3376, 0.0025524882685245454), (3377, 0.03101640674036863), (3378, 0.0), (3379, 0.002930552470176776), (3380, 0.0026534286807930983), (3381, 0.02930498022011485), (3382, 0.0031190353646976996), (3383, 0.0), (3384, 0.006374508922859503), (3385, 0.006093991612428449), (3386, 0.003028702785249382), (3387, 0.014500238639264055), (3388, 0.00314936104457293), (3389, 0.0027491116690797294), (3390, 0.019954480543433926), (3391, 0.04848281226333961), (3392, 0.0019861175236987974), (3393, 0.012908142615635033), (3394, 0.006709583889874282), (3395, 0.007067687221637299), (3396, 0.0034477889666825238), (3397, 0.006904540995119742), (3398, 0.05716706269343321), (3399, 0.0027926211798180414), (3400, 0.0), (3401, 0.027156138218855642), (3402, 0.0029128295832381848), (3403, 0.023112303104590955), (3404, 0.01335968145280265), (3405, 0.01116042020026913), (3406, 0.0031545748177282625), (3407, 0.012660038702437558), (3408, 0.0034566849093238686), (3409, 0.002550195862558144), (3410, 0.002405365425454735), (3411, 0.0), (3412, 0.0029152388683617533), (3413, 0.0035902835539382075), (3414, 0.003345996131664205), (3415, 0.0), (3416, 0.005432200525567485), (3417, 0.0032921616104959277), (3418, 0.002712660345824949), (3419, 0.012328191049202856), (3420, 0.0), (3421, 0.0020679701106288565), (3422, 0.0), (3423, 0.0034202171880431892), (3424, 0.0), (3425, 0.0034634712093619497), (3426, 0.03467111742402152), (3427, 0.00772266024239063), (3428, 0.04294251443691344), (3429, 0.0036968260685228665), (3430, 0.0024880433692319563), (3431, 0.0024003472721361896), (3432, 0.005397459073921703), (3433, 0.00793424011110612), (3434, 0.003180018836564631), (3435, 0.03225011694571547), (3436, 0.008480580355607262), (3437, 0.008821334530499107), (3438, 0.014018024008747701), (3439, 0.009978971883423168), (3440, 0.006317459854552468), (3441, 0.002964563412356385), (3442, 0.0), (3443, 0.005363042834795954), (3444, 0.008480645120565263), (3445, 0.0030612363500582174), (3446, 0.01792789950564126), (3447, 0.00292084122843982), (3448, 0.032154095430130994), (3449, 0.02931586935514016), (3450, 0.009786408191392145), (3451, 0.005827880091299226), (3452, 0.007857448948745417), (3453, 0.0), (3454, 0.007525828101852306), (3455, 0.002744589766363678), (3456, 0.0037135008306261436), (3457, 0.0), (3458, 0.016429984466506016), (3459, 0.0), (3460, 0.007748517358374835), (3461, 0.008200875447308372), (3462, 0.0), (3463, 0.032838556572079805), (3464, 0.014175105679690441), (3465, 0.1008565100001653), (3466, 0.005118706725944243), (3467, 0.03224077159926293), (3468, 0.005860019203670202), (3469, 0.02207610237897567), (3470, 0.00610307565186836), (3471, 0.00669986434350326), (3472, 0.0), (3473, 0.027303349788537327), (3474, 0.0076567971143156905), (3475, 0.01953788516176892), (3476, 0.03919454133850843), (3477, 0.002963995352642602), (3478, 0.02712942503523416), (3479, 0.07991829277576919), (3480, 0.0), (3481, 0.0), (3482, 0.0077407031936139094), (3483, 0.008921772235622327), (3484, 0.004521801104561774), (3485, 0.010680613230995133), (3486, 0.013407008548088243), (3487, 0.05494157005776983), (3488, 0.005668519321815248), (3489, 0.0), (3490, 0.0), (3491, 0.0030008491368500832), (3492, 0.024028086724675997), (3493, 0.0031285803799349044), (3494, 0.0), (3495, 0.004834915005699953), (3496, 0.0032085283113287002), (3497, 0.0032659215905165677), (3498, 0.008051080007438483), (3499, 0.008277993803469951), (3500, 0.002773179649266051), (3501, 0.008565372398328013), (3502, 0.006581223576433945), (3503, 0.014391695162098471), (3504, 0.008070997993632692), (3505, 0.0), (3506, 0.018873433162713782), (3507, 0.005636541748987119), (3508, 0.028075827910586628), (3509, 0.044456287086694725), (3510, 0.0), (3511, 0.028557360556054484), (3512, 0.004583546402053435), (3513, 0.018289836960729597), (3514, 0.008796879204813162), (3515, 0.0), (3516, 0.00916430148241363), (3517, 0.003094951826151804), (3518, 0.0), (3519, 0.0), (3520, 0.013292730401442947), (3521, 0.010380929833516142), (3522, 0.01230135842907743), (3523, 0.023458305205568117), (3524, 0.00351685768202646), (3525, 0.0209869493710574), (3526, 0.0030590306788079273), (3527, 0.0030898269353126073), (3528, 0.0), (3529, 0.02815274827260238), (3530, 0.0), (3531, 0.023414297949055904), (3532, 0.008858049076246228), (3533, 0.0), (3534, 0.09664878795959853), (3535, 0.006438467133849968), (3536, 0.0031014809015549654), (3537, 0.003707540676727287), (3538, 0.020336696106226473), (3539, 0.0), (3540, 0.0034863298934663177), (3541, 0.0030067936718250897), (3542, 0.0030583097966605166), (3543, 0.0), (3544, 0.0036385179304838024), (3545, 0.026471768379189544), (3546, 0.007970123559160075), (3547, 0.0), (3548, 0.0024580925986024444), (3549, 0.0), (3550, 0.0), (3551, 0.027109741082891083), (3552, 0.05071072274776156), (3553, 0.008351335037217592), (3554, 0.0161907250944382), (3555, 0.012726407926332884), (3556, 0.007534308189162382), (3557, 0.09446408036407601), (3558, 0.0027595891796900252), (3559, 0.0), (3560, 0.012003017960478203), (3561, 0.02034558247518435), (3562, 0.0), (3563, 0.002724306993969862), (3564, 0.0030007112931210683), (3565, 0.002958243897205178), (3566, 0.007226855556595044), (3567, 0.0073711728011658165), (3568, 0.1211202521409809), (3569, 0.002562788984038384), (3570, 0.025459958530253166), (3571, 0.008616490885242897), (3572, 0.03158536268222306), (3573, 0.04690534511102817), (3574, 0.011817756300756805), (3575, 0.0024148400489834203), (3576, 0.04588640380382996), (3577, 0.003694050597041524), (3578, 0.01942156083126223), (3579, 0.002551447517366651), (3580, 0.0), (3581, 0.0), (3582, 0.012649641247308198), (3583, 0.005279550799546626), (3584, 0.04467356670147848), (3585, 0.0), (3586, 0.022673936891250746), (3587, 0.012033758257931518), (3588, 0.019576698054672038), (3589, 0.0), (3590, 0.003175186413835242), (3591, 0.09846119615143556), (3592, 0.03001320896875241), (3593, 0.0033367507891987297), (3594, 0.0), (3595, 0.0), (3596, 0.0029582295401974165), (3597, 0.007873878548163892), (3598, 0.006810560613864503), (3599, 0.003121003249483788), (3600, 0.006937484798654244), (3601, 0.0031878426907499943), (3602, 0.005346272259909605), (3603, 0.0), (3604, 0.005972072399440161), (3605, 0.10150797854282409), (3606, 0.0030477072474941235), (3607, 0.0), (3608, 0.0019469584567841803), (3609, 0.0), (3610, 0.07800303783121369), (3611, 0.03082504569740753), (3612, 0.028394350365793287), (3613, 0.0036868741946959266), (3614, 0.0027055635646848447), (3615, 0.0028148192277407526), (3616, 0.003717083629938332), (3617, 0.045188114769048), (3618, 0.008931876327279313), (3619, 0.025950042783419), (3620, 0.003639822416546229), (3621, 0.017660650100493086), (3622, 0.0), (3623, 0.02109157640820541), (3624, 0.008348320416798822), (3625, 0.0), (3626, 0.0022932714737620096), (3627, 0.002765691530213393), (3628, 0.008413213666757567), (3629, 0.061187678673363013), (3630, 0.01328071600359624), (3631, 0.0), (3632, 0.0), (3633, 0.0), (3634, 0.07034564366687726), (3635, 0.021794375334906305), (3636, 0.0030804039781747315), (3637, 0.007369040944749339), (3638, 0.02009798374906105), (3639, 0.003420952681953245), (3640, 0.009397391443238302), (3641, 0.0103171411196102), (3642, 0.02217122307084307), (3643, 0.04624369236572285), (3644, 0.013140897916003612), (3645, 0.010164541165993857), (3646, 0.01275134128379361), (3647, 0.002940904027115295), (3648, 0.024977432214449025), (3649, 0.030255673915327144), (3650, 0.01217880374093944), (3651, 0.003419427972730858), (3652, 0.006007900172537265), (3653, 0.020841773793939485), (3654, 0.0031436464296255126), (3655, 0.023609950989481984), (3656, 0.05809522375596937), (3657, 0.06527780638564731), (3658, 0.06334299491652651), (3659, 0.10009028986515289), (3660, 0.008125873291156212), (3661, 0.009610275454053092), (3662, 0.013368278599814945), (3663, 0.0), (3664, 0.005226392620848551), (3665, 0.016325146500691855), (3666, 0.021229138332568644), (3667, 0.004570602467034727), (3668, 0.0025300487118596598), (3669, 0.0025331353995927553), (3670, 0.03284506682811687), (3671, 0.0), (3672, 0.004247467091025545), (3673, 0.03714801255064154), (3674, 0.00458975550052487), (3675, 0.010044635980681855), (3676, 0.0), (3677, 0.04723778092988864), (3678, 0.0031799427832089463), (3679, 0.011427169599934344), (3680, 0.036711821571761324), (3681, 0.019931131896171666), (3682, 0.0), (3683, 0.0), (3684, 0.004718800116879679), (3685, 0.007547718574588984), (3686, 0.0), (3687, 0.003733433868262133), (3688, 0.059624895553307404), (3689, 0.003091780507506395), (3690, 0.03225773820369021), (3691, 0.002844280859204016), (3692, 0.009072756496475333), (3693, 0.006564313689606716), (3694, 0.022127068288052203), (3695, 0.02156203303196853), (3696, 0.08477946705132361), (3697, 0.06699346581058585), (3698, 0.03573126686213108), (3699, 0.00860668998454169), (3700, 0.0073078018236980135), (3701, 0.06298674280104777), (3702, 0.0), (3703, 0.019963543258960832), (3704, 0.009106019466079439), (3705, 0.017122847455724594), (3706, 0.0029171638001537275), (3707, 0.003042239010186297), (3708, 0.00627791580803325), (3709, 0.00749876467710662), (3710, 0.005780465228981954), (3711, 0.0160837556170624), (3712, 0.0), (3713, 0.013284584362717334), (3714, 0.01640481163566771), (3715, 0.0070162008249237155), (3716, 0.0), (3717, 0.0), (3718, 0.0071341046279396626), (3719, 0.002917542914510412), (3720, 0.005247119307072363), (3721, 0.023157780016287686), (3722, 0.0), (3723, 0.005131373707725497), (3724, 0.0), (3725, 0.0027832173100779296), (3726, 0.006939554604795985), (3727, 0.008354703417532514), (3728, 0.00319637280683574), (3729, 0.0034641168210133794), (3730, 0.0), (3731, 0.0), (3732, 0.022897267680932566), (3733, 0.002846849789867821), (3734, 0.11980821142368188), (3735, 0.00851353390435234), (3736, 0.0), (3737, 0.047714982004383635), (3738, 0.0), (3739, 0.003021976230725326), (3740, 0.05131650910299755), (3741, 0.0358139121577765), (3742, 0.03315993658713145), (3743, 0.007960588315363627), (3744, 0.015980497508402625), (3745, 0.08194435052660547), (3746, 0.0), (3747, 0.03936524051683176), (3748, 0.0), (3749, 0.0032591282389607488), (3750, 0.0), (3751, 0.09514093139309579), (3752, 0.0), (3753, 0.0), (3754, 0.003466508638786674), (3755, 0.002641760365691537), (3756, 0.02157876487014343), (3757, 0.031993696080229984), (3758, 0.0), (3759, 0.02763825003045057), (3760, 0.0), (3761, 0.0), (3762, 0.0038941951482674288), (3763, 0.053646695277180675), (3764, 0.017741263405443852), (3765, 0.026353010436142996), (3766, 0.02438227510203207), (3767, 0.013786862363765383), (3768, 0.04854794934022195), (3769, 0.03551418711287162), (3770, 0.01569468555994474), (3771, 0.020495648814746498), (3772, 0.030873130427104926), (3773, 0.03509667267440342), (3774, 0.02014451579181168), (3775, 0.005045799059182643), (3776, 0.004656709668299602), (3777, 0.03440885388893117), (3778, 0.0723575610663154), (3779, 0.032759610629592636), (3780, 0.021830462307558876), (3781, 0.13027739396618987), (3782, 0.014065132657182943), (3783, 0.01859259414914749), (3784, 0.04332752185922742), (3785, 0.006799877080428169), (3786, 0.030544315459137793), (3787, 0.01437553842626869), (3788, 0.005082567433731338), (3789, 0.0), (3790, 0.012492607957003885), (3791, 0.0), (3792, 0.02758922600145277), (3793, 0.005345332592262419), (3794, 0.015091625814698698), (3795, 0.00955598672439408), (3796, 0.0), (3797, 0.009324616033640971), (3798, 0.00798035782687121), (3799, 0.0028334419512967726), (3800, 0.0), (3801, 0.007549472003179529), (3802, 0.005953726307652406), (3803, 0.006731340188163413), (3804, 0.003334388799483635), (3805, 0.007671224870454499), (3806, 0.004587028676253213), (3807, 0.047916216496114064), (3808, 0.0), (3809, 0.02779591030071335), (3810, 0.005540509938413015), (3811, 0.00281787674248382), (3812, 0.024570505196335544), (3813, 0.0032614319940539745), (3814, 0.005348103085776287), (3815, 0.005543476568104822), (3816, 0.029206753720986443), (3817, 0.01711684693274482), (3818, 0.0), (3819, 0.034892698059884465), (3820, 0.0), (3821, 0.017563944316662514), (3822, 0.00335624946785058), (3823, 0.04247912391801714), (3824, 0.005189565261663769), (3825, 0.0), (3826, 0.010270091997162448), (3827, 0.0029307567392343518), (3828, 0.010656857222176321), (3829, 0.01946799035063274), (3830, 0.0), (3831, 0.014666909193559006), (3832, 0.0036490832679394133), (3833, 0.005521796669997606), (3834, 0.008231868645852224), (3835, 0.0018002585249104286), (3836, 0.0), (3837, 0.043624046719063975), (3838, 0.0), (3839, 0.025023258802012716), (3840, 0.11506780477677428), (3841, 0.00755666422666686), (3842, 0.0), (3843, 0.036556323162960064), (3844, 0.006813572806804681), (3845, 0.0031177918102576327), (3846, 0.03392377567317249), (3847, 0.027622306395860743), (3848, 0.003792256765363343), (3849, 0.01363832373680373), (3850, 0.04878260513933217), (3851, 0.0), (3852, 0.0047376436777338705), (3853, 0.026394059014590902), (3854, 0.00779229488671924), (3855, 0.0025363007688969153), (3856, 0.0), (3857, 0.07737137690381153), (3858, 0.04805220463383672), (3859, 0.0), (3860, 0.004929837486681354), (3861, 0.04681545227769066), (3862, 0.00880049558712065), (3863, 0.0026860135394737644), (3864, 0.0), (3865, 0.022872900992528665), (3866, 0.04668901821936171), (3867, 0.033692914802451145), (3868, 0.0028600748749141487), (3869, 0.008433793844618821), (3870, 0.008043206925992544), (3871, 0.018985311043188), (3872, 0.0), (3873, 0.003196206643173896), (3874, 0.003655199489927359), (3875, 0.017022765032820315), (3876, 0.007734886204592344), (3877, 0.03877164026049824), (3878, 0.021507464499867172), (3879, 0.0), (3880, 0.002607828433418372), (3881, 0.0051851982600006835), (3882, 0.022041891874087415), (3883, 0.023305852931724453), (3884, 0.0034777804016187814), (3885, 0.0), (3886, 0.015302116653955054), (3887, 0.0), (3888, 0.014850158064026602), (3889, 0.00324174154026594), (3890, 0.0028918469304617467), (3891, 0.026696345403330206), (3892, 0.0038857437740963145), (3893, 0.0032291379653477175), (3894, 0.0026215178286274655), (3895, 0.002616649773977643), (3896, 0.0), (3897, 0.018508407363644494), (3898, 0.00283656269312717), (3899, 0.009080034943862659), (3900, 0.0028743078374243772), (3901, 0.010162245823177552), (3902, 0.0031100977213225547), (3903, 0.012236166561736473), (3904, 0.0031971729345653165), (3905, 0.0), (3906, 0.002940917470585359), (3907, 0.013623228487258002), (3908, 0.005508832609597886), (3909, 0.01675107084156172), (3910, 0.025827995312821397), (3911, 0.07528480444205145), (3912, 0.013664482809051026), (3913, 0.013855852975928683), (3914, 0.0), (3915, 0.01777419624546295), (3916, 0.032072760758402014), (3917, 0.010276234204300556), (3918, 0.0), (3919, 0.0031247049680553957), (3920, 0.0030961344706401475), (3921, 0.0), (3922, 0.003689983245991246), (3923, 0.007069205662760428), (3924, 0.0032858121831984017), (3925, 0.004449216904072723), (3926, 0.0), (3927, 0.002487985529180194), (3928, 0.002496846388212314), (3929, 0.010257343324977021), (3930, 0.0), (3931, 0.0), (3932, 0.02777921157831752), (3933, 0.01600373199924587), (3934, 0.0), (3935, 0.003522223266607312), (3936, 0.0), (3937, 0.007593025927108825), (3938, 0.018927454826691496), (3939, 0.00398115732549732), (3940, 0.0), (3941, 0.04265702662985983), (3942, 0.006632586386341641), (3943, 0.0), (3944, 0.004382947469795322), (3945, 0.008703994910706423), (3946, 0.02408480118771443), (3947, 0.0062833598491899515), (3948, 0.0), (3949, 0.016522184207186638), (3950, 0.019958050465938428), (3951, 0.05311405896629115), (3952, 0.0034278691033117633), (3953, 0.0027196723930115805), (3954, 0.06672874331942001), (3955, 0.0), (3956, 0.0026641907623290956), (3957, 0.0069454531453341075), (3958, 0.0), (3959, 0.025230522277690962), (3960, 0.009552922906665014), (3961, 0.00930068187440864), (3962, 0.0033570811563875145), (3963, 0.043524991305705876), (3964, 0.0), (3965, 0.007347714998748525), (3966, 0.005071019193238826), (3967, 0.003304343428426871), (3968, 0.047475060892362086), (3969, 0.0), (3970, 0.00520035582601501), (3971, 0.0), (3972, 0.024131314450243017), (3973, 0.0031824936138799805), (3974, 0.00758425739391529), (3975, 0.061706236431874575), (3976, 0.0), (3977, 0.03438160098977624), (3978, 0.008037278504724993), (3979, 0.033798118649592986), (3980, 0.03626776198816628), (3981, 0.0), (3982, 0.031825865789413425), (3983, 0.002239343248105116), (3984, 0.0031435712027684548), (3985, 0.0), (3986, 0.0026894798902307162), (3987, 0.003183617412942207), (3988, 0.0), (3989, 0.004380303014911653), (3990, 0.03730632612624232), (3991, 0.0072554965901769596), (3992, 0.0033788262657417265), (3993, 0.01738120341321814), (3994, 0.0), (3995, 0.005637203999049502), (3996, 0.0), (3997, 0.005788498433589049), (3998, 0.0), (3999, 0.0036805431016653897), (4000, 0.00835810680715281), (4001, 0.01203964201760509), (4002, 0.0034713720355078427), (4003, 0.013277165847120888), (4004, 0.008545531262567626), (4005, 0.009003867641536623), (4006, 0.0), (4007, 0.04056572517652808), (4008, 0.0), (4009, 0.02981737533498185), (4010, 0.013868711039362651), (4011, 0.002807231268714351), (4012, 0.0), (4013, 0.022260006580581436), (4014, 0.003024384562408925), (4015, 0.011124168544555769), (4016, 0.021120701331165677), (4017, 0.07429765622257249), (4018, 0.01139981730903024), (4019, 0.0038748626572759543), (4020, 0.0029324567546830916), (4021, 0.0), (4022, 0.022881646299357798), (4023, 0.05046359525384382), (4024, 0.046145661657046894), (4025, 0.04433157404077207), (4026, 0.0), (4027, 0.0), (4028, 0.0), (4029, 0.0), (4030, 0.003498651726561749), (4031, 0.08367141113603269), (4032, 0.0034878749768431695), (4033, 0.07054769767923899), (4034, 0.008535429171590718), (4035, 0.0), (4036, 0.08810172851441694), (4037, 0.0), (4038, 0.009008533562166722), (4039, 0.005300326247251549), (4040, 0.0), (4041, 0.019938629279032984), (4042, 0.01807385260620565), (4043, 0.006060486269629268), (4044, 0.014457194977794127), (4045, 0.0), (4046, 0.009237616160048912), (4047, 0.006872412545557123), (4048, 0.003272298299582433), (4049, 0.00303362797047955), (4050, 0.006006357139802228), (4051, 0.0033348007668583626), (4052, 0.003159135667603275), (4053, 0.013618622431641287), (4054, 0.0031695080720577414), (4055, 0.00693931660740314), (4056, 0.023927690837669532), (4057, 0.01595858044357441), (4058, 0.014950179316728715), (4059, 0.002795319803694961), (4060, 0.0029697372105689773), (4061, 0.045868672330879975), (4062, 0.018178421091030177), (4063, 0.0), (4064, 0.0), (4065, 0.0), (4066, 0.002625013825215512), (4067, 0.0), (4068, 0.008560610455554328), (4069, 0.002887164122271593), (4070, 0.07817759936146655), (4071, 0.02798556589303821), (4072, 0.0), (4073, 0.0), (4074, 0.009613692353910346), (4075, 0.0034878097713347484), (4076, 0.014146013781343138), (4077, 0.00847727671139476), (4078, 0.0), (4079, 0.0030986472110328617), (4080, 0.06255311528681318), (4081, 0.0030056583985761244), (4082, 0.0042226485043085574), (4083, 0.0031206699869390894), (4084, 0.017198351713939016), (4085, 0.050205738176940296), (4086, 0.008325324506253675), (4087, 0.0032493861896766285), (4088, 0.032903505282377635), (4089, 0.07819330564329935), (4090, 0.005859028193343975), (4091, 0.014427952624544271), (4092, 0.009535836655036913), (4093, 0.024693644460327235), (4094, 0.0), (4095, 0.027637920525598266), (4096, 0.004710562730043212), (4097, 0.014646980410384175), (4098, 0.008637437235745206), (4099, 0.025640952687435548), (4100, 0.0), (4101, 0.10285498818621554), (4102, 0.0037952630560575246), (4103, 0.013201944363488587), (4104, 0.18124861906316245), (4105, 0.0), (4106, 0.1189344172332604), (4107, 0.003690924992525894), (4108, 0.0), (4109, 0.02318190126507645), (4110, 0.009315609135469517), (4111, 0.0031999045134536402), (4112, 0.0075096739559148635), (4113, 0.023261844281895178), (4114, 0.020951016973314675), (4115, 0.03849385420706155), (4116, 0.009186693744000062), (4117, 0.00341213844558571), (4118, 0.021258055475789385), (4119, 0.017709317329663146), (4120, 0.0060607671065149755), (4121, 0.006184194922933952), (4122, 0.0), (4123, 0.00889719602404338), (4124, 0.04557838217659885), (4125, 0.0), (4126, 0.061651449238519784), (4127, 0.0), (4128, 0.007665504909179074), (4129, 0.046289485699081), (4130, 0.05511430358059643), (4131, 0.0), (4132, 0.016154993520377837), (4133, 0.009188055586025121), (4134, 0.007461852323193984), (4135, 0.03007981695180822), (4136, 0.01563488468580836), (4137, 0.07029971686148133), (4138, 0.016635874087954514), (4139, 0.02022396704605687), (4140, 0.029641995445062373), (4141, 0.0026651144201112584), (4142, 0.03075784320561691), (4143, 0.0026868933926484802), (4144, 0.0064689136380493934), (4145, 0.05062242080573421), (4146, 0.024717405583816028), (4147, 0.01827482118508978), (4148, 0.005416012914761002), (4149, 0.04925290156656855), (4150, 0.02789821994587198), (4151, 0.005135708660389332), (4152, 0.02020649160767909), (4153, 0.0399626344720133), (4154, 0.0076142063041185135), (4155, 0.06654947958909352), (4156, 0.05677510413537391), (4157, 0.0), (4158, 0.013681045200896077), (4159, 0.011264523277480254), (4160, 0.011977339331727076), (4161, 0.033907072386710375), (4162, 0.006258258364622831), (4163, 0.009769429458229348), (4164, 0.004965594600346086), (4165, 0.016098273870367302), (4166, 0.0), (4167, 0.0), (4168, 0.007868530029635334), (4169, 0.01743125057700003), (4170, 0.0), (4171, 0.0021125258544082894), (4172, 0.0039516572271110426), (4173, 0.012859836677351915), (4174, 0.0027512374676919187), (4175, 0.0031828525204628897), (4176, 0.007748191011820633), (4177, 0.0), (4178, 0.008847888614183157), (4179, 0.0), (4180, 0.0), (4181, 0.008480455839893148), (4182, 0.0022677910801142233), (4183, 0.026312853057704005), (4184, 0.0), (4185, 0.013478480225728373), (4186, 0.01643512098415026), (4187, 0.0033916358389359286), (4188, 0.11152825087252645), (4189, 0.03331204306218122), (4190, 0.0), (4191, 0.09470545536099949), (4192, 0.059495257584453475), (4193, 0.011941445367495437), (4194, 0.024144741141013615), (4195, 0.0076889244598332355), (4196, 0.016754433367719812), (4197, 0.0030472371573105985), (4198, 0.0), (4199, 0.009544426850492753), (4200, 0.0024713665413742605), (4201, 0.0), (4202, 0.004179635318575597), (4203, 0.003464820641163378), (4204, 0.0), (4205, 0.04579401244263781), (4206, 0.002839313257285076), (4207, 0.01139126987588509), (4208, 0.006803557120257004), (4209, 0.018391156225668892), (4210, 0.007803657492680565), (4211, 0.012889618705033055), (4212, 0.0), (4213, 0.0257970799296518), (4214, 0.0), (4215, 0.0), (4216, 0.028583797938187286), (4217, 0.0), (4218, 0.04640002505662009), (4219, 0.0580808336073562), (4220, 0.0026369245979840647), (4221, 0.020066382532346577), (4222, 0.004008830835552033), (4223, 0.02752023923485333), (4224, 0.007524205508415181), (4225, 0.017177860378935254), (4226, 0.0), (4227, 0.00600234234732922), (4228, 0.002953084396870191), (4229, 0.0), (4230, 0.003829971557606896), (4231, 0.008988723472168347), (4232, 0.002598617439094612), (4233, 0.027135886716627616), (4234, 0.0), (4235, 0.00498193880206791), (4236, 0.007115198485083472), (4237, 0.0), (4238, 0.008977795963816083), (4239, 0.0), (4240, 0.0059356563823998445), (4241, 0.03930492414825534), (4242, 0.010468346193084583), (4243, 0.0034028724243157092), (4244, 0.009653453759905978), (4245, 0.04365201071372752), (4246, 0.00283018399409085), (4247, 0.0026272031236619035), (4248, 0.005405089987121723), (4249, 0.008694290363234075), (4250, 0.0), (4251, 0.005574517638594362), (4252, 0.010098827143441385), (4253, 0.011497863352619712), (4254, 0.0028066387664931144), (4255, 0.09821532549765466), (4256, 0.012754844746951344), (4257, 0.0028158311698754227), (4258, 0.0), (4259, 0.003320216386219267), (4260, 0.09788617806849989), (4261, 0.0), (4262, 0.0031032798071886983), (4263, 0.003292239277252666), (4264, 0.029147066458956202), (4265, 0.0057543505410336225), (4266, 0.015144637680928812), (4267, 0.015484898995905785), (4268, 0.002977042044417209), (4269, 0.011458643902827269), (4270, 0.05143066025426913), (4271, 0.0), (4272, 0.0302003918540528), (4273, 0.04372774652536439), (4274, 0.03814211617453406), (4275, 0.005637631409810142), (4276, 0.0), (4277, 0.01235203327040631), (4278, 0.0), (4279, 0.0), (4280, 0.03524483227316248), (4281, 0.034184787090767076), (4282, 0.03037972550772945), (4283, 0.12490387551146534), (4284, 0.008267870022104964), (4285, 0.006380764536301679), (4286, 0.01586807571375965), (4287, 0.02163697939129864), (4288, 0.0249734001755021), (4289, 0.0338822076584608), (4290, 0.004907437952857566), (4291, 0.0), (4292, 0.012371652681342184), (4293, 0.0033354868772954966), (4294, 0.07330803230021503), (4295, 0.06251103014872177), (4296, 0.0026036456846326955), (4297, 0.0), (4298, 0.04802827378481801), (4299, 0.07058888075020611), (4300, 0.032082678319226024), (4301, 0.002217688816236813), (4302, 0.0), (4303, 0.0073878994209553165), (4304, 0.0026827540395841813), (4305, 0.0), (4306, 0.003695506569388494), (4307, 0.006104577045617103), (4308, 0.003277987257681663), (4309, 0.0317860163224269), (4310, 0.0054427975033819135), (4311, 0.035012231195090636), (4312, 0.005841744650471047), (4313, 0.06503036827414067), (4314, 0.023276926367466935), (4315, 0.03038105062604937), (4316, 0.013905632215906901), (4317, 0.0), (4318, 0.0031585617196210267), (4319, 0.0), (4320, 0.044968996096760076), (4321, 0.0028457678472108955), (4322, 0.04136688441096976), (4323, 0.008103830316710013), (4324, 0.013324502284121614), (4325, 0.017449008648115105), (4326, 0.002740483193864461), (4327, 0.0), (4328, 0.005079456280872941), (4329, 0.0), (4330, 0.01501689201785167), (4331, 0.006263174415683421), (4332, 0.043116639636775735), (4333, 0.018413676662103768), (4334, 0.028039624571686947), (4335, 0.0), (4336, 0.002887227239156718), (4337, 0.006037278822301749), (4338, 0.051577017413872564), (4339, 0.004966775541184862), (4340, 0.0470793585048394), (4341, 0.00912626698807538), (4342, 0.038789679381978165), (4343, 0.0381180945804793), (4344, 0.017477386040226195), (4345, 0.002835307631267489), (4346, 0.0), (4347, 0.00823290021705215), (4348, 0.15986096058433488), (4349, 0.0029392301627886182), (4350, 0.024452869034211983), (4351, 0.008250592111633384), (4352, 0.025034334691090933), (4353, 0.010437990153585647), (4354, 0.08092044210643139), (4355, 0.003184413703341389), (4356, 0.0027799026299592097), (4357, 0.0031862763532362563), (4358, 0.0), (4359, 0.026119495443529903), (4360, 0.005466296126376705), (4361, 0.0031098632143534656), (4362, 0.008250746507508627), (4363, 0.07943809136693541), (4364, 0.025672085854428664), (4365, 0.07561744274455742), (4366, 0.01569615219189144), (4367, 0.0), (4368, 0.030418571968673893), (4369, 0.04674255326639663), (4370, 0.012836852907762066), (4371, 0.029092260953197363), (4372, 0.0), (4373, 0.0), (4374, 0.033314876233042544), (4375, 0.0055208098268925525), (4376, 0.005574575932829259), (4377, 0.0568847672708834), (4378, 0.03798952534018214), (4379, 0.0196057172937406), (4380, 0.005533408179239068), (4381, 0.0028978294070674967), (4382, 0.0789814088659711), (4383, 0.018877969874606562), (4384, 0.005759008572566689), (4385, 0.0), (4386, 0.0025779819936881166), (4387, 0.008216368588721407), (4388, 0.0), (4389, 0.006160536618731019), (4390, 0.029645832100207534), (4391, 0.0030207924531932854), (4392, 0.018381868375603596), (4393, 0.0), (4394, 0.002966136424036603), (4395, 0.013119207724445919), (4396, 0.0033442445239374005), (4397, 0.003326665485369844), (4398, 0.049377215910193464), (4399, 0.0028249285377494548), (4400, 0.0038104486586490564), (4401, 0.011935462523318303), (4402, 0.033858666982534445), (4403, 0.02778752545089413), (4404, 0.0183430660847148), (4405, 0.0069921838673616815), (4406, 0.03824756276427449), (4407, 0.03879490662217572), (4408, 0.0), (4409, 0.0029714315965936157), (4410, 0.0), (4411, 0.05263516510934575), (4412, 0.00987082764425879), (4413, 0.0), (4414, 0.0), (4415, 0.0), (4416, 0.003518479978501895), (4417, 0.0), (4418, 0.014030221998884774), (4419, 0.03630297858010015), (4420, 0.04505829294457518), (4421, 0.013961901878658752), (4422, 0.0030889432209778842), (4423, 0.0038760587975334294), (4424, 0.0), (4425, 0.0), (4426, 0.0046915263893638716), (4427, 0.002985759364662843), (4428, 0.010143789074703667), (4429, 0.0025953257123012777), (4430, 0.008822377201367443), (4431, 0.02821238207431787), (4432, 0.007375405791926104), (4433, 0.0), (4434, 0.0), (4435, 0.016442157696729798), (4436, 0.00586311318463773), (4437, 0.0), (4438, 0.005212839724847923), (4439, 0.007071096685946602), (4440, 0.0), (4441, 0.04291763302839563), (4442, 0.01587249495995753), (4443, 0.025046570126453414), (4444, 0.02678288742113159), (4445, 0.00224395670256728), (4446, 0.0032790101210642963), (4447, 0.03414858385676828), (4448, 0.0031216379785851288), (4449, 0.0), (4450, 0.004819907704568965), (4451, 0.0), (4452, 0.01512814130299746), (4453, 0.025139692638497267), (4454, 0.03672614082014858), (4455, 0.009258485635579369), (4456, 0.007923201464710004), (4457, 0.007665241615636528), (4458, 0.0035649828530992457), (4459, 0.08548700478035993), (4460, 0.027363672473490204), (4461, 0.0028775851783474525), (4462, 0.01800613669858478), (4463, 0.0), (4464, 0.03920241547670328), (4465, 0.07983593110815777), (4466, 0.0652530054493537), (4467, 0.0591139573233558), (4468, 0.01642533071510025), (4469, 0.0037347063495541243), (4470, 0.03357587706282132), (4471, 0.02876888293749514), (4472, 0.002889434203518681), (4473, 0.0026033233026531316), (4474, 0.008872324101080757), (4475, 0.007577430515056202), (4476, 0.0025577903462957866), (4477, 0.003492140225831752), (4478, 0.008225445348485768), (4479, 0.03605653312324332), (4480, 0.037551594307579775), (4481, 0.0051950380185516905), (4482, 0.03157346737361791), (4483, 0.0), (4484, 0.003985335467287371), (4485, 0.0), (4486, 0.010879572369374644), (4487, 0.0029449096824082062), (4488, 0.0163095407502078), (4489, 0.0031702348095981243), (4490, 0.0438260848894892), (4491, 0.008371273601391104), (4492, 0.008264702118725842), (4493, 0.022817029403427138), (4494, 0.00951937420276685), (4495, 0.03176824992432707), (4496, 0.0), (4497, 0.0031294603591321465), (4498, 0.04199282335601638), (4499, 0.0), (4500, 0.0), (4501, 0.07815149711347893), (4502, 0.0027300418403920315), (4503, 0.008498271733866693), (4504, 0.028625518538272048), (4505, 0.0031639689500728616), (4506, 0.0), (4507, 0.09537534433421431), (4508, 0.015595318430386876), (4509, 0.007615594593036026), (4510, 0.07653596219577838), (4511, 0.02083038148204911), (4512, 0.038058330382714806), (4513, 0.004497799789717358), (4514, 0.006576782596716834), (4515, 0.0060504354755014245), (4516, 0.13214121201779228), (4517, 0.008477373084329623), (4518, 0.0429866728593339), (4519, 0.006172283203174531), (4520, 0.002959030846225005), (4521, 0.0037309692317176956), (4522, 0.009182882627810226), (4523, 0.038513258747860726), (4524, 0.006488493547558308), (4525, 0.023254430402846124), (4526, 0.008775182650737925), (4527, 0.006251931434762699), (4528, 0.0032461802757744814), (4529, 0.004007791611140816), (4530, 0.002923332944690828), (4531, 0.009338446058178674), (4532, 0.0), (4533, 0.9999999999999998), (4534, 0.018296661747883105), (4535, 0.03897628785802045), (4536, 0.050396608999200655), (4537, 0.007077777253158277), (4538, 0.0), (4539, 0.03208527111075761), (4540, 0.003211801818437817), (4541, 0.0), (4542, 0.0103774597020653), (4543, 0.005237209367581473), (4544, 0.018722880530239093), (4545, 0.003234688598677753), (4546, 0.010892003118369027), (4547, 0.0), (4548, 0.03152299425447216), (4549, 0.0), (4550, 0.027761690983852214), (4551, 0.003308032252839546), (4552, 0.005635909642149907), (4553, 0.004754361811241365), (4554, 0.010016455852831514), (4555, 0.0045050286823029905), (4556, 0.0), (4557, 0.00816103306884867), (4558, 0.011719037748269764), (4559, 0.0), (4560, 0.08347167020030025), (4561, 0.0), (4562, 0.0), (4563, 0.08375663040169368), (4564, 0.03065156995748833), (4565, 0.0), (4566, 0.0031510208575511677), (4567, 0.002856817150375873), (4568, 0.022563651528117096), (4569, 0.007222135563671477), (4570, 0.056704569407793705), (4571, 0.004749770745621853), (4572, 0.0036685190446565236), (4573, 0.002897695188559872), (4574, 0.016069945585462958), (4575, 0.02870474694211589), (4576, 0.008184404139514986), (4577, 0.0), (4578, 0.0), (4579, 0.009082610495174582), (4580, 0.013412435506382502), (4581, 0.007765260453077175), (4582, 0.004849997408212528), (4583, 0.0), (4584, 0.01764470230876821), (4585, 0.029061051336626762), (4586, 0.018177473434581704), (4587, 0.01663757377641886), (4588, 0.03083002806443038), (4589, 0.012503673749354068), (4590, 0.13536120292966747), (4591, 0.10680741225008948), (4592, 0.0), (4593, 0.009369895974902688), (4594, 0.036725650539205554), (4595, 0.00588347130225797), (4596, 0.0), (4597, 0.0), (4598, 0.002345047407028581), (4599, 0.0), (4600, 0.023446141225620373), (4601, 0.009223073402686039), (4602, 0.07642875469436979), (4603, 0.00278824378150433), (4604, 0.003005259917253576), (4605, 0.05056288630526884), (4606, 0.003784211008086033), (4607, 0.004340529235170822), (4608, 0.0026525527475147444), (4609, 0.032052678368656114), (4610, 0.0025086662500209806), (4611, 0.003984234850121926), (4612, 0.010490076099465064), (4613, 0.029012941779962876), (4614, 0.05699250087660967), (4615, 0.013028887175568365), (4616, 0.002761207937162126), (4617, 0.004088168349113361), (4618, 0.018684616730247995), (4619, 0.003297993085542617), (4620, 0.002731110199397316), (4621, 0.01824169792148399), (4622, 0.0), (4623, 0.005417655178925707), (4624, 0.027663029933620225), (4625, 0.038728118527083515), (4626, 0.008636886391304902), (4627, 0.002564855001099887), (4628, 0.012405890163683148), (4629, 0.07834111647335462), (4630, 0.019576466842642075), (4631, 0.0), (4632, 0.017694204676482358), (4633, 0.05349609490217282), (4634, 0.0027891736355190448), (4635, 0.0), (4636, 0.02412625635508449), (4637, 0.00999877299341705), (4638, 0.019104456894472953), (4639, 0.01826646845818638), (4640, 0.0029946422657762465), (4641, 0.0029200052996876382), (4642, 0.006416690939144415), (4643, 0.023352121767569574), (4644, 0.0), (4645, 0.03340031335476039), (4646, 0.035640069669823374), (4647, 0.016235201678134376), (4648, 0.04110139730894123), (4649, 0.05284197348169607), (4650, 0.003444769585741244), (4651, 0.040718220357425554), (4652, 0.0022847382943882825), (4653, 0.006647810324742839), (4654, 0.0), (4655, 0.0), (4656, 0.0), (4657, 0.033897625784509985), (4658, 0.048989505653857915), (4659, 0.0), (4660, 0.010390782085646099), (4661, 0.0074692892176491475), (4662, 0.0), (4663, 0.03257422652837259), (4664, 0.010036977142463857), (4665, 0.005392755972740687), (4666, 0.007361169829505225), (4667, 0.07433151838097231), (4668, 0.0029452811944269052), (4669, 0.08179134342320366), (4670, 0.008071674986281765), (4671, 0.0), (4672, 0.0), (4673, 0.00816136520377254), (4674, 0.006767824878786093), (4675, 0.0), (4676, 0.021397292297430242), (4677, 0.008516824433463493), (4678, 0.031511921371065), (4679, 0.007408143929418515), (4680, 0.0031959446029738736), (4681, 0.0), (4682, 0.027354311104824124), (4683, 0.0), (4684, 0.019197664520411186), (4685, 0.020561582651371656), (4686, 0.003007337628843304), (4687, 0.06188381385004839), (4688, 0.011934501844114612), (4689, 0.0145391135014354), (4690, 0.0), (4691, 0.007364867044852448), (4692, 0.0037312281306229873), (4693, 0.002903540498304967), (4694, 0.0035121227588338264), (4695, 0.0500929285274124), (4696, 0.0039159850922248435), (4697, 0.005054165007660074), (4698, 0.04098011633192333), (4699, 0.009507359068815745), (4700, 0.0), (4701, 0.010042886535615999), (4702, 0.0), (4703, 0.01407354088288526), (4704, 0.004083496437904342), (4705, 0.004273658430689095), (4706, 0.0033208747651164816), (4707, 0.0), (4708, 0.017323361138335415), (4709, 0.007390647692785128), (4710, 0.010651170230389764), (4711, 0.0), (4712, 0.0026927091248593136), (4713, 0.003460242463273819), (4714, 0.0), (4715, 0.008448142177005102), (4716, 0.0), (4717, 0.01932244389869482), (4718, 0.0033523876289804264), (4719, 0.04056241216858224), (4720, 0.0), (4721, 0.041853152845742966), (4722, 0.03224029499022589), (4723, 0.0036546924945970666), (4724, 0.04513809104109373), (4725, 0.0), (4726, 0.006274813845839938), (4727, 0.07162241715247575), (4728, 0.0), (4729, 0.0028712022704671753), (4730, 0.0), (4731, 0.009540464191209103), (4732, 0.014708629135650015), (4733, 0.0626604909047114), (4734, 0.0032303105340506966), (4735, 0.009971230429588602), (4736, 0.012012083672348179), (4737, 0.0), (4738, 0.0), (4739, 0.0060954293321081755), (4740, 0.0), (4741, 0.0), (4742, 0.008541266522995009), (4743, 0.0029165388891535817), (4744, 0.002423138081684565), (4745, 0.006019364682766129), (4746, 0.006167066179389952), (4747, 0.006257613737175555), (4748, 0.022088887951353046), (4749, 0.020141971544915396), (4750, 0.0), (4751, 0.0), (4752, 0.0021411225743874756), (4753, 0.0034084177349040707), (4754, 0.015151312840802735), (4755, 0.0), (4756, 0.0031025884574006142), (4757, 0.008848955075897662), (4758, 0.0), (4759, 0.0)]\n"
          ]
        }
      ]
    },
    {
      "cell_type": "code",
      "source": [
        "len(Recommendation_Score)"
      ],
      "metadata": {
        "colab": {
          "base_uri": "https://localhost:8080/"
        },
        "id": "ijS592rlEDwi",
        "outputId": "8ad605b6-f0c1-49da-8390-ba5e5fd38620"
      },
      "execution_count": null,
      "outputs": [
        {
          "output_type": "execute_result",
          "data": {
            "text/plain": [
              "4760"
            ]
          },
          "metadata": {},
          "execution_count": 129
        }
      ]
    },
    {
      "cell_type": "code",
      "source": [
        "Sorted_similar_movies=sorted(Recommendation_Score, key=lambda X:X[1], reverse =True)\n",
        "print(Sorted_similar_movies)"
      ],
      "metadata": {
        "colab": {
          "base_uri": "https://localhost:8080/"
        },
        "id": "reF4Ha6VFZyp",
        "outputId": "562dfc0b-f1cd-4638-cf8a-c678f4e1d89b"
      },
      "execution_count": null,
      "outputs": [
        {
          "output_type": "stream",
          "name": "stdout",
          "text": [
            "[(4533, 0.9999999999999998), (4104, 0.18124861906316245), (4348, 0.15986096058433488), (2944, 0.14547471180277508), (1195, 0.1374281020546855), (1383, 0.13680403751294032), (4590, 0.13536120292966747), (89, 0.13480346200510945), (4516, 0.13214121201779228), (3781, 0.13027739396618987), (1924, 0.12907288204737338), (4283, 0.12490387551146534), (3568, 0.1211202521409809), (3734, 0.11980821142368188), (2413, 0.11944978576966747), (4106, 0.1189344172332604), (2334, 0.11793524380161752), (885, 0.1160251320215577), (3840, 0.11506780477677428), (4188, 0.11152825087252645), (2169, 0.11047557104603418), (2037, 0.10991571131813768), (2808, 0.10857573664955139), (828, 0.10813054930049727), (4591, 0.10680741225008948), (2306, 0.10551993946246564), (1058, 0.10522621413007445), (4101, 0.10285498818621554), (2988, 0.10239767075242323), (2687, 0.10205831443090464), (3260, 0.10177753180861115), (3605, 0.10150797854282409), (3465, 0.1008565100001653), (1275, 0.10052022485136218), (3659, 0.10009028986515289), (2467, 0.10008318843581193), (3591, 0.09846119615143556), (4255, 0.09821532549765466), (4260, 0.09788617806849989), (949, 0.09715481219964617), (2576, 0.09712258372412004), (3360, 0.09707556018809371), (3534, 0.09664878795959853), (4507, 0.09537534433421431), (3751, 0.09514093139309579), (4191, 0.09470545536099949), (2595, 0.09451950208937324), (3557, 0.09446408036407601), (1021, 0.093313495360727), (307, 0.09301522887920688), (3307, 0.09206193658564776), (1186, 0.09108516456793991), (2448, 0.09097438700126168), (1346, 0.08861005716551242), (4036, 0.08810172851441694), (1265, 0.0873970161196165), (262, 0.08723110799108222), (1061, 0.08673782866226108), (2680, 0.08628332882145402), (120, 0.08601498364248059), (415, 0.08592152202828239), (87, 0.08576101054279939), (4459, 0.08548700478035993), (3696, 0.08477946705132361), (1872, 0.08435471209196198), (4563, 0.08375663040169368), (4031, 0.08367141113603269), (4560, 0.08347167020030025), (233, 0.08307753145743997), (348, 0.08256114783567393), (1725, 0.082212335739287), (3362, 0.08214260428818926), (3745, 0.08194435052660547), (4669, 0.08179134342320366), (342, 0.08149973326781558), (4354, 0.08092044210643139), (3479, 0.07991829277576919), (4465, 0.07983593110815777), (4363, 0.07943809136693541), (2342, 0.07935514394922404), (4382, 0.0789814088659711), (1567, 0.07897051696555904), (1010, 0.07853987684264102), (4629, 0.07834111647335462), (818, 0.07825685424620572), (4089, 0.07819330564329935), (4070, 0.07817759936146655), (4501, 0.07815149711347893), (3610, 0.07800303783121369), (3857, 0.07737137690381153), (138, 0.07698631019964519), (2176, 0.07689934102105543), (3276, 0.07682471006137452), (430, 0.0767265524788654), (3, 0.07660945587089843), (4510, 0.07653596219577838), (4602, 0.07642875469436979), (225, 0.07637897710620516), (802, 0.07618002046865036), (4365, 0.07561744274455742), (1398, 0.07551491665287621), (3911, 0.07528480444205145), (1502, 0.07448149331020427), (744, 0.07440912894660351), (2224, 0.07438466107527365), (4667, 0.07433151838097231), (4017, 0.07429765622257249), (2792, 0.07380134109003035), (184, 0.07344262933111916), (4294, 0.07330803230021503), (3778, 0.0723575610663154), (1087, 0.07187511232881057), (4727, 0.07162241715247575), (2294, 0.07110283114877086), (969, 0.07110106176395127), (724, 0.071082654923022), (2316, 0.07090545899916292), (483, 0.07060544297403457), (4299, 0.07058888075020611), (4033, 0.07054769767923899), (3634, 0.07034564366687726), (4137, 0.07029971686148133), (3240, 0.0702039995475941), (2157, 0.06930408590532895), (73, 0.06902490943642667), (714, 0.06850964708558398), (909, 0.06843364599364535), (482, 0.06813722961302474), (2226, 0.0681155159000169), (1418, 0.06772433866453195), (1359, 0.06761003144829832), (1131, 0.06709490587855083), (3697, 0.06699346581058585), (3954, 0.06672874331942001), (4155, 0.06654947958909352), (2309, 0.06654332578583644), (3252, 0.0665353237144646), (1135, 0.06642055954392073), (1289, 0.0653023677966156), (3657, 0.06527780638564731), (2461, 0.06526113048598182), (4466, 0.0652530054493537), (4313, 0.06503036827414067), (216, 0.06499657864456729), (3066, 0.06452619935670406), (1549, 0.06447482917128064), (45, 0.06426053348508086), (992, 0.06422617161642245), (996, 0.06375276890969091), (3658, 0.06334299491652651), (804, 0.06313082617076268), (3701, 0.06298674280104777), (4733, 0.0626604909047114), (4080, 0.06255311528681318), (4295, 0.06251103014872177), (4687, 0.06188381385004839), (3975, 0.061706236431874575), (4126, 0.061651449238519784), (739, 0.06138995942339351), (1568, 0.06132517488619881), (3629, 0.061187678673363013), (1190, 0.06073549917473073), (1381, 0.06067515339330719), (1043, 0.060380332890480407), (2432, 0.06004186406395384), (91, 0.059942315848249696), (588, 0.059839488813238834), (3688, 0.059624895553307404), (3297, 0.05961719357763677), (4192, 0.059495257584453475), (3190, 0.059148315300775245), (4467, 0.0591139573233558), (573, 0.05898629349438657), (196, 0.05851052905142625), (3656, 0.05809522375596937), (4219, 0.0580808336073562), (2512, 0.05794881994298601), (254, 0.05789194058913113), (936, 0.05785429625155897), (2649, 0.05783067422479834), (1807, 0.05776883190978891), (551, 0.05738284192321343), (685, 0.05719355119165549), (3398, 0.05716706269343321), (4614, 0.05699250087660967), (1494, 0.05692133823724331), (4377, 0.0568847672708834), (4156, 0.05677510413537391), (4570, 0.056704569407793705), (1280, 0.05668879063697462), (2616, 0.05664343274885264), (3046, 0.05643454093361245), (868, 0.05588238865372463), (2312, 0.0557011875158501), (88, 0.05533757907381086), (3229, 0.05516623083745763), (4130, 0.05511430358059643), (3487, 0.05494157005776983), (1758, 0.05485286698671239), (3128, 0.054323618865779265), (499, 0.05367168555268333), (3763, 0.053646695277180675), (4633, 0.05349609490217282), (312, 0.05348488721066791), (529, 0.05344565293110362), (3248, 0.053335160366274684), (2863, 0.05331305001145785), (3951, 0.05311405896629115), (39, 0.05309028569634593), (2996, 0.05300952688016152), (1163, 0.052888116584980854), (993, 0.05286661207561101), (4649, 0.05284197348169607), (3216, 0.0527230605694082), (4411, 0.05263516510934575), (3230, 0.05255238742632404), (2547, 0.052334483391523356), (2177, 0.05227938081948653), (2767, 0.05209236378988409), (1541, 0.052047278620814895), (734, 0.05174623559285391), (855, 0.05158692338597889), (2486, 0.05158322311003624), (4338, 0.051577017413872564), (4270, 0.05143066025426913), (1429, 0.05137662721180506), (3740, 0.05131650910299755), (2171, 0.051245695638969344), (2277, 0.05111528453155868), (3302, 0.05078145751959093), (427, 0.05071240105402293), (3552, 0.05071072274776156), (4145, 0.05062242080573421), (1650, 0.05057019161151267), (4605, 0.05056288630526884), (2897, 0.050500195758900426), (1880, 0.0504666476736198), (4023, 0.05046359525384382), (4536, 0.050396608999200655), (938, 0.05035776849369741), (4085, 0.050205738176940296), (4695, 0.0500929285274124), (2543, 0.04986742754170834), (701, 0.04977037613538478), (2053, 0.04973040840089175), (700, 0.04960049686462361), (2848, 0.04944068306296956), (586, 0.04941280458250079), (4398, 0.049377215910193464), (2744, 0.0493460714399845), (377, 0.049274233354666554), (652, 0.049269265768963906), (4149, 0.04925290156656855), (1514, 0.04924753152279474), (4658, 0.048989505653857915), (1973, 0.04897543529305655), (490, 0.04883667339700369), (2365, 0.048784867637996276), (3850, 0.04878260513933217), (190, 0.04876403949382152), (2690, 0.0486577300860806), (1661, 0.04865227951957879), (1707, 0.048587440290428704), (3768, 0.04854794934022195), (1358, 0.048547803122478195), (3391, 0.04848281226333961), (528, 0.04830039668015727), (1488, 0.0482898864776991), (2963, 0.048239453057687426), (1577, 0.04821659648677262), (3013, 0.048204558064381675), (3858, 0.04805220463383672), (4298, 0.04802827378481801), (2481, 0.04791690998398278), (3807, 0.047916216496114064), (1229, 0.04785692733074382), (1594, 0.047843177799911006), (1809, 0.04778412160360143), (3737, 0.047714982004383635), (966, 0.04761019873950646), (667, 0.047499872696633326), (501, 0.04747883174251347), (3968, 0.047475060892362086), (1610, 0.0474472490976147), (2078, 0.047389449562400605), (2548, 0.04734650325577911), (3677, 0.04723778092988864), (4340, 0.0470793585048394), (316, 0.04705390601204901), (1367, 0.0470399861588426), (3573, 0.04690534511102817), (3861, 0.04681545227769066), (4369, 0.04674255326639663), (266, 0.04669722204304346), (3866, 0.04668901821936171), (274, 0.046507153339284193), (4218, 0.04640002505662009), (660, 0.0463110944708676), (4129, 0.046289485699081), (3643, 0.04624369236572285), (2955, 0.04616618269271103), (4024, 0.046145661657046894), (1118, 0.04602720514461624), (2776, 0.04602279853345964), (3576, 0.04588640380382996), (4061, 0.045868672330879975), (4205, 0.04579401244263781), (544, 0.04575031657439254), (4124, 0.04557838217659885), (2096, 0.0455514094071814), (280, 0.04540104737529757), (3617, 0.045188114769048), (105, 0.04514524861085049), (4724, 0.04513809104109373), (748, 0.04513058683061834), (2926, 0.04506922552470909), (4420, 0.04505829294457518), (1510, 0.04501124997479983), (4320, 0.044968996096760076), (2850, 0.044932378204979855), (2117, 0.04493182584401925), (108, 0.044849401673627054), (1278, 0.044738032970314374), (3584, 0.04467356670147848), (2980, 0.04464358786408402), (3158, 0.04454893956196851), (3509, 0.044456287086694725), (3284, 0.04444891942444624), (1048, 0.04440504108069222), (4025, 0.04433157404077207), (2530, 0.04425969948522791), (1306, 0.04423891748918976), (790, 0.04414175364108804), (907, 0.043978729649753766), (2111, 0.04397446397837342), (15, 0.043916862784532586), (4490, 0.0438260848894892), (1573, 0.04377297462339382), (3018, 0.04376126036945973), (2977, 0.043753028037891196), (4273, 0.04372774652536439), (4245, 0.04365201071372752), (2867, 0.0436519911305885), (1033, 0.04363215150954194), (3837, 0.043624046719063975), (3963, 0.043524991305705876), (2142, 0.04350137182726332), (3784, 0.04332752185922742), (1826, 0.043244690083644635), (4332, 0.043116639636775735), (2441, 0.04310253944853698), (4518, 0.0429866728593339), (643, 0.04294444140796469), (3428, 0.04294251443691344), (1624, 0.04292487170952741), (4441, 0.04291763302839563), (697, 0.04291011980071521), (986, 0.04270373832876401), (3941, 0.04265702662985983), (200, 0.04256223251648421), (960, 0.04249973593967697), (1579, 0.04249488730246565), (1298, 0.04249475213707739), (1282, 0.042487747946762126), (3823, 0.04247912391801714), (3137, 0.04243492705048844), (2313, 0.04231501615481976), (1887, 0.04226871222814923), (2147, 0.04218390404908014), (1468, 0.04204667328003674), (690, 0.042035448720364944), (4498, 0.04199282335601638), (4721, 0.041853152845742966), (670, 0.041680281197770536), (1777, 0.041657436152050344), (206, 0.04152834200623909), (1934, 0.041367439353922196), (4322, 0.04136688441096976), (3076, 0.0412481875382431), (241, 0.041220046970838996), (4648, 0.04110139730894123), (1599, 0.04105422238532874), (1852, 0.0410200201453748), (4698, 0.04098011633192333), (850, 0.040879671172297675), (1233, 0.04085798619864707), (4651, 0.040718220357425554), (2063, 0.040646168999027066), (1764, 0.040603519082960206), (2356, 0.04058266737625302), (4007, 0.04056572517652808), (4719, 0.04056241216858224), (1704, 0.04051188961801513), (1322, 0.04045659433013075), (65, 0.04044141386918534), (203, 0.040432340692199045), (408, 0.04040063260660713), (282, 0.04033320835235637), (563, 0.04020418646714128), (1077, 0.039994898659960955), (4153, 0.0399626344720133), (252, 0.03985378027817898), (665, 0.039831087674614254), (22, 0.03976148315826081), (641, 0.039755462411022), (1345, 0.03965427341721558), (3084, 0.03955978184701875), (423, 0.03944523997222748), (1292, 0.03940755508834293), (284, 0.03940752681744946), (3747, 0.03936524051683176), (4241, 0.03930492414825534), (1886, 0.03924009126331961), (2598, 0.039205253770431), (4464, 0.03920241547670328), (3476, 0.03919454133850843), (1606, 0.0391589178578673), (1498, 0.03901844835449192), (4535, 0.03897628785802045), (2629, 0.038956819344481766), (3134, 0.03890037304445945), (4407, 0.03879490662217572), (4342, 0.038789679381978165), (3877, 0.03877164026049824), (4625, 0.038728118527083515), (1326, 0.038723543995815915), (1161, 0.03857336122953537), (1701, 0.0385234929225235), (4523, 0.038513258747860726), (4115, 0.03849385420706155), (725, 0.03845820712057156), (3004, 0.03840393259999193), (1115, 0.03838208309325371), (2582, 0.038272235666494514), (4406, 0.03824756276427449), (2476, 0.038237502923995935), (2264, 0.03823195231289402), (1767, 0.03817748830764598), (3213, 0.03817644197877182), (4274, 0.03814211617453406), (118, 0.038138522066480454), (4343, 0.0381180945804793), (4512, 0.038058330382714806), (522, 0.03800171136444902), (4378, 0.03798952534018214), (656, 0.03798882060283849), (919, 0.03777304357882734), (1376, 0.037737579920388294), (2554, 0.03768172892722338), (4480, 0.037551594307579775), (773, 0.037427303468254305), (2398, 0.037321951161066035), (3990, 0.03730632612624232), (1991, 0.037297548360627916), (2606, 0.037210456134063194), (1866, 0.03717632407095789), (3673, 0.03714801255064154), (2613, 0.03713076994706378), (1820, 0.03695860978735239), (710, 0.0369207503855587), (3316, 0.03678704704069145), (4454, 0.03672614082014858), (4594, 0.036725650539205554), (2219, 0.03672294404764315), (3680, 0.036711821571761324), (2599, 0.03671102030840356), (3843, 0.036556323162960064), (1885, 0.036533327642435706), (90, 0.036446348993436996), (1596, 0.03644548165956644), (3152, 0.03635728877431049), (729, 0.03631548666526313), (4419, 0.03630297858010015), (1732, 0.036302675701259425), (2020, 0.03627862793942746), (3980, 0.03626776198816628), (805, 0.03620188623657832), (1576, 0.03618773053842203), (302, 0.03612135104913977), (4479, 0.03605653312324332), (79, 0.035964603211576775), (646, 0.03586874606039236), (81, 0.03582686823854595), (1859, 0.03581573983093973), (3741, 0.0358139121577765), (3698, 0.03573126686213108), (4646, 0.035640069669823374), (1069, 0.03561699413859648), (3769, 0.03551418711287162), (2965, 0.03543139726016697), (2281, 0.03538280370612062), (4280, 0.03524483227316248), (2713, 0.03515388209647084), (728, 0.03512526990163618), (3773, 0.03509667267440342), (3133, 0.03503249074819973), (1024, 0.035024599603267766), (903, 0.035013257282455135), (4311, 0.035012231195090636), (591, 0.03495972746979969), (3819, 0.034892698059884465), (3146, 0.03487612058051623), (2782, 0.03470822609603998), (2898, 0.0346909125140742), (3426, 0.03467111742402152), (2442, 0.03466296717135423), (1317, 0.0346221657562626), (432, 0.0344577413667346), (2300, 0.03445278820660653), (892, 0.034429625153790853), (3777, 0.03440885388893117), (2210, 0.034386569991978935), (3977, 0.03438160098977624), (1905, 0.03436182746440295), (1961, 0.03431937257813947), (1729, 0.03428207629244172), (2882, 0.03424935109517342), (1487, 0.0342426475497878), (799, 0.03421365949791256), (128, 0.03420373518892528), (1643, 0.03419032059475937), (4281, 0.034184787090767076), (1188, 0.03418201888226498), (4447, 0.03414858385676828), (1192, 0.03412093289757878), (2088, 0.03412029392402577), (1798, 0.034086154639424424), (1482, 0.03408509773973411), (3271, 0.03405510698819462), (2291, 0.03404871052023927), (1711, 0.03402083366010859), (1224, 0.03399531002682741), (1206, 0.0339622080065826), (635, 0.03393793182539433), (3846, 0.03392377567317249), (1983, 0.033917604440984434), (4161, 0.033907072386710375), (1860, 0.03389926689829417), (4657, 0.033897625784509985), (4289, 0.0338822076584608), (4402, 0.033858666982534445), (1497, 0.033849056802018114), (3979, 0.033798118649592986), (3132, 0.0337508393301148), (3867, 0.033692914802451145), (1013, 0.03363674032314073), (1833, 0.03357636741291861), (4470, 0.03357587706282132), (2474, 0.033523327841656826), (2299, 0.03349050478287037), (2373, 0.03344674803098306), (2723, 0.03343962201756716), (856, 0.03341297785136611), (2668, 0.03340430511569767), (4645, 0.03340031335476039), (1138, 0.03338506963817375), (4374, 0.033314876233042544), (4189, 0.03331204306218122), (852, 0.033310795505970825), (709, 0.033279117427607675), (3342, 0.03327392486799077), (55, 0.03326298880898406), (3742, 0.03315993658713145), (1223, 0.03313087811861138), (3082, 0.033126945415597506), (1841, 0.033109625916198496), (250, 0.033097019770393615), (1821, 0.033073897723838015), (444, 0.03304673882031799), (3273, 0.033019543491885434), (4088, 0.032903505282377635), (3670, 0.03284506682811687), (3463, 0.032838556572079805), (3779, 0.032759610629592636), (2319, 0.032742215687982364), (2231, 0.032685118137202096), (1754, 0.03267221923442939), (4663, 0.03257422652837259), (1500, 0.03256878682941708), (1111, 0.032530534943451095), (1108, 0.0324812902696388), (1516, 0.03245913208582628), (56, 0.03241135449655003), (255, 0.03240152068350208), (1799, 0.03228351038112807), (3690, 0.03225773820369021), (3435, 0.03225011694571547), (3467, 0.03224077159926293), (4722, 0.03224029499022589), (843, 0.032194740065456175), (2234, 0.03217701541078857), (3448, 0.032154095430130994), (4539, 0.03208527111075761), (4300, 0.032082678319226024), (514, 0.0320755743662993), (3916, 0.032072760758402014), (4609, 0.032052678368656114), (683, 0.03204288408864709), (176, 0.032038519868743794), (2769, 0.03202153834351235), (1007, 0.03199913403290843), (727, 0.03199611454058486), (3757, 0.031993696080229984), (303, 0.031985659421342696), (1518, 0.03194292703627165), (2798, 0.03192587729610222), (1912, 0.03189502238168507), (1126, 0.03186568763328179), (3982, 0.031825865789413425), (593, 0.03180238744898846), (2692, 0.03179699053985203), (3129, 0.0317906318710557), (4309, 0.0317860163224269), (485, 0.03178423019249767), (227, 0.031782575248002216), (4495, 0.03176824992432707), (3094, 0.031743589162142975), (713, 0.0317427815326614), (3226, 0.03173721689553301), (1836, 0.03167577227813332), (2393, 0.031651538192737534), (3572, 0.03158536268222306), (623, 0.031585246372035344), (4482, 0.03157346737361791), (74, 0.031543568543832175), (2049, 0.031540255553513516), (4548, 0.03152299425447216), (4678, 0.031511921371065), (1302, 0.03149978992884693), (1234, 0.03149165375777725), (2567, 0.03145368210169104), (2195, 0.03143483619316228), (881, 0.031350410442207474), (1430, 0.03126863555640166), (2403, 0.03126810424117463), (1462, 0.031228298599929573), (448, 0.031196901865840062), (2724, 0.031186596890092944), (1042, 0.031151585066593504), (240, 0.031126105559357537), (1439, 0.0310542877862187), (3241, 0.03102553288501981), (3377, 0.03101640674036863), (2790, 0.0309917196113028), (3286, 0.030906841928674756), (3772, 0.030873130427104926), (1059, 0.03086408529036609), (2405, 0.03084733951766894), (1373, 0.030840582280781417), (4588, 0.03083002806443038), (3611, 0.03082504569740753), (2051, 0.03082331911740751), (1047, 0.0308163910361324), (2841, 0.03078443650517869), (170, 0.03077529406571763), (4142, 0.03075784320561691), (4564, 0.03065156995748833), (2780, 0.030625192828014056), (2100, 0.030610911244895213), (179, 0.030598746519619652), (2290, 0.030586822071578534), (3786, 0.030544315459137793), (4368, 0.030418571968673893), (2579, 0.030409286011873905), (4315, 0.03038105062604937), (4282, 0.03037972550772945), (1858, 0.030356455071711294), (1856, 0.030339517724641434), (1770, 0.030312480730020776), (3649, 0.030255673915327144), (3283, 0.030210021199208986), (4272, 0.0302003918540528), (463, 0.030181828966709748), (53, 0.030165442212198808), (242, 0.030149853905554545), (1923, 0.030129718867444276), (990, 0.0301066686193799), (165, 0.030103106334122838), (1060, 0.030083207154613885), (4135, 0.03007981695180822), (2535, 0.03006877232324388), (3592, 0.03001320896875241), (1998, 0.029934423444322088), (829, 0.02991666163598982), (384, 0.02991491028856215), (4009, 0.02981737533498185), (1632, 0.029777564711386113), (1855, 0.029775505715068876), (124, 0.029737029020304118), (565, 0.029733035268726976), (2831, 0.02969320835254073), (1074, 0.029668387995430107), (1649, 0.02966795702295925), (4390, 0.029645832100207534), (4140, 0.029641995445062373), (791, 0.029613320834956713), (23, 0.029578025627212602), (1179, 0.029490888038642672), (2915, 0.02939210317403387), (894, 0.029380517568051257), (2676, 0.02937845854990211), (3449, 0.02931586935514016), (3381, 0.02930498022011485), (3816, 0.029206753720986443), (1848, 0.029204501213353783), (1642, 0.029170292715026865), (3091, 0.029147320868136133), (4264, 0.029147066458956202), (3184, 0.029138852533422178), (4371, 0.029092260953197363), (2746, 0.02908907801131548), (4585, 0.029061051336626762), (371, 0.029028866160492106), (1533, 0.02902083565402363), (810, 0.029016751038011497), (4613, 0.029012941779962876), (2175, 0.028929932916683304), (359, 0.028924195482032563), (2655, 0.028891703569160987), (2873, 0.02884237387271976), (756, 0.028840692255621792), (2351, 0.02881425741123948), (4471, 0.02876888293749514), (2418, 0.028756944218180452), (1662, 0.028735647522134596), (808, 0.028710177894165752), (4575, 0.02870474694211589), (1714, 0.028643467949743547), (2115, 0.02862572736291387), (4504, 0.028625518538272048), (4216, 0.028583797938187286), (1019, 0.028580473230982666), (1366, 0.02857251747778962), (3511, 0.028557360556054484), (1694, 0.028506887789768866), (2814, 0.028432681336518942), (2704, 0.02842796842673759), (2389, 0.028395730547556106), (3612, 0.028394350365793287), (2250, 0.028322230062146483), (109, 0.028297501303281916), (4431, 0.02821238207431787), (767, 0.028210586676468058), (2242, 0.02819091681523175), (2650, 0.028186664421358774), (1089, 0.02816770332830861), (2820, 0.02815310018960974), (3529, 0.02815274827260238), (2158, 0.028146386891124142), (239, 0.028114700786140222), (1464, 0.028111506885678355), (3508, 0.028075827910586628), (4334, 0.028039624571686947), (774, 0.028004896569242207), (1590, 0.027993552010055826), (4071, 0.02798556589303821), (277, 0.02798251755435446), (4150, 0.02789821994587198), (2103, 0.027884462405376145), (2321, 0.02787285199334788), (256, 0.027865617972229764), (865, 0.027856389828098606), (3016, 0.027850780835122137), (1534, 0.027839326641519037), (2144, 0.027805499271314715), (3809, 0.02779591030071335), (4403, 0.02778752545089413), (550, 0.02777972304899161), (3932, 0.02777921157831752), (4550, 0.027761690983852214), (2905, 0.027672045451713912), (4624, 0.027663029933620225), (3759, 0.02763825003045057), (4095, 0.027637920525598266), (111, 0.02762594225792004), (3847, 0.027622306395860743), (69, 0.027615094054077895), (78, 0.02760809030628393), (3792, 0.02758922600145277), (618, 0.027521120191936796), (4223, 0.02752023923485333), (3118, 0.027447670528397517), (918, 0.02743018166100157), (3335, 0.02741087908211363), (2367, 0.02738566303010377), (4460, 0.027363672473490204), (4682, 0.027354311104824124), (2285, 0.02735071423605443), (1471, 0.027346411811876588), (1737, 0.027329247486856348), (3473, 0.027303349788537327), (104, 0.027300631391544733), (172, 0.0272153852876768), (2895, 0.02717377215705613), (973, 0.027158365789536683), (3401, 0.027156138218855642), (4233, 0.027135886716627616), (3478, 0.02712942503523416), (2182, 0.027119148472878593), (3551, 0.027109741082891083), (479, 0.027097327465331153), (3053, 0.027052950863163606), (2647, 0.026957743268123655), (1675, 0.026869837288744924), (507, 0.02686339356436682), (127, 0.02684072545636873), (1372, 0.02683732462239921), (3261, 0.026789712941881018), (4444, 0.02678288742113159), (2830, 0.026774739457975337), (3173, 0.02671739357007709), (3891, 0.026696345403330206), (1865, 0.026688701765356072), (911, 0.026658817433380524), (921, 0.026651841916181727), (2330, 0.026591350316899808), (1004, 0.026584023559469233), (615, 0.02656805595668029), (2802, 0.026527708565415968), (2671, 0.026526989567475335), (2584, 0.026520445856241207), (707, 0.026509788676701035), (3545, 0.026471768379189544), (671, 0.02645507317021431), (2456, 0.02644304387737561), (2408, 0.02640921756816774), (1284, 0.026409115440104856), (2399, 0.026408677907511356), (3853, 0.026394059014590902), (320, 0.026366425902942033), (3765, 0.026353010436142996), (959, 0.02635085627387189), (4183, 0.026312853057704005), (1394, 0.026277354699260923), (1300, 0.026261435921256505), (3298, 0.026206300574951106), (2612, 0.026201223401319584), (1379, 0.026184054640975868), (1878, 0.026173618190334764), (2371, 0.02615035925558077), (4359, 0.026119495443529903), (1700, 0.02611936066994177), (322, 0.026100664508262907), (3352, 0.026089132606298585), (2131, 0.026061544449425218), (3619, 0.025950042783419), (1879, 0.025919467322801527), (2588, 0.025857133919974934), (579, 0.025854239669688386), (3910, 0.025827995312821397), (1925, 0.025820056429683325), (620, 0.025798457505697037), (4213, 0.0257970799296518), (2725, 0.025728875192448302), (3163, 0.025716654297430325), (1906, 0.02570716715492982), (2465, 0.02570409986036987), (1445, 0.025678676611185607), (4364, 0.025672085854428664), (3147, 0.025662418481733902), (2609, 0.02566045381360811), (4099, 0.025640952687435548), (1063, 0.025609981756736136), (913, 0.02560632250156384), (2538, 0.02556756010240329), (525, 0.025483083764203527), (3570, 0.025459958530253166), (1578, 0.02542509942741513), (1763, 0.025398476415405213), (1830, 0.025349721005184896), (1691, 0.0253069044464228), (368, 0.02528944088842324), (3959, 0.025230522277690962), (315, 0.02522764844324622), (1095, 0.025193218255111546), (2283, 0.025178901940187258), (977, 0.0251761332605117), (4453, 0.025139692638497267), (3135, 0.025077706852825846), (3068, 0.025050064050211856), (4443, 0.025046570126453414), (4352, 0.025034334691090933), (3839, 0.025023258802012716), (1477, 0.025023012934896546), (324, 0.025004685284237944), (418, 0.02499173529634258), (1086, 0.024984761376394413), (3648, 0.024977432214449025), (4288, 0.0249734001755021), (2677, 0.02496241856097082), (3123, 0.02493887006214225), (1177, 0.024850536050323543), (4146, 0.024717405583816028), (4093, 0.024693644460327235), (521, 0.02466719203951833), (43, 0.024654494730533702), (1585, 0.024599017388499227), (523, 0.024589065004702308), (3812, 0.024570505196335544), (1442, 0.024542925483315985), (1846, 0.024500255977618356), (1839, 0.024466568275334236), (515, 0.024454064161594083), (4350, 0.024452869034211983), (3336, 0.024418555976385224), (914, 0.024407900967292243), (436, 0.024392001178114055), (3766, 0.02438227510203207), (2645, 0.02435261491726006), (2732, 0.024345245217460735), (1512, 0.0242974924592696), (1175, 0.024279015946872606), (669, 0.02427305800921689), (2526, 0.024266864705322435), (1321, 0.024247715605848645), (826, 0.024211614369036974), (2813, 0.024191729125318424), (4194, 0.024144741141013615), (3972, 0.024131314450243017), (608, 0.024126928782536868), (4636, 0.02412625635508449), (3946, 0.02408480118771443), (1581, 0.024073049062162392), (3250, 0.024028498347811778), (3492, 0.024028086724675997), (2276, 0.024027353937172008), (48, 0.024021853592120463), (2004, 0.023971252613807777), (4056, 0.023927690837669532), (968, 0.023896847961715133), (1776, 0.023892331767717274), (2942, 0.023853420247021022), (1870, 0.023837110464866643), (2229, 0.023825260577211512), (1028, 0.023825141643073304), (1220, 0.02381016628672134), (117, 0.023774398604449215), (2640, 0.023753471650654435), (983, 0.023709479628656133), (2055, 0.0236278405021275), (393, 0.023618000036986865), (3655, 0.023609950989481984), (1871, 0.023606170067056117), (3056, 0.0235135936468398), (142, 0.023483344481273608), (3523, 0.023458305205568117), (3136, 0.023457028407327274), (4600, 0.023446141225620373), (3531, 0.023414297949055904), (2297, 0.023398429725963274), (4643, 0.023352121767569574), (2074, 0.0233326749690745), (2847, 0.023327472771002323), (3883, 0.023305852931724453), (4314, 0.023276926367466935), (4113, 0.023261844281895178), (4525, 0.023254430402846124), (4109, 0.02318190126507645), (3232, 0.02317459480523246), (306, 0.02317239189365216), (622, 0.023165818336686135), (3721, 0.023157780016287686), (2058, 0.023120167281383417), (3403, 0.023112303104590955), (677, 0.023089460871541262), (1148, 0.023084673548011803), (491, 0.02304576188690908), (80, 0.023044455044518963), (2375, 0.023008194428077923), (533, 0.022996397771240486), (2107, 0.022994329909419693), (1733, 0.022963412925361488), (3732, 0.022897267680932566), (4022, 0.022881646299357798), (3865, 0.022872900992528665), (4493, 0.022817029403427138), (67, 0.02280609558703623), (63, 0.02279110756513387), (3586, 0.022673936891250746), (2509, 0.022653047407031123), (794, 0.022633326041906935), (2637, 0.022620163227033557), (2205, 0.022596321201000306), (2040, 0.022587801454778577), (4568, 0.022563651528117096), (1705, 0.022560963120009284), (288, 0.022509817658348745), (2661, 0.02248262070309335), (2729, 0.0224772166848492), (896, 0.022335555347747595), (2337, 0.02230585822307657), (4013, 0.022260006580581436), (1456, 0.02225954401048242), (1066, 0.02223324234825273), (1328, 0.022217606188681183), (2666, 0.02219141996758721), (3042, 0.022172312225629355), (3642, 0.02217122307084307), (1211, 0.022164638083478988), (3694, 0.022127068288052203), (1506, 0.022117869133300078), (4748, 0.022088887951353046), (2597, 0.022086193995795804), (457, 0.022080390467265808), (3469, 0.02207610237897567), (2835, 0.022060670060227175), (3882, 0.022041891874087415), (2381, 0.021978677869192442), (1402, 0.02196130633406122), (417, 0.021946593505348902), (217, 0.02194572658127291), (2254, 0.021940312192065194), (1749, 0.021939140566951114), (1876, 0.021926620759176944), (2098, 0.0219152237761377), (1651, 0.021905846877115893), (3780, 0.021830462307558876), (753, 0.021807225983535843), (3635, 0.021794375334906305), (370, 0.02176606425153266), (3063, 0.021734165629811803), (2555, 0.021730184843600526), (3164, 0.02169626803824402), (3049, 0.021674834859630208), (4287, 0.02163697939129864), (3756, 0.02157876487014343), (3695, 0.02156203303196853), (534, 0.021532422124195306), (3878, 0.021507464499867172), (2444, 0.02149073444265044), (3202, 0.02143313179117022), (1062, 0.021422181495267853), (3051, 0.021408704558600375), (4676, 0.021397292297430242), (2118, 0.021338521700185725), (2199, 0.021301451507397477), (1611, 0.02129176122960226), (1944, 0.02127889881804561), (2137, 0.021271950380660425), (4118, 0.021258055475789385), (1266, 0.02124551640129693), (3666, 0.021229138332568644), (232, 0.021224507425664497), (2421, 0.021217679790018047), (3168, 0.021183239309589905), (2075, 0.021122039866330423), (4016, 0.021120701331165677), (1481, 0.02110074646786123), (3623, 0.02109157640820541), (858, 0.021052518020464643), (2460, 0.02103790549829237), (3525, 0.0209869493710574), (1864, 0.020968984546843206), (4114, 0.020951016973314675), (2286, 0.020912627617977672), (1114, 0.020910083220366183), (1291, 0.020856269317110113), (1612, 0.02085509595461632), (52, 0.020845273679329337), (3653, 0.020841773793939485), (4511, 0.02083038148204911), (1308, 0.02082830226964274), (3328, 0.020819742870946574), (2376, 0.02081702556113523), (3299, 0.020810893152162408), (1255, 0.0207146425422271), (2061, 0.020708542367144388), (2740, 0.020690543329469333), (3067, 0.020689651894701254), (231, 0.020671564132231632), (2626, 0.020646524671510926), (2249, 0.020615489896281706), (1417, 0.02059250639462967), (4685, 0.020561582651371656), (2284, 0.02055612597660162), (567, 0.02054523783946798), (86, 0.020529479294750665), (1607, 0.020517277738303953), (295, 0.02051040153015598), (2691, 0.0205090830418308), (3771, 0.020495648814746498), (2710, 0.020452234627703944), (1592, 0.02043338781431832), (2642, 0.020405064353700493), (1470, 0.020404483120370694), (2809, 0.020370879733425985), (3561, 0.02034558247518435), (3357, 0.020340724419115424), (3538, 0.020336696106226473), (1244, 0.020333601554441316), (988, 0.02030795469346746), (1107, 0.020284171472358697), (1222, 0.020236880633320478), (4139, 0.02022396704605687), (4152, 0.02020649160767909), (3774, 0.02014451579181168), (1552, 0.02014366713250848), (4749, 0.020141971544915396), (1614, 0.020125006403618667), (3638, 0.02009798374906105), (3246, 0.020077535019058363), (4221, 0.020066382532346577), (2630, 0.020036226903099832), (2143, 0.0200237001092026), (2141, 0.020017876365918473), (1889, 0.02001356124249969), (1458, 0.019997425106881645), (2694, 0.01999218294651737), (3703, 0.019963543258960832), (3950, 0.019958050465938428), (910, 0.0199569255583167), (3390, 0.019954480543433926), (4041, 0.019938629279032984), (3681, 0.019931131896171666), (2995, 0.019848966763796265), (1710, 0.01983867216707442), (676, 0.019821737015219467), (640, 0.019779603447981402), (2202, 0.019776775801837208), (970, 0.019763135848140857), (3121, 0.01967591706874814), (1588, 0.019656284591702444), (2628, 0.01964742038218119), (2590, 0.019612764590471506), (4379, 0.0196057172937406), (1788, 0.019582176691244353), (1478, 0.01957883568936479), (3588, 0.019576698054672038), (4630, 0.019576466842642075), (2634, 0.01956901232640054), (3475, 0.01953788516176892), (661, 0.01953525046678317), (1198, 0.019513248012656016), (3829, 0.01946799035063274), (3578, 0.01942156083126223), (2643, 0.019410578945766234), (218, 0.019335457589913382), (4717, 0.01932244389869482), (2125, 0.01926904121167357), (455, 0.019251049660228683), (31, 0.019228694820089754), (742, 0.019219012434719303), (4684, 0.019197664520411186), (518, 0.019184105846028088), (1169, 0.019151897684440224), (2636, 0.019148082991629796), (2496, 0.019120409948656922), (4638, 0.019104456894472953), (1039, 0.019084736669610122), (3205, 0.01907780050466773), (102, 0.01907167023361428), (2022, 0.019064455676713294), (2991, 0.01906278417348084), (1819, 0.019048126464032308), (1162, 0.01904503718027634), (1555, 0.019033554331747065), (3871, 0.018985311043188), (3938, 0.018927454826691496), (2544, 0.0189194151996702), (3277, 0.018904744849819372), (1911, 0.01888967920459582), (3140, 0.018888171749597057), (4383, 0.018877969874606562), (3506, 0.018873433162713782), (1810, 0.01884668843974337), (2457, 0.018839313212861475), (1873, 0.018830883836429838), (2013, 0.01882486187657957), (2050, 0.018796869381609398), (1483, 0.018775929183938625), (3061, 0.018771769893081144), (904, 0.01875623354823769), (3111, 0.01874459397723866), (2427, 0.0187245096707448), (4544, 0.018722880530239093), (3115, 0.0187112382784536), (3166, 0.018705863113298353), (4618, 0.018684616730247995), (2480, 0.01865057628904977), (1627, 0.01863599032608211), (2557, 0.018613989912400014), (3783, 0.01859259414914749), (530, 0.01851837849369785), (3272, 0.01851321554875954), (3897, 0.018508407363644494), (219, 0.018507405708121625), (1495, 0.01850604615141045), (2689, 0.01850505492539082), (2771, 0.018499110357298933), (1553, 0.01848365524305659), (1937, 0.01847849705362225), (737, 0.018456952150069966), (1356, 0.0184524290430251), (765, 0.018449311464225314), (1531, 0.018444647929739953), (4333, 0.018413676662103768), (1194, 0.01840765690648666), (257, 0.01839477888703237), (4209, 0.018391156225668892), (4392, 0.018381868375603596), (500, 0.01834307271430472), (4404, 0.0183430660847148), (3031, 0.018333708244077658), (1005, 0.01833035542149879), (2615, 0.01831202795786913), (308, 0.018298851131825535), (4534, 0.018296661747883105), (3513, 0.018289836960729597), (4147, 0.01827482118508978), (4639, 0.01826646845818638), (1425, 0.01826457107000709), (1655, 0.01825665547943464), (4621, 0.01824169792148399), (364, 0.01822041311648226), (112, 0.018217531584476004), (131, 0.018190042395642227), (4062, 0.018178421091030177), (4586, 0.018177473434581704), (247, 0.018169580526812938), (4042, 0.01807385260620565), (2159, 0.018044652206587002), (2761, 0.01802251712138362), (1509, 0.01802183150747066), (4462, 0.01800613669858478), (3085, 0.01797160260537496), (1993, 0.017961497044747116), (3446, 0.01792789950564126), (1408, 0.017897232608137033), (1630, 0.01785001037701374), (1761, 0.017839304898318063), (484, 0.017830100955247428), (887, 0.017793223311481674), (2428, 0.01778980329382015), (2772, 0.017778730140178865), (3915, 0.01777419624546295), (3308, 0.017768353857471195), (1054, 0.017763775038119003), (3764, 0.017741263405443852), (19, 0.017729924658761418), (1467, 0.017712933552646064), (4119, 0.017709317329663146), (4632, 0.017694204676482358), (963, 0.017688111591293007), (1365, 0.017685365035116453), (175, 0.017684564650660203), (1914, 0.017680204630712425), (687, 0.017677736943801533), (3621, 0.017660650100493086), (4584, 0.01764470230876821), (2324, 0.017639822471596355), (3821, 0.017563944316662514), (2876, 0.017491463668495605), (4344, 0.017477386040226195), (12, 0.01747490407478228), (532, 0.017468746455653012), (4325, 0.017449008648115105), (4169, 0.01743125057700003), (1939, 0.01742619159924325), (1562, 0.017424930035048514), (681, 0.017420630077667493), (2221, 0.017410944815276573), (2684, 0.01740610199518668), (604, 0.017403036925892183), (246, 0.017402788562090335), (3993, 0.01738120341321814), (1011, 0.017377476592476827), (2565, 0.01735914180962773), (1283, 0.017335898988111286), (4708, 0.017323361138335415), (2844, 0.01729723036106177), (2928, 0.017271089195267007), (617, 0.01726219974416556), (2878, 0.017249926279122994), (2625, 0.017243423922446436), (1664, 0.01722752777056035), (1670, 0.017223367991079118), (4084, 0.017198351713939016), (1857, 0.01718543992725074), (2522, 0.017180256117701583), (4225, 0.017177860378935254), (1314, 0.01717245549520475), (2917, 0.01717201567932159), (1895, 0.01713522750869246), (511, 0.017133043412671807), (3705, 0.017122847455724594), (3817, 0.01711684693274482), (208, 0.017114010158725303), (1964, 0.017105306919409334), (237, 0.017092482023527037), (2843, 0.017086948544869668), (101, 0.017060934095962516), (1909, 0.017035216570825483), (3875, 0.017022765032820315), (3186, 0.017017634566909384), (1818, 0.017013762400449967), (1225, 0.01700568058668033), (478, 0.01698581153070229), (1124, 0.016965425224156182), (893, 0.016963498896028172), (2072, 0.016956627767597578), (334, 0.016927716418839604), (691, 0.016926768441859537), (716, 0.01690402921327609), (3373, 0.01689240429561925), (2245, 0.01686085669527338), (3290, 0.016840406368349905), (922, 0.016838594449392733), (2466, 0.016805680257353323), (407, 0.016804155680818923), (1294, 0.016798886767830187), (4196, 0.016754433367719812), (3909, 0.01675107084156172), (757, 0.016729149481127123), (569, 0.016666823509816662), (1122, 0.016660115742516864), (1109, 0.01664225328948446), (4587, 0.01663757377641886), (4138, 0.016635874087954514), (609, 0.01661709835402929), (1600, 0.01660362564024053), (2430, 0.016602635041267896), (1580, 0.01656133363277974), (75, 0.01655721140364195), (1722, 0.01652483983929894), (788, 0.01652477712981825), (3949, 0.016522184207186638), (2745, 0.01651726835292025), (2193, 0.016512948022842772), (476, 0.01647495404956039), (1931, 0.016470085784940938), (653, 0.016463760026355124), (2390, 0.01645311825413244), (4435, 0.016442157696729798), (1443, 0.016439076953636104), (4186, 0.01643512098415026), (3183, 0.016435038257420743), (3458, 0.016429984466506016), (2203, 0.016428768256536035), (4468, 0.01642533071510025), (2624, 0.01642256596378973), (3341, 0.01640991487506186), (3714, 0.01640481163566771), (2045, 0.016382419998451865), (3044, 0.01635996484292348), (3665, 0.016325146500691855), (4488, 0.0163095407502078), (2619, 0.016239799398089266), (4647, 0.016235201678134376), (400, 0.016213843697113036), (3143, 0.01621281791963816), (1168, 0.01619367324978663), (3554, 0.0161907250944382), (214, 0.016189853356026466), (599, 0.016187967900747575), (2494, 0.016181285263593116), (2990, 0.016180226622924527), (4132, 0.016154993520377837), (1068, 0.016143946758647807), (1385, 0.016140276387156767), (2756, 0.016101168642076214), (4165, 0.016098273870367302), (3711, 0.0160837556170624), (4574, 0.016069945585462958), (842, 0.016055793679564945), (2998, 0.01603753760234336), (98, 0.01602359195556917), (2791, 0.016009619565651438), (3933, 0.01600373199924587), (2259, 0.01599611581478584), (2161, 0.015986680493460522), (560, 0.01598177313336386), (3744, 0.015980497508402625), (2909, 0.015959614737801053), (4057, 0.01595858044357441), (1419, 0.01595257171535676), (1790, 0.01594421155816834), (1422, 0.01593296322300514), (3314, 0.01591765957698339), (2246, 0.015903645860646555), (2953, 0.01588618348641148), (4442, 0.01587249495995753), (4286, 0.01586807571375965), (1245, 0.015862294012807403), (1697, 0.01583855073384106), (1247, 0.01580547493294801), (2027, 0.015784938259735162), (2247, 0.01577390208606333), (782, 0.015702681760531786), (4366, 0.01569615219189144), (3770, 0.01569468555994474), (3351, 0.01566412475540257), (2550, 0.015660928134299177), (1648, 0.01564016753472152), (4136, 0.01563488468580836), (149, 0.01562610533389472), (1851, 0.01562514187663019), (1696, 0.015624453290924517), (2911, 0.015620093348743671), (2688, 0.015605671970466257), (4508, 0.015595318430386876), (157, 0.01558503281961542), (2549, 0.015584527254716948), (1364, 0.015584209240789449), (2765, 0.015554717442711346), (2068, 0.015549713942469137), (4267, 0.015484898995905785), (433, 0.015478653366296707), (3078, 0.015444956628944372), (2472, 0.015436025823431534), (939, 0.015434825994062694), (2198, 0.01541651568081323), (679, 0.015414351521667513), (2525, 0.015409142751539347), (1334, 0.015407052818554425), (1374, 0.015398321910996722), (1355, 0.015369493106369767), (3000, 0.015366752411912822), (1001, 0.01536360164242888), (2937, 0.015339934818064598), (1793, 0.015337494936719109), (2287, 0.015331169651201938), (1507, 0.015316371461468192), (3886, 0.015302116653955054), (1377, 0.015264362904775041), (2397, 0.015264130802077214), (198, 0.0152279235692359), (2528, 0.015196564766925462), (4754, 0.015151312840802735), (96, 0.015145369109688714), (4266, 0.015144637680928812), (2777, 0.015141592011483438), (3039, 0.015135030852555882), (948, 0.015133900932143401), (4452, 0.01512814130299746), (1221, 0.015122646495877645), (2751, 0.015109767271449616), (3794, 0.015091625814698698), (2482, 0.015083635610742972), (2436, 0.015072195580037886), (150, 0.015062499795221954), (3325, 0.015055062394910761), (2308, 0.015041912945225047), (4330, 0.01501689201785167), (57, 0.015001737734610495), (2574, 0.014999304844241584), (1883, 0.014996558018821493), (3222, 0.014969549810385374), (4058, 0.014950179316728715), (537, 0.01494672218435724), (1434, 0.014940374296728363), (1341, 0.014929261052440336), (1713, 0.014910491313928064), (424, 0.014909253131847478), (425, 0.014896317696535318), (2869, 0.014895512509960471), (2095, 0.01486053575628996), (1781, 0.014853279046985456), (3888, 0.014850158064026602), (374, 0.01480780207091762), (1669, 0.01478891691722126), (666, 0.014775949149110163), (2066, 0.014771606419498562), (2493, 0.014761412645128306), (1080, 0.014731487112174983), (4732, 0.014708629135650015), (2803, 0.01466986534887555), (3831, 0.014666909193559006), (4097, 0.014646980410384175), (446, 0.014640928353502738), (2968, 0.01459907785074572), (358, 0.0145968462311536), (1259, 0.014563323772091236), (4689, 0.0145391135014354), (703, 0.014535838466177982), (3387, 0.014500238639264055), (2781, 0.014484972473185899), (627, 0.014465281353102467), (148, 0.014459158662882663), (4044, 0.014457194977794127), (1554, 0.01445714204784802), (4091, 0.014427952624544271), (1117, 0.014418009811899994), (2318, 0.014413497080745937), (875, 0.014411767016346118), (3247, 0.014410673248579947), (3503, 0.014391695162098471), (738, 0.014380806168275778), (3235, 0.014375957823674729), (3787, 0.01437553842626869), (519, 0.014233109128984966), (2136, 0.014231084181884839), (191, 0.014216328810854054), (1217, 0.014206693108372581), (2651, 0.014199834984153826), (3187, 0.014191091392429637), (325, 0.014182555385695092), (3464, 0.014175105679690441), (3048, 0.014168033875996187), (1150, 0.01416281762310383), (4076, 0.014146013781343138), (6, 0.014127862168176294), (3150, 0.014109379963431368), (2635, 0.014083434062819814), (4703, 0.01407354088288526), (3782, 0.014065132657182943), (36, 0.0140614050870852), (1529, 0.014048574950886954), (3131, 0.014048319575190177), (2559, 0.014043149135470697), (1276, 0.014031689002316074), (4418, 0.014030221998884774), (1812, 0.014026953335534428), (553, 0.014018961755091083), (3438, 0.014018024008747701), (1734, 0.014014476114795844), (130, 0.013969088475198985), (4421, 0.013961901878658752), (797, 0.013958690403819649), (1351, 0.01395496242888717), (1099, 0.013923662928584532), (2208, 0.013917145057546113), (4316, 0.013905632215906901), (1340, 0.013897094673846772), (1436, 0.013893390497941022), (1904, 0.013886502296442744), (4010, 0.013868711039362651), (3913, 0.013855852975928683), (1380, 0.013848268398559698), (1185, 0.01383401692020872), (689, 0.013787653223345575), (3767, 0.013786862363765383), (1557, 0.013743592027805502), (1801, 0.013742738037540446), (1396, 0.013732003035974931), (1838, 0.01373132265323027), (566, 0.013728832612393348), (2015, 0.013711196028678376), (201, 0.013699866420476697), (846, 0.013695390307936301), (3065, 0.01369225074736621), (4158, 0.013681045200896077), (2982, 0.013678528311304578), (934, 0.013678455222760342), (759, 0.013664814771176651), (3912, 0.013664482809051026), (908, 0.013663741480106285), (2017, 0.01364983321156298), (27, 0.013640027144972125), (3849, 0.01363832373680373), (793, 0.013636897632025193), (3124, 0.013632778123678177), (3907, 0.013623228487258002), (2236, 0.013619174966220112), (4053, 0.013618622431641287), (189, 0.013597576511899542), (658, 0.013581703842858547), (449, 0.013573877920121942), (95, 0.013507217816024805), (1304, 0.013489891860486216), (4185, 0.013478480225728373), (902, 0.013469705444496664), (1901, 0.013457339280409734), (3008, 0.013437038739133315), (3006, 0.013416004024840913), (4580, 0.013412435506382502), (3486, 0.013407008548088243), (346, 0.01339998157154344), (2960, 0.013392575740694121), (1297, 0.013386176492694503), (3662, 0.013368278599814945), (1587, 0.013366122530341931), (3404, 0.01335968145280265), (4324, 0.013324502284121614), (1638, 0.013323100579613367), (2587, 0.013318978867814598), (3520, 0.013292730401442947), (2416, 0.01329089454652087), (188, 0.013287665474861527), (3713, 0.013284584362717334), (3630, 0.01328071600359624), (4003, 0.013277165847120888), (2130, 0.013273310872217232), (1692, 0.013233540783389251), (4103, 0.013201944363488587), (2501, 0.013194043557144335), (2506, 0.013173525108475546), (3367, 0.013151542421541708), (1566, 0.013141431881273544), (3644, 0.013140897916003612), (849, 0.013122227351262714), (4395, 0.013119207724445919), (305, 0.013118145061243446), (1262, 0.013095888633851992), (2604, 0.013080357894053278), (332, 0.013070993431372191), (2000, 0.013040351583654507), (4615, 0.013028887175568365), (167, 0.01302769990758456), (2653, 0.013013240167146296), (1012, 0.013007905273617417), (76, 0.013000944685657257), (1989, 0.012947373375852531), (467, 0.012943856646426471), (1272, 0.012937845072973693), (3206, 0.012924997035902627), (3393, 0.012908142615635033), (3149, 0.012901043989950282), (2243, 0.012892300784618258), (4211, 0.012889618705033055), (3315, 0.012882369147471937), (798, 0.01286913489586004), (4173, 0.012859836677351915), (4370, 0.012836852907762066), (1205, 0.012788856086629472), (3236, 0.012783539662132417), (4256, 0.012754844746951344), (152, 0.012751687899318662), (3646, 0.01275134128379361), (321, 0.012744940044962707), (3555, 0.012726407926332884), (2566, 0.012707091047101049), (3177, 0.012705274221162879), (741, 0.012700024542231392), (261, 0.012668792678329481), (3407, 0.012660038702437558), (3582, 0.012649641247308198), (3156, 0.012647024769992701), (915, 0.012635269900800668), (3189, 0.01262799999073674), (212, 0.012620272495953795), (310, 0.012615916744461358), (655, 0.01259305837163143), (1139, 0.012580259501413137), (93, 0.012576627411052917), (1207, 0.012544531080902397), (2707, 0.01253785273200897), (4589, 0.012503673749354068), (1412, 0.012498197606158574), (3790, 0.012492607957003885), (260, 0.012454530423511894), (1547, 0.012442064302576886), (1277, 0.01243829022538966), (3361, 0.012429982432245133), (4628, 0.012405890163683148), (121, 0.012394231464254201), (730, 0.012376056044019122), (971, 0.01237167605843792), (4292, 0.012371652681342184), (2646, 0.012363649797850698), (4277, 0.01235203327040631), (1782, 0.01233390757588648), (245, 0.012328782665792518), (3419, 0.012328191049202856), (2139, 0.01232380330929963), (3169, 0.01232182153725189), (3522, 0.01230135842907743), (468, 0.012287407985979043), (426, 0.012281831268278167), (477, 0.012273971990491942), (3100, 0.012265647755534674), (768, 0.01226157890367911), (3903, 0.012236166561736473), (46, 0.012204459869031275), (3650, 0.01217880374093944), (2093, 0.012144151648717261), (1789, 0.012125240580387615), (540, 0.01211894359034731), (94, 0.012058407090738313), (4001, 0.01203964201760509), (3587, 0.012033758257931518), (419, 0.012031547627265052), (4736, 0.012012083672348179), (397, 0.012005877580670715), (1644, 0.012005820636593266), (3560, 0.012003017960478203), (38, 0.011995246299139915), (2768, 0.011978064193761084), (4160, 0.011977339331727076), (906, 0.011969192489379384), (4193, 0.011941445367495437), (4401, 0.011935462523318303), (4688, 0.011934501844114612), (1474, 0.011913487635506743), (1239, 0.011910222659781129), (1295, 0.011901587018081207), (41, 0.01188687618776291), (1173, 0.011882981557715937), (2471, 0.011881438288356281), (1928, 0.011866463200948103), (1447, 0.011855250743994336), (3062, 0.011843509880453336), (1508, 0.01183686019995273), (1134, 0.011836088383336005), (3574, 0.011817756300756805), (715, 0.011788288090475123), (327, 0.011779160145783278), (323, 0.011745649744077942), (2239, 0.011724336432837473), (4558, 0.011719037748269764), (1771, 0.011718162186836332), (230, 0.011705089609289067), (3099, 0.011679600451437434), (1966, 0.011679131679294236), (2888, 0.011571890990157176), (4253, 0.011497863352619712), (4269, 0.011458643902827269), (872, 0.01143645971685534), (1971, 0.011430209370492998), (3679, 0.011427169599934344), (1523, 0.01142660013824772), (2517, 0.011425911053061727), (2940, 0.011418113339324826), (1363, 0.011406923432648727), (4018, 0.01139981730903024), (1324, 0.011395308435106107), (1772, 0.011394510681935803), (4207, 0.01139126987588509), (1988, 0.011390031870303992), (1572, 0.011366882236672126), (947, 0.011366632310055495), (859, 0.011361477909838972), (692, 0.011348960059605492), (1256, 0.011348530909779275), (1639, 0.01132277389764479), (234, 0.01130108580275711), (1824, 0.011298046579586243), (2755, 0.011296036504034917), (1496, 0.011294556881179762), (1709, 0.011267749204119317), (4159, 0.011264523277480254), (2594, 0.011258000630215904), (2627, 0.011255776357027684), (1903, 0.011243551200758744), (1309, 0.011238100619471753), (1570, 0.011234715700026605), (3083, 0.011173247238877668), (3405, 0.01116042020026913), (1571, 0.011149241175356869), (2932, 0.011141061259735834), (1475, 0.01113653634498009), (4015, 0.011124168544555769), (1116, 0.01111971304343448), (2016, 0.011089997947190155), (639, 0.011087959111293743), (1950, 0.011015106770866532), (314, 0.011007264058644549), (472, 0.010997885889578521), (2048, 0.010995237914102415), (631, 0.010983847265248483), (3215, 0.010981553202138597), (2439, 0.010981037942053774), (871, 0.010976289869994025), (156, 0.010954967341141427), (1254, 0.01094854949570425), (2036, 0.010941356184909505), (1936, 0.010918192185744358), (3047, 0.010914618702636571), (366, 0.010907372138034653), (4546, 0.010892003118369027), (2043, 0.010884198981268078), (4486, 0.010879572369374644), (2255, 0.010871476709314772), (961, 0.01085985191461196), (469, 0.010851544048721257), (1440, 0.010847630171162333), (2887, 0.010824378884725679), (1344, 0.010815286058294994), (2154, 0.010793343043281703), (1706, 0.010780009694096995), (182, 0.010767897925627906), (1530, 0.010753455478589531), (2067, 0.010746941344468878), (2826, 0.010739756307788707), (290, 0.010715021565082706), (3485, 0.010680613230995133), (3828, 0.010656857222176321), (3346, 0.010654316186908307), (4710, 0.010651170230389764), (2795, 0.010641450514111125), (1677, 0.010609494435094182), (2994, 0.010564346159594631), (2569, 0.010555797849381479), (1598, 0.010545384817880636), (289, 0.010538848815120301), (2608, 0.010527365493677866), (570, 0.010508370223321697), (4612, 0.010490076099465064), (119, 0.010480710672235771), (1900, 0.010469664474171145), (4242, 0.010468346193084583), (294, 0.010455102708510034), (376, 0.0104408579214176), (4353, 0.010437990153585647), (1350, 0.010405895707849052), (2842, 0.010391816955932285), (4660, 0.010390782085646099), (3521, 0.010380929833516142), (106, 0.010380866015317519), (4542, 0.0103774597020653), (292, 0.010364534024734152), (1329, 0.010357894156091034), (2128, 0.010321632142775799), (1645, 0.010320135600083416), (3641, 0.0103171411196102), (3154, 0.010313451782812138), (2188, 0.010283745003485658), (3917, 0.010276234204300556), (3826, 0.010270091997162448), (2879, 0.010262050329450465), (3929, 0.010257343324977021), (2459, 0.010256308844452904), (3228, 0.010226060815164814), (1064, 0.010208874184080993), (2778, 0.01018899173594729), (2473, 0.010173882406564631), (3127, 0.010167160966967593), (1273, 0.010166932211603853), (3645, 0.010164541165993857), (3901, 0.010162245823177552), (339, 0.010157397152774129), (4428, 0.010143789074703667), (2715, 0.010128373836010401), (4252, 0.010098827143441385), (775, 0.010045586085305099), (3675, 0.010044635980681855), (4701, 0.010042886535615999), (4664, 0.010036977142463857), (1342, 0.010036814792653555), (4554, 0.010016455852831514), (4637, 0.00999877299341705), (3439, 0.009978971883423168), (4735, 0.009971230429588602), (935, 0.009936273706444815), (2271, 0.009933440311988152), (1029, 0.009932694442182794), (3021, 0.009906168642329533), (2089, 0.009901396925040926), (2406, 0.00989783513793941), (1968, 0.009895696152494998), (4412, 0.00987082764425879), (3275, 0.00984875374867121), (937, 0.00984478315069101), (1079, 0.009823754847788678), (3019, 0.009809388810750637), (3450, 0.009786408191392145), (2920, 0.009774282124890578), (4163, 0.009769429458229348), (860, 0.009763160802076818), (1353, 0.00975944935552952), (443, 0.009746272346229637), (549, 0.009738505999777634), (1503, 0.009685670672618732), (4244, 0.009653453759905978), (428, 0.009644723374928521), (1387, 0.009643739221697301), (2741, 0.009618594498504173), (876, 0.00961801072523568), (4074, 0.009613692353910346), (1184, 0.009613091105763472), (3661, 0.009610275454053092), (2065, 0.00959756926707361), (1219, 0.009583508478595923), (3327, 0.00958202392568766), (2638, 0.009574104945757061), (2654, 0.009565849925427283), (107, 0.009556922223463837), (3795, 0.00955598672439408), (3960, 0.009552922906665014), (594, 0.009548392479818217), (1210, 0.009548242798616342), (4199, 0.009544426850492753), (2881, 0.009543446915898948), (4731, 0.009540464191209103), (3043, 0.009539032508894766), (4092, 0.009535836655036913), (4494, 0.00951937420276685), (4699, 0.009507359068815745), (2542, 0.009500385604576517), (1489, 0.009468449775860492), (1716, 0.009450143630519941), (2903, 0.009449638255682697), (3196, 0.00944895586614524), (3012, 0.009447270489850928), (3032, 0.009431888419555294), (1919, 0.009425486575671497), (1051, 0.00940921311590834), (458, 0.009402229207379181), (2840, 0.00939811007199685), (3640, 0.009397391443238302), (2237, 0.009373912425201216), (4593, 0.009369895974902688), (32, 0.009368100144868842), (2854, 0.009358331685270766), (888, 0.009338996897507642), (4531, 0.009338446058178674), (688, 0.009334518637766053), (1301, 0.009332943925608067), (1960, 0.009329641671346842), (3797, 0.009324616033640971), (2927, 0.009323232572744545), (2145, 0.009321995232895904), (4110, 0.009315609135469517), (1258, 0.009307208858975572), (967, 0.009303220214890561), (3961, 0.00930068187440864), (2112, 0.009300397449715721), (3096, 0.009286162293443426), (751, 0.009283958663436846), (4455, 0.009258485635579369), (1454, 0.009255304858571439), (450, 0.009246194172960714), (2906, 0.009240828046727247), (837, 0.00923939766741193), (1397, 0.009238034760857813), (4046, 0.009237616160048912), (4601, 0.009223073402686039), (673, 0.009195410765510068), (675, 0.009189296429890777), (4133, 0.009188055586025121), (4116, 0.009186693744000062), (4522, 0.009182882627810226), (350, 0.009173491573166354), (286, 0.009167038969933757), (3516, 0.00916430148241363), (481, 0.009163776569512356), (2214, 0.00916183757643428), (1997, 0.009154998558071779), (1897, 0.009136276964864179), (1325, 0.009133221526396996), (4341, 0.00912626698807538), (496, 0.00912036420857152), (461, 0.009110880737742563), (1615, 0.009110878825441612), (952, 0.009108843563412104), (1015, 0.009108707221512406), (3704, 0.009106019466079439), (2477, 0.00910408345845954), (3086, 0.009102767227605767), (1050, 0.009100868897553304), (4579, 0.009082610495174582), (210, 0.009081546357635483), (3899, 0.009080034943862659), (1352, 0.009074302434038468), (3692, 0.009072756496475333), (2523, 0.009070788060963701), (3112, 0.009061002758343335), (3095, 0.009046557353063507), (991, 0.009045125005300253), (153, 0.00904241570928953), (1140, 0.009022356107048733), (1537, 0.009021567698873925), (951, 0.009018218921452657), (21, 0.009011074725869664), (4038, 0.009008533562166722), (1141, 0.009005062220820764), (4005, 0.009003867641536623), (2949, 0.00900342080340454), (2104, 0.00899913394764514), (1119, 0.008996588118367007), (1071, 0.008992269862157171), (4231, 0.008988723472168347), (2168, 0.008981980377664255), (4238, 0.008977795963816083), (1779, 0.008971299768756234), (1466, 0.008968935323226719), (2127, 0.008968072558822668), (3172, 0.008958447833428388), (493, 0.008946656965602099), (930, 0.008943887011497492), (68, 0.008936633267231292), (1687, 0.008934241158167315), (3618, 0.008931876327279313), (3483, 0.008921772235622327), (1853, 0.008919233990697798), (2714, 0.008917962897242263), (1484, 0.008913445832877951), (2196, 0.008910891842033416), (1918, 0.0089006365860708), (4123, 0.00889719602404338), (470, 0.008887192942531862), (1400, 0.008882362342790759), (4474, 0.008872324101080757), (51, 0.008865565388299558), (3532, 0.008858049076246228), (1902, 0.008857023945490648), (4757, 0.008848955075897662), (4178, 0.008847888614183157), (429, 0.008831097432589878), (1535, 0.008826139634317135), (4430, 0.008822377201367443), (845, 0.008821665028850472), (502, 0.008821506341557057), (3437, 0.008821334530499107), (2877, 0.008812098612729233), (580, 0.00880525134406894), (2034, 0.008801200436779594), (3862, 0.00880049558712065), (3514, 0.008796879204813162), (879, 0.008791132515251305), (543, 0.008776211082605848), (4526, 0.008775182650737925), (34, 0.008768253635459178), (1083, 0.00876732194068544), (447, 0.0087497306916546), (3349, 0.008742233247614029), (637, 0.008725910109442247), (584, 0.008718985079299026), (1437, 0.008717892965023368), (980, 0.008708906029980989), (2919, 0.008704916640040593), (3945, 0.008703994910706423), (606, 0.008701301865492823), (1629, 0.008698130162103974), (4249, 0.008694290363234075), (1999, 0.008690693771514945), (2532, 0.0086855760012457), (3153, 0.008676992567744736), (3233, 0.008668739809563158), (743, 0.008658899858405657), (509, 0.00864144314903853), (4098, 0.008637437235745206), (4626, 0.008636886391304902), (1296, 0.008626920690473135), (2672, 0.008623298362253607), (3571, 0.008616490885242897), (1174, 0.00861431548246917), (2784, 0.008612750884786226), (2164, 0.00861140737158871), (2956, 0.008611325939183779), (3699, 0.00860668998454169), (1337, 0.008599195598509881), (406, 0.008597175312277518), (1740, 0.008595786096366693), (238, 0.008594336192936536), (2479, 0.008591226508430642), (750, 0.008584612182845978), (3303, 0.008575026183162422), (1942, 0.008572977541371242), (832, 0.008567828008972203), (3501, 0.008565372398328013), (4068, 0.008560610455554328), (2295, 0.008560374306980168), (2218, 0.008553204944585146), (1413, 0.008551783130046727), (4004, 0.008545531262567626), (2091, 0.008543686653410786), (365, 0.008543661730248389), (4742, 0.008541266522995009), (2374, 0.008539846753010925), (4034, 0.008535429171590718), (1240, 0.008526620709125226), (1472, 0.008524370114469746), (2806, 0.008520489598739465), (1460, 0.008517223029069742), (4677, 0.008516824433463493), (1985, 0.008514639481673233), (3735, 0.00851353390435234), (1335, 0.008510306152715528), (636, 0.008509996780955176), (686, 0.008503041331413245), (3210, 0.008499618434574176), (4503, 0.008498271733866693), (3227, 0.008496233890223259), (628, 0.00849568886542943), (362, 0.008494390804396852), (1232, 0.008491404740536699), (696, 0.008481645381910291), (3444, 0.008480645120565263), (3436, 0.008480580355607262), (4181, 0.008480455839893148), (4517, 0.008477373084329623), (4077, 0.00847727671139476), (3125, 0.008468024554713583), (1191, 0.008459635749458974), (4715, 0.008448142177005102), (1844, 0.008446714009900748), (2344, 0.008443918150420325), (2233, 0.008442990441438411), (2695, 0.008436797839633043), (2010, 0.008436293516715945), (3869, 0.008433793844618821), (956, 0.008429279603444476), (761, 0.008427654668109021), (2558, 0.008427512835105743), (1091, 0.008422766814616286), (3628, 0.008413213666757567), (2575, 0.008408982620047856), (363, 0.008406983581453087), (3330, 0.008397706583233275), (1678, 0.008378260505641954), (4491, 0.008371273601391104), (3374, 0.008362541917702353), (1811, 0.008358640268035579), (4000, 0.00835810680715281), (3727, 0.008354703417532514), (2174, 0.0083523834637389), (3553, 0.008351335037217592), (1252, 0.008348569168825341), (3624, 0.008348320416798822), (2860, 0.008347248340657068), (1894, 0.00833707158870955), (2377, 0.008332150391642808), (4086, 0.008325324506253675), (769, 0.008316093048424846), (1640, 0.008309591674528409), (1621, 0.008306934186117157), (880, 0.008305401971884148), (1257, 0.00830345124421481), (2961, 0.008294266835138616), (3195, 0.008292381133200907), (989, 0.008288001380603816), (2069, 0.008279082854192363), (3499, 0.008277993803469951), (4284, 0.008267870022104964), (340, 0.008266284306002208), (4492, 0.008264702118725842), (2451, 0.008263047623469787), (2216, 0.008258327537271137), (1228, 0.008256037065032707), (4362, 0.008250746507508627), (4351, 0.008250592111633384), (3185, 0.00825032115091387), (787, 0.00824863349295333), (1731, 0.008248429847085957), (2910, 0.00824454492800933), (870, 0.008239492970422351), (4347, 0.00823290021705215), (3834, 0.008231868645852224), (2632, 0.00822833612025252), (4478, 0.008225445348485768), (1653, 0.008217169160509439), (4387, 0.008216368588721407), (1333, 0.008204386706184648), (3461, 0.008200875447308372), (2008, 0.008194629498814759), (1017, 0.008190297151965753), (1035, 0.008186041980698913), (1967, 0.008186008189645164), (4576, 0.008184404139514986), (603, 0.008183082428104043), (3370, 0.008179244736744331), (1926, 0.008175181337535581), (329, 0.008174265597144367), (17, 0.008172628171289322), (361, 0.0081668826959615), (1044, 0.008162835683870277), (4673, 0.00816136520377254), (4557, 0.00816103306884867), (1671, 0.00815819029946824), (1030, 0.008156682351731977), (297, 0.008139446771720883), (301, 0.008138372857350598), (3660, 0.008125873291156212), (1401, 0.008124062912650217), (1421, 0.008123340502474244), (2716, 0.00811648280612553), (923, 0.008114814120824947), (4323, 0.008103830316710013), (1389, 0.00810159495253008), (1248, 0.008095986392747249), (600, 0.008095518255213022), (3208, 0.00808758164620785), (1955, 0.008081358034291941), (18, 0.008079976228848913), (1603, 0.008073842453653276), (4670, 0.008071674986281765), (3504, 0.008070997993632692), (2024, 0.00806908346431154), (3498, 0.008051080007438483), (452, 0.008045883024106597), (3870, 0.008043206925992544), (3122, 0.008038533946370606), (356, 0.008037575937518573), (3978, 0.008037278504724993), (298, 0.008036807119051687), (1965, 0.00803611030935869), (2605, 0.008031290662482302), (2540, 0.008031013923481769), (2121, 0.008022065897761388), (3035, 0.008021869550506286), (1375, 0.00800883518327222), (1123, 0.008008373819146195), (1132, 0.008008157469034778), (644, 0.008004722444672638), (1932, 0.007988874258349815), (3798, 0.00798035782687121), (3546, 0.007970123559160075), (1165, 0.00796942569469859), (3743, 0.007960588315363627), (878, 0.007958846394491566), (3287, 0.007953538307757186), (116, 0.007952872560358506), (151, 0.007947479771832829), (276, 0.007945161113382683), (2348, 0.007936982870469293), (3433, 0.00793424011110612), (2332, 0.007928334988997811), (59, 0.007926656594104905), (694, 0.007923954900754869), (4456, 0.007923201464710004), (2353, 0.007921207554712966), (2899, 0.007921159586079349), (236, 0.007915052959343832), (1041, 0.007909652325939168), (1665, 0.007889715110718372), (1045, 0.00788903325838196), (572, 0.007887103856514673), (2172, 0.007878814886533608), (900, 0.007878558577636117), (3597, 0.007873878548163892), (4168, 0.007868530029635334), (1686, 0.007865547312784554), (3452, 0.007857448948745417), (1085, 0.00784327877583039), (1433, 0.007839424727221447), (866, 0.007833542728876177), (1386, 0.00782176516989545), (1183, 0.007821381344033942), (283, 0.007817633954846482), (2551, 0.007817226117545031), (592, 0.007814148651054032), (54, 0.007813207610581994), (4210, 0.007803657492680565), (401, 0.007797574841775714), (3854, 0.00779229488671924), (1519, 0.007792149166669209), (1760, 0.007790753797446145), (945, 0.0077902476090810175), (1448, 0.007786056528434869), (1522, 0.007769071954579165), (590, 0.007766309327898978), (1667, 0.007765835635664331), (4581, 0.007765260453077175), (2414, 0.0077552583809534495), (1945, 0.0077520019234302), (3460, 0.007748517358374835), (4176, 0.007748191011820633), (258, 0.007746094026905275), (1515, 0.007743730284385757), (3482, 0.0077407031936139094), (2153, 0.0077356514498044425), (3876, 0.007734886204592344), (1908, 0.0077344873182882724), (1388, 0.007727099743780701), (3427, 0.00772266024239063), (1151, 0.007714509608100437), (264, 0.007704188713001091), (863, 0.007702433340501138), (1065, 0.007701694287964458), (2804, 0.007695952781920469), (299, 0.007692358182528685), (4195, 0.0076889244598332355), (1796, 0.007688310546846064), (199, 0.007683323578220921), (1269, 0.007681192643326422), (965, 0.0076767753601195065), (3805, 0.007671224870454499), (1360, 0.007669035573640789), (4128, 0.007665504909179074), (4457, 0.007665241615636528), (1022, 0.007658411431772237), (3474, 0.0076567971143156905), (946, 0.0076561089750949015), (1680, 0.007652829507245629), (2014, 0.007652030799232781), (1892, 0.007651559779772193), (610, 0.007649392297672809), (1237, 0.0076491402968491065), (1238, 0.007641153341212609), (2019, 0.007640829760576416), (1604, 0.0076280106997163874), (674, 0.0076264881545796154), (1595, 0.007625643386264684), (3058, 0.007624673940670245), (4509, 0.007615594593036026), (4154, 0.0076142063041185135), (2031, 0.0076038321406699215), (3318, 0.00759443591515878), (581, 0.007593538562117627), (3937, 0.007593025927108825), (2298, 0.0075920178009702), (1263, 0.007586925793542399), (981, 0.007586096901881953), (3974, 0.00758425739391529), (613, 0.007583389835318977), (1000, 0.007579040924820512), (4475, 0.007577430515056202), (1739, 0.007576594553332033), (800, 0.007573926604862736), (1459, 0.007572982013394453), (3108, 0.007562888910414022), (2191, 0.007556982165871782), (3841, 0.00755666422666686), (2607, 0.007552967634097891), (3801, 0.007549472003179529), (3685, 0.007547718574588984), (2329, 0.007546310391581139), (0, 0.007543098320511742), (3556, 0.007534308189162382), (539, 0.0075285753822577645), (3454, 0.007525828101852306), (2580, 0.007525067544665731), (4224, 0.007524205508415181), (732, 0.007522248982983583), (1414, 0.00751739044902495), (2763, 0.007513560884446088), (2504, 0.007511676538989628), (4112, 0.0075096739559148635), (3709, 0.00749876467710662), (1315, 0.007483464570220876), (1009, 0.007475283533908495), (4661, 0.0074692892176491475), (4134, 0.007461852323193984), (345, 0.007456559949159992), (2150, 0.007450347362535071), (166, 0.00744182097538541), (1608, 0.007437844418186692), (3366, 0.007430334303570129), (2617, 0.00742919527104962), (1113, 0.007427108358779261), (546, 0.0074231095790152826), (1368, 0.007423089230395574), (222, 0.00741658559571169), (1287, 0.007412448513819452), (3141, 0.007412257240570631), (4679, 0.007408143929418515), (390, 0.007404881444893035), (720, 0.007399486838757313), (1293, 0.007394879325940529), (4709, 0.007390647692785128), (4303, 0.0073878994209553165), (4432, 0.007375405791926104), (2641, 0.007372434710386379), (1231, 0.007372407891083233), (3567, 0.0073711728011658165), (3637, 0.007369040944749339), (4691, 0.007364867044852448), (2275, 0.00736325474273701), (4666, 0.007361169829505225), (1490, 0.00735090861450964), (3965, 0.007347714998748525), (3105, 0.007346581724813562), (2388, 0.007339534203038276), (1067, 0.007337866879371988), (498, 0.007334664865206914), (2621, 0.0073310993670552774), (300, 0.007329711883341401), (1755, 0.007321124925954664), (2412, 0.007316678928926376), (1327, 0.007316044081369331), (2950, 0.007311262029582745), (3700, 0.0073078018236980135), (1738, 0.007303737282820092), (171, 0.0073030336429163656), (733, 0.007290752697958166), (147, 0.007290203798429198), (263, 0.007280651584880214), (642, 0.007278422213311354), (185, 0.007273528677441661), (861, 0.00725618807428142), (3991, 0.0072554965901769596), (1307, 0.007240146627056105), (3193, 0.007227175917058086), (2447, 0.007227107253690282), (3566, 0.007226855556595044), (4569, 0.007222135563671477), (548, 0.007214629612046961), (1215, 0.007212692652120227), (2070, 0.007207491126909185), (650, 0.0072033801330783735), (2981, 0.007198215836418187), (1898, 0.00719395677377366), (3344, 0.007156228251463954), (2450, 0.007152080783802285), (1202, 0.0071474656830050635), (568, 0.007135585833660102), (2183, 0.007134403835297312), (3718, 0.0071341046279396626), (1845, 0.007125754785092192), (9, 0.007119691211077519), (4236, 0.007115198485083472), (745, 0.0071133390749811495), (3114, 0.007112389289066642), (35, 0.007099089201952717), (1354, 0.007097272642672778), (379, 0.007085241924747893), (409, 0.007083206365548247), (4537, 0.007077777253158277), (382, 0.007076315816886229), (4439, 0.007071096685946602), (3923, 0.007069205662760428), (3395, 0.007067687221637299), (920, 0.007062849709519507), (1987, 0.007062199059503361), (1982, 0.007046924687069916), (821, 0.007046083197912154), (1242, 0.007038175395595488), (2355, 0.007025054350957783), (3331, 0.007024171484314026), (37, 0.00702336548260776), (16, 0.007023302215087716), (3715, 0.0070162008249237155), (44, 0.007014375506940345), (2749, 0.007001936363737658), (1288, 0.007000117041454511), (4405, 0.0069921838673616815), (2602, 0.006991804089620121), (442, 0.0069869456572495695), (3957, 0.0069454531453341075), (1310, 0.006943864020036762), (3726, 0.006939554604795985), (4055, 0.00693931660740314), (3600, 0.006937484798654244), (2426, 0.006934553539039256), (699, 0.006918740746018163), (1016, 0.006910711345711444), (3397, 0.006904540995119742), (3317, 0.00690167692384192), (2697, 0.006898355946451081), (1369, 0.006896760622814019), (2185, 0.006892321430097479), (3231, 0.00688955035804549), (954, 0.006876090379391501), (4047, 0.006872412545557123), (1, 0.006871904958999064), (942, 0.006850383705508318), (497, 0.006846452431320509), (1601, 0.006829055919380207), (882, 0.006819875063083653), (3844, 0.006813572806804681), (3598, 0.006810560613864503), (4208, 0.006803557120257004), (3785, 0.006799877080428169), (1303, 0.006793856529009007), (953, 0.006784567294036786), (2939, 0.006772001345800329), (2908, 0.006771500753965858), (719, 0.006769592569407611), (4674, 0.006767824878786093), (2925, 0.006765525986341088), (545, 0.006758551052321207), (1090, 0.00674965393465126), (1797, 0.006744942923475231), (2433, 0.00673735180618859), (3803, 0.006731340188163413), (2718, 0.0067139854586990505), (3394, 0.006709583889874282), (3471, 0.00669986434350326), (2539, 0.006678770916317804), (2328, 0.006673550279814515), (4653, 0.006647810324742839), (1521, 0.0066446986441665865), (2822, 0.006639776764597261), (1850, 0.006635948279185967), (3942, 0.006632586386341641), (1745, 0.006585122334929292), (3502, 0.006581223576433945), (4514, 0.006576782596716834), (2352, 0.006575159035029212), (3693, 0.006564313689606716), (601, 0.006563267248942802), (2006, 0.00656125033289671), (1802, 0.006552894622961284), (2727, 0.0065397928752252196), (853, 0.006515101318319248), (1941, 0.006507777105954399), (571, 0.0064968879427074674), (2614, 0.006491264025955825), (4524, 0.006488493547558308), (4144, 0.0064689136380493934), (1343, 0.006463655436681567), (2296, 0.006462875689753762), (512, 0.0064625199319498965), (271, 0.006457821836685771), (58, 0.00645098808744121), (844, 0.006443655796913667), (3535, 0.006438467133849968), (1774, 0.006433918404054839), (726, 0.006433041088062718), (2273, 0.006417611666791438), (4642, 0.006416690939144415), (562, 0.0063926905661844165), (4285, 0.006380764536301679), (3384, 0.006374508922859503), (1940, 0.006354879193889098), (2468, 0.006352967503693409), (3022, 0.006325558111969973), (3440, 0.006317459854552468), (296, 0.006315409342208717), (3312, 0.006315297710923262), (1591, 0.00629718771327642), (1815, 0.0062941421310895055), (905, 0.006289773768939709), (381, 0.006283785130063306), (3947, 0.0062833598491899515), (602, 0.00628156219135945), (3708, 0.00627791580803325), (4726, 0.006274813845839938), (4331, 0.006263174415683421), (4162, 0.006258258364622831), (4747, 0.006257613737175555), (2012, 0.006252999615048296), (4527, 0.006251931434762699), (2028, 0.006249050464734916), (380, 0.00624638225000442), (760, 0.006237550399180561), (3117, 0.006233260560910038), (125, 0.006224670292019606), (2364, 0.0061858054133896835), (4121, 0.006184194922933952), (4519, 0.006172283203174531), (2181, 0.0061717241559642085), (4746, 0.006167066179389952), (4389, 0.006160536618731019), (2774, 0.006147804832429495), (207, 0.0061415046188911014), (3110, 0.006116631523430179), (682, 0.006115165279442124), (2700, 0.0061082367443546035), (4307, 0.006104577045617103), (3470, 0.00610307565186836), (4739, 0.0060954293321081755), (3385, 0.006093991612428449), (2683, 0.006090360770137304), (1158, 0.006074770825555718), (1976, 0.0060740136099527685), (2440, 0.00607128702660272), (1391, 0.006066068043560986), (4120, 0.0060607671065149755), (4043, 0.006060486269629268), (1332, 0.006058065926096211), (1962, 0.006057250317504477), (4515, 0.0060504354755014245), (3180, 0.00604919221942077), (2383, 0.006045687306109711), (2733, 0.00603992061651614), (4337, 0.006037278822301749), (4745, 0.006019364682766129), (2534, 0.00601570589229833), (3652, 0.006007900172537265), (4050, 0.006006357139802228), (4227, 0.00600234234732922), (926, 0.006000652965046127), (2314, 0.005981388738787852), (595, 0.005979883606058242), (3604, 0.005972072399440161), (1681, 0.005969456061107467), (1167, 0.005956878544609354), (3802, 0.005953726307652406), (421, 0.005950137953577717), (831, 0.005948682310069864), (70, 0.005947064786238218), (4240, 0.0059356563823998445), (243, 0.005932444785947073), (678, 0.0059275564605473716), (3263, 0.005923454278932757), (1829, 0.00591850953855933), (2978, 0.00591222058166973), (513, 0.005910654900320472), (542, 0.00590898321634906), (4595, 0.00588347130225797), (2084, 0.005867993214562242), (4436, 0.00586311318463773), (3468, 0.005860019203670202), (4090, 0.005859028193343975), (2252, 0.005858379673642709), (1952, 0.005855029367068451), (341, 0.005854514828381989), (1724, 0.005854476729324746), (420, 0.00584673097900829), (4312, 0.005841744650471047), (3451, 0.005827880091299226), (1575, 0.005821785188082931), (1659, 0.0057955187445297325), (2562, 0.005792717802134159), (1791, 0.005788512165366902), (3997, 0.005788498433589049), (3710, 0.005780465228981954), (1407, 0.005778228718595017), (2044, 0.005775517809636374), (1426, 0.00576061826730574), (2819, 0.005759941980122573), (4384, 0.005759008572566689), (4265, 0.0057543505410336225), (220, 0.005748428153061657), (1452, 0.0057471480269916855), (976, 0.005730899249499453), (654, 0.005730727492266976), (891, 0.005727474015467483), (1975, 0.0057270822660577805), (1449, 0.005724147890655646), (2959, 0.005723964468350315), (1104, 0.005723000792393221), (3334, 0.0057207835695219375), (1881, 0.00568707030912425), (928, 0.005674094537081429), (3488, 0.005668519321815248), (1432, 0.005663757578049697), (4275, 0.005637631409810142), (3995, 0.005637203999049502), (1949, 0.005636948928808084), (3507, 0.005636541748987119), (4552, 0.005635909642149907), (313, 0.005634935328258275), (1542, 0.005629496243916028), (1469, 0.005628911897428813), (137, 0.00559798381632988), (3191, 0.005597687558943573), (2235, 0.005587162903484802), (3179, 0.005583193349105354), (809, 0.005582094371196265), (4376, 0.005574575932829259), (4251, 0.005574517638594362), (2947, 0.005572944118088969), (1431, 0.005567697440054688), (1435, 0.005558894908033789), (1003, 0.005557700317090103), (1832, 0.00555316089670685), (1958, 0.005549956129109486), (3815, 0.005543476568104822), (145, 0.005542929837746996), (3810, 0.005540509938413015), (1970, 0.005539872336392514), (2788, 0.005535498709366401), (2443, 0.005533987016752341), (4380, 0.005533408179239068), (3833, 0.005521796669997606), (4375, 0.0055208098268925525), (336, 0.005517750429408898), (2278, 0.005516125638398364), (811, 0.005512465341734251), (83, 0.005509897163263278), (3908, 0.005508832609597886), (1930, 0.005496552012002739), (3005, 0.005495573705072809), (30, 0.0054790650301220906), (2885, 0.005470100648212183), (4360, 0.005466296126376705), (451, 0.005460775492333356), (347, 0.0054556998965810885), (4310, 0.0054427975033819135), (1129, 0.005439341807853763), (931, 0.005433535168478587), (135, 0.005432612661485492), (3416, 0.005432200525567485), (1455, 0.0054306818962789605), (4623, 0.005417655178925707), (4148, 0.005416012914761002), (1420, 0.0054151563983104575), (389, 0.005413130704265413), (619, 0.005412089018193532), (460, 0.005412015545583362), (2336, 0.005406770220295062), (4248, 0.005405089987121723), (3432, 0.005397459073921703), (4665, 0.005392755972740687), (2280, 0.005386180765486797), (1226, 0.005382546120144842), (375, 0.005373559487833117), (3161, 0.005363977094991527), (3443, 0.005363042834795954), (1927, 0.0053565222037975585), (1127, 0.00535163162340209), (3814, 0.005348103085776287), (3602, 0.005346272259909605), (3793, 0.005345332592262419), (1622, 0.005344859150802474), (1551, 0.005343982929335455), (634, 0.005341384141053833), (1082, 0.005340094134020641), (927, 0.005333405198262862), (1635, 0.005332422592012502), (1773, 0.005327241785897947), (633, 0.005326712218499339), (84, 0.005323764082340122), (244, 0.005319127845613496), (1406, 0.005314070730502623), (2232, 0.005312056853317154), (4039, 0.005300326247251549), (1933, 0.0053000500890609675), (2759, 0.005298177860994225), (2178, 0.0052887343823284924), (1953, 0.0052830619258306365), (3583, 0.005279550799546626), (273, 0.005276393997102354), (825, 0.005273445029161474), (72, 0.005273249992614662), (2057, 0.005273029626151675), (1948, 0.005271800009319871), (2062, 0.00526485883548502), (1146, 0.005257321983161015), (1347, 0.005251874531972166), (3011, 0.005250487124922115), (3720, 0.005247119307072363), (1493, 0.005242038299261352), (2918, 0.005238405037302742), (4543, 0.005237209367581473), (3664, 0.005226392620848551), (1996, 0.005224438896141942), (1230, 0.00521890733677801), (4438, 0.005212839724847923), (3126, 0.005207115018822089), (3970, 0.00520035582601501), (2206, 0.005197185224040701), (1633, 0.005195428315306036), (4481, 0.0051950380185516905), (3824, 0.005189565261663769), (3881, 0.0051851982600006835), (2618, 0.00517846053659826), (2736, 0.00517728778422678), (2711, 0.005173679915218187), (2787, 0.005170225481753414), (144, 0.005167137682697757), (360, 0.005159299417437233), (1631, 0.00515865288675057), (827, 0.005158204859632757), (1428, 0.005154213911911858), (2094, 0.00514529654647705), (4151, 0.005135708660389332), (3723, 0.005131373707725497), (1181, 0.005119139963730735), (3466, 0.005118706725944243), (1451, 0.005107318214519655), (1723, 0.005104293852905595), (974, 0.005089995367168936), (3788, 0.005082567433731338), (1992, 0.005079700607328927), (4328, 0.005079456280872941), (2682, 0.0050729326897641655), (3966, 0.005071019193238826), (2992, 0.005069769943219769), (3338, 0.00506566378668736), (4697, 0.005054165007660074), (1480, 0.005053849765797849), (2742, 0.005048274303752226), (3775, 0.005045799059182643), (2119, 0.005043979964813453), (2429, 0.00504022189699462), (916, 0.005038176421085939), (1623, 0.005034938904400253), (304, 0.0050128895710734745), (3079, 0.005011028187884695), (695, 0.005008093218361132), (1197, 0.004999269097852721), (2984, 0.004991936642274982), (2110, 0.004988782685626999), (1270, 0.004984703236346783), (160, 0.0049837930390792505), (4235, 0.00498193880206791), (801, 0.0049806718847711815), (354, 0.004975824613233891), (4339, 0.004966775541184862), (4164, 0.004965594600346086), (1281, 0.004962751029843272), (291, 0.004956132703307124), (1990, 0.004953680090580031), (1840, 0.004947139704602204), (1236, 0.004944831704428641), (1784, 0.004937313704175777), (3860, 0.004929837486681354), (4290, 0.004907437952857566), (898, 0.004898126849220235), (997, 0.0048901137135945825), (1817, 0.004879549242047924), (2678, 0.0048680955529987035), (932, 0.004860536738078569), (803, 0.004859696591751012), (3070, 0.004856999822655289), (4582, 0.004849997408212528), (2929, 0.004849393171157376), (1154, 0.004846418294015585), (559, 0.004844101682085343), (1384, 0.004839247602584501), (333, 0.004836362997245858), (3495, 0.004834915005699953), (2871, 0.00483465687964515), (47, 0.004826180966121911), (4450, 0.004819907704568965), (979, 0.0048079691267050185), (611, 0.004802443353559853), (3160, 0.004776069793554682), (187, 0.004769305565124155), (4553, 0.004754361811241365), (4571, 0.004749770745621853), (1018, 0.004741460970291543), (3852, 0.0047376436777338705), (1348, 0.004736142801352725), (3178, 0.004725949031099897), (3684, 0.004718800116879679), (762, 0.004712927762831751), (4096, 0.004710562730043212), (1559, 0.004705754910973343), (1699, 0.004704306556219004), (99, 0.00470242612709057), (629, 0.004695176645843735), (4426, 0.0046915263893638716), (3339, 0.004679233551310495), (625, 0.004679104925926639), (1546, 0.004677578118723397), (1753, 0.004673721487558916), (2801, 0.004664243176104131), (3279, 0.004659143811862214), (3776, 0.004656709668299602), (779, 0.0046478409346841785), (1120, 0.004635651378978254), (2541, 0.0046140979040611195), (2622, 0.0046130668600804095), (723, 0.004602920668750284), (621, 0.0046004191004602145), (2197, 0.00459876173441864), (1910, 0.004593421839470297), (3674, 0.00458975550052487), (3806, 0.004587028676253213), (3512, 0.004583546402053435), (1279, 0.0045778594780737135), (2757, 0.004575062668467266), (3667, 0.004570602467034727), (1092, 0.004531998175564563), (3484, 0.004521801104561774), (2789, 0.004519562441367749), (4555, 0.0045050286823029905), (4513, 0.004497799789717358), (3045, 0.004490155604072144), (1137, 0.0044641870319710505), (2573, 0.004456999073491037), (3925, 0.004449216904072723), (438, 0.004445026339361377), (1164, 0.004421194602736207), (435, 0.004408946012126675), (3944, 0.004382947469795322), (2524, 0.004381342198575978), (3989, 0.004380303014911653), (1395, 0.00437671263094837), (877, 0.004348217893011496), (4607, 0.004340529235170822), (2529, 0.004339028997982711), (2379, 0.004313854018557222), (2490, 0.00430825247783776), (668, 0.004301648262985656), (4705, 0.004273658430689095), (2326, 0.004269521068946218), (2764, 0.004258563301501181), (3672, 0.004247467091025545), (2858, 0.004236782148471011), (3139, 0.004232022929233279), (4082, 0.0042226485043085574), (2722, 0.0041962046568158684), (2189, 0.004195925375542092), (4202, 0.004179635318575597), (3040, 0.004174353193316837), (2989, 0.004165070894088169), (2251, 0.004158962650273106), (2349, 0.004138695895523696), (1145, 0.004133374316392015), (2407, 0.004131879154888601), (2889, 0.004114824531278377), (2537, 0.00410048141526825), (77, 0.00409792985128273), (3119, 0.004097907538903942), (4617, 0.004088168349113361), (4704, 0.004083496437904342), (3052, 0.004082819251300068), (735, 0.004081640298689804), (3055, 0.004067423055033752), (2404, 0.0040656178649495145), (2775, 0.004057906984063013), (2870, 0.004052106801567037), (3030, 0.0040493506004009175), (2883, 0.004044990112021054), (2923, 0.0040274338441781115), (3291, 0.004016852129924865), (2731, 0.00401231504611211), (4222, 0.004008830835552033), (4529, 0.004007791611140816), (2484, 0.003996649988764394), (2310, 0.003996523938960877), (4484, 0.003985335467287371), (4611, 0.003984234850121926), (3939, 0.00398115732549732), (2673, 0.003976334745775824), (2861, 0.0039620076099154975), (4172, 0.0039516572271110426), (2832, 0.003922765073389018), (4696, 0.0039159850922248435), (3219, 0.003906318903628459), (2392, 0.003902827886020799), (3292, 0.003902043993168258), (3762, 0.0038941951482674288), (3892, 0.0038857437740963145), (3282, 0.0038764501137846415), (4423, 0.0038760587975334294), (4019, 0.0038748626572759543), (2425, 0.0038740006406848115), (2257, 0.003848432165648569), (3322, 0.003847027576896772), (889, 0.0038468919851612), (3262, 0.0038461170078655784), (2350, 0.003840997073989345), (2901, 0.003837752469722584), (4230, 0.003829971557606896), (2838, 0.0038200198005134385), (1153, 0.0038122960159072392), (1208, 0.0038108512197196883), (4400, 0.0038104486586490564), (4102, 0.0037952630560575246), (3848, 0.003792256765363343), (3015, 0.0037877818940805696), (4606, 0.003784211008086033), (3239, 0.0037685801811646875), (2423, 0.0037670237495780936), (3354, 0.003763332469162302), (526, 0.003758761635787495), (1121, 0.00374489093254557), (3249, 0.003738522952192574), (4469, 0.0037347063495541243), (3687, 0.003733433868262133), (4692, 0.0037312281306229873), (4521, 0.0037309692317176956), (3363, 0.0037279018865580137), (3616, 0.003717083629938332), (3456, 0.0037135008306261436), (2834, 0.003708387003422315), (3537, 0.003707540676727287), (2438, 0.0037024592682513044), (3159, 0.003699477971548508), (3429, 0.0036968260685228665), (4306, 0.003695506569388494), (3577, 0.003694050597041524), (4107, 0.003690924992525894), (3922, 0.003689983245991246), (2857, 0.0036897239272235772), (3613, 0.0036868741946959266), (2266, 0.0036805543723718516), (3999, 0.0036805431016653897), (4572, 0.0036685190446565236), (3074, 0.0036673195947011855), (326, 0.003660623883008744), (2797, 0.003658643382829747), (2957, 0.0036568746915400805), (2568, 0.0036557867447803635), (3874, 0.003655199489927359), (4723, 0.0036546924945970666), (2488, 0.0036530263080357278), (3832, 0.0036490832679394133), (402, 0.0036439108400565566), (3620, 0.003639822416546229), (3544, 0.0036385179304838024), (2966, 0.0036337183942058058), (3358, 0.003628897884271625), (3020, 0.0036287553632959805), (2415, 0.0036270805888171343), (1593, 0.003622434576765308), (2454, 0.0036094428548030886), (2993, 0.003605345157308455), (3257, 0.003601734056861166), (1264, 0.0036006121637343104), (777, 0.0035925813294029364), (3413, 0.0035902835539382075), (489, 0.003575728823855397), (2434, 0.0035734308465058882), (4458, 0.0035649828530992457), (1049, 0.0035444030653665453), (2986, 0.003535656748217728), (2738, 0.003527469710478046), (431, 0.0035251358446330427), (3935, 0.003522223266607312), (4416, 0.003518479978501895), (2570, 0.00351809452037592), (3081, 0.003517779329584254), (2378, 0.003517736158312698), (3524, 0.00351685768202646), (1053, 0.0035157794075672743), (1792, 0.003512729266651295), (4694, 0.0035121227588338264), (1187, 0.003511923624757416), (2720, 0.003503311815078286), (2417, 0.003499809441911569), (1748, 0.0034996379733796806), (4030, 0.003498651726561749), (2846, 0.003497573074910882), (4477, 0.003492140225831752), (4032, 0.0034878749768431695), (4075, 0.0034878097713347484), (3540, 0.0034863298934663177), (3359, 0.0034786420849588907), (3884, 0.0034777804016187814), (2320, 0.0034749131464390627), (2696, 0.0034747288698545216), (3072, 0.0034741499339637346), (4002, 0.0034713720355078427), (1947, 0.003469963107526969), (2269, 0.0034692081963269895), (2924, 0.0034665989230599947), (3754, 0.003466508638786674), (4203, 0.003464820641163378), (3729, 0.0034641168210133794), (3425, 0.0034634712093619497), (4713, 0.003460242463273819), (3408, 0.0034566849093238686), (2987, 0.0034508159229791574), (3364, 0.003450663758251059), (2884, 0.0034505818691598364), (3337, 0.0034489754027699844), (3396, 0.0034477889666825238), (823, 0.0034454066958894704), (4650, 0.003444769585741244), (2872, 0.0034407539491412755), (3355, 0.0034388764954564393), (925, 0.0034369803558559455), (508, 0.0034369709241854726), (3165, 0.003433226349034549), (2478, 0.0034314148130150314), (2560, 0.0034306527120177106), (2187, 0.003430578097140396), (614, 0.003429572378909157), (3952, 0.0034278691033117633), (847, 0.003427714499411664), (1656, 0.0034269913604098815), (721, 0.0034248903803207192), (3639, 0.003420952681953245), (2796, 0.003420761313648166), (3423, 0.0034202171880431892), (3651, 0.003419427972730858), (985, 0.003419325161118155), (2702, 0.003416345453613003), (4117, 0.00341213844558571), (4753, 0.0034084177349040707), (4243, 0.0034028724243157092), (3296, 0.0033997196805471523), (2223, 0.003398645999652264), (2346, 0.003398595878436952), (2302, 0.0033951082851809075), (2437, 0.003392789671547093), (4187, 0.0033916358389359286), (1843, 0.0033902854442599637), (2893, 0.0033897183001823372), (998, 0.0033885559508932198), (999, 0.003385782654016725), (2411, 0.0033846857460662983), (3148, 0.0033843197335117247), (2623, 0.0033838988903418733), (2936, 0.003383701019509091), (2400, 0.0033808466749168553), (2914, 0.003380489386173299), (3992, 0.0033788262657417265), (281, 0.0033744058191283767), (235, 0.0033738320268560215), (576, 0.003369583631012834), (1349, 0.0033679677765400574), (3274, 0.0033679055417981554), (1023, 0.0033599696754612936), (813, 0.0033572004640333203), (3962, 0.0033570811563875145), (3822, 0.00335624946785058), (2974, 0.0033559705894824986), (4718, 0.0033523876289804264), (596, 0.0033491567877416656), (2916, 0.003348140054842882), (1862, 0.0033476859438242726), (1499, 0.003346090449929915), (3414, 0.003345996131664205), (4396, 0.0033442445239374005), (2134, 0.003343446973823081), (3593, 0.0033367507891987297), (4293, 0.0033354868772954966), (4051, 0.0033348007668583626), (3804, 0.003334388799483635), (2209, 0.003327761305361549), (2585, 0.003327531351788785), (3157, 0.0033270426683193314), (4397, 0.003326665485369844), (4706, 0.0033208747651164816), (3003, 0.0033205247357466225), (4259, 0.003320216386219267), (2505, 0.003319617759945407), (2108, 0.0033176892513078916), (1890, 0.003316752226195361), (1658, 0.0033093525783188726), (2592, 0.003309141876378886), (4551, 0.003308032252839546), (3967, 0.003304343428426871), (3026, 0.0033024822411669968), (3101, 0.0033023759556843136), (857, 0.0033008234317420736), (62, 0.0033001468852769636), (2890, 0.0032983515532940704), (4619, 0.003297993085542617), (3097, 0.0032960246246316), (4263, 0.003292239277252666), (3417, 0.0032921616104959277), (587, 0.003287373660787952), (3924, 0.0032858121831984017), (3116, 0.0032846770173277496), (2739, 0.003280289264035565), (2410, 0.0032791478760399685), (4446, 0.0032790101210642963), (1479, 0.003278423044091973), (2464, 0.003278260485959834), (4308, 0.003277987257681663), (4048, 0.003272298299582433), (123, 0.00327032048544152), (253, 0.003268063298215347), (3234, 0.003267269427437266), (318, 0.0032666012515484826), (3497, 0.0032659215905165677), (3813, 0.0032614319940539745), (1243, 0.0032602983533683246), (3749, 0.0032591282389607488), (2293, 0.0032581976327778566), (1805, 0.0032566949589781127), (2097, 0.003252751135906849), (3064, 0.0032525154431026046), (2748, 0.0032504110027200984), (3258, 0.003250343131735721), (4087, 0.0032493861896766285), (2507, 0.003247071400469911), (8, 0.003246225986830281), (4528, 0.0032461802757744814), (3889, 0.00324174154026594), (2705, 0.0032365550475251656), (4545, 0.003234688598677753), (1959, 0.0032333822789687382), (3269, 0.003233355352872134), (192, 0.003232934347521922), (1874, 0.0032303714304173065), (4734, 0.0032303105340506966), (3893, 0.0032291379653477175), (2116, 0.003226099326311808), (2190, 0.003221987180527141), (1907, 0.00321748239453679), (2475, 0.0032145279970582485), (1995, 0.003214141391677285), (4540, 0.003211801818437817), (1708, 0.0032104571727434215), (2162, 0.0032099456923832246), (3496, 0.0032085283113287002), (395, 0.0032070163085934898), (1637, 0.0032063073223644505), (2786, 0.003201007244087666), (4111, 0.0031999045134536402), (1683, 0.003198623761810025), (1409, 0.0031978220778022147), (2260, 0.0031975840181311718), (3904, 0.0031971729345653165), (3728, 0.00319637280683574), (3873, 0.003196206643173896), (4680, 0.0031959446029738736), (1712, 0.0031950610278601668), (2964, 0.00319415879092152), (2712, 0.0031937188965523375), (3007, 0.003193300558596974), (2391, 0.00319253417064327), (3601, 0.0031878426907499943), (2151, 0.00318695569505726), (3218, 0.0031867002102734195), (2664, 0.0031866994813328593), (4357, 0.0031862763532362563), (2970, 0.0031860724820329724), (1619, 0.0031854580897049812), (4355, 0.003184413703341389), (3987, 0.003183617412942207), (2105, 0.0031829648638587817), (4175, 0.0031828525204628897), (3973, 0.0031824936138799805), (3434, 0.003180018836564631), (3678, 0.0031799427832089463), (792, 0.0031796033824345927), (680, 0.003178871851754622), (1339, 0.003177185310328687), (3590, 0.003175186413835242), (612, 0.0031736213646189142), (2821, 0.0031732669891506274), (1951, 0.0031713795609179317), (1896, 0.0031710168861419467), (2361, 0.003170554345535445), (4489, 0.0031702348095981243), (4054, 0.0031695080720577414), (456, 0.0031669252094257802), (3326, 0.0031658678724178707), (4505, 0.0031639689500728616), (1685, 0.0031625289348753143), (2288, 0.003161701517812117), (193, 0.0031603628225400464), (2849, 0.0031600660869284232), (4052, 0.003159135667603275), (2610, 0.0031589537390841055), (4318, 0.0031585617196210267), (3264, 0.0031562219008436487), (1822, 0.0031553725328634457), (3037, 0.0031551769756657964), (3406, 0.0031545748177282625), (4, 0.0031538635917415262), (1893, 0.003152701148290405), (4566, 0.0031510208575511677), (1916, 0.0031499136340801784), (2394, 0.003149639185357363), (3388, 0.00314936104457293), (1075, 0.0031488216723097743), (783, 0.003148785260373152), (2385, 0.003148288412343021), (178, 0.003144433064393163), (3654, 0.0031436464296255126), (3984, 0.0031435712027684548), (830, 0.0031421382147778895), (2419, 0.003140370087536989), (3372, 0.0031392776715752197), (3242, 0.0031382560516771954), (2633, 0.0031380817068812207), (173, 0.003132745875184719), (564, 0.003131542605646366), (4497, 0.0031294603591321465), (1736, 0.0031291822055603217), (3493, 0.0031285803799349044), (2083, 0.0031281523987822793), (20, 0.003126509141500415), (270, 0.0031261316462345484), (3919, 0.0031247049680553957), (211, 0.0031243718101415068), (1660, 0.0031231208273104966), (1006, 0.003122861210008755), (204, 0.0031228068807185112), (4448, 0.0031216379785851288), (3599, 0.003121003249483788), (4083, 0.0031206699869390894), (3382, 0.0031190353646976996), (2561, 0.003118474537729487), (3845, 0.0031177918102576327), (890, 0.0031174503848991563), (2601, 0.003117340212652479), (717, 0.0031171470500872584), (2531, 0.003115194450240636), (2545, 0.0031141936778673984), (2370, 0.0031141441463019676), (1513, 0.003113768528565177), (3224, 0.0031120364548695967), (2546, 0.003111715765923942), (3902, 0.0031100977213225547), (884, 0.0031098938711956155), (4361, 0.0031098632143534656), (2904, 0.003109004844706444), (1727, 0.003107861090640016), (3353, 0.0031075877028350044), (4262, 0.0031032798071886983), (4756, 0.0031025884574006142), (3536, 0.0031014809015549654), (987, 0.003100351678475922), (4079, 0.0030986472110328617), (2148, 0.0030981990052431135), (3920, 0.0030961344706401475), (11, 0.0030953471639979507), (3517, 0.003094951826151804), (2123, 0.0030939248655331777), (1703, 0.0030927114036316864), (3689, 0.003091780507506395), (1765, 0.0030915322021094482), (3527, 0.0030898269353126073), (4422, 0.0030889432209778842), (3198, 0.003087871987360273), (1382, 0.003085317075556943), (806, 0.0030846945200826057), (2126, 0.0030826350634810197), (3636, 0.0030804039781747315), (1717, 0.0030784580187897042), (1768, 0.003073229470349923), (1946, 0.003071584073283062), (2230, 0.0030697764457860424), (2894, 0.0030674271596626153), (3289, 0.003063324292597879), (3225, 0.003063087249987733), (71, 0.0030622477068359137), (3445, 0.0030612363500582174), (3526, 0.0030590306788079273), (3542, 0.0030583097966605166), (115, 0.0030564339282499057), (2386, 0.0030560182274728454), (933, 0.0030527122038733353), (1176, 0.0030511931849932427), (1182, 0.0030497067309275595), (3113, 0.003048743082224474), (1688, 0.003048032087628698), (3606, 0.0030477072474941235), (4197, 0.0030472371573105985), (2073, 0.0030464050118453206), (2489, 0.003046199729745301), (3182, 0.0030449518876913173), (2292, 0.0030443914717085932), (3707, 0.003042239010186297), (2155, 0.0030413664013200876), (994, 0.0030376615765453532), (353, 0.00303582271738581), (4049, 0.00303362797047955), (1204, 0.003032751821989661), (3386, 0.003028702785249382), (1476, 0.0030283745992240466), (4014, 0.003024384562408925), (3739, 0.003021976230725326), (2652, 0.0030218889317372255), (1410, 0.003021058784364875), (4391, 0.0030207924531932854), (864, 0.0030204017745982903), (2122, 0.0030175861402559853), (1922, 0.003017436340957761), (1574, 0.003016412970903268), (2396, 0.003016281222426529), (209, 0.0030161916959718115), (848, 0.0030145283021579673), (2109, 0.0030131101548559807), (897, 0.0030118469600145313), (343, 0.0030117820578028395), (2934, 0.0030108920933654753), (2192, 0.0030101994402885945), (3155, 0.003009561604500199), (2783, 0.0030081588158470877), (2492, 0.0030078221520654634), (4686, 0.003007337628843304), (504, 0.0030071786084531773), (3541, 0.0030067936718250897), (2533, 0.003006372568228578), (4081, 0.0030056583985761244), (4604, 0.003005259917253576), (378, 0.0030019160074932537), (3491, 0.0030008491368500832), (3564, 0.0030007112931210683), (5, 0.0029980079874934664), (2340, 0.0029965190984229135), (4640, 0.0029946422657762465), (1170, 0.0029924726312152107), (2354, 0.002992094342966511), (114, 0.002991957157745896), (749, 0.002990911108923229), (2495, 0.002988849979700385), (226, 0.0029887044443082304), (1378, 0.0029865755724181294), (4427, 0.002985759364662843), (66, 0.0029832835754259523), (2212, 0.0029826342804283473), (2387, 0.0029826140897353114), (3174, 0.0029811340796868217), (2900, 0.0029796088525771676), (2943, 0.002978371281305093), (1112, 0.0029771624337815686), (4268, 0.002977042044417209), (2853, 0.00297413790222824), (2999, 0.002972164561388272), (4409, 0.0029714315965936157), (4060, 0.0029697372105689773), (2289, 0.002968415250771961), (1102, 0.0029666361959849352), (4394, 0.002966136424036603), (3441, 0.002964563412356385), (3477, 0.002963995352642602), (1891, 0.002963178624345224), (1634, 0.00296257377425709), (1072, 0.0029605780398889604), (1438, 0.002960241555521598), (4520, 0.002959030846225005), (2060, 0.0029587621632568397), (3565, 0.002958243897205178), (3596, 0.0029582295401974165), (1831, 0.002955487013513757), (466, 0.002955175245778283), (464, 0.0029545930654703207), (1411, 0.0029537466305950845), (4228, 0.002953084396870191), (174, 0.0029524965554795866), (3237, 0.002952370863098884), (61, 0.0029510977267037295), (1666, 0.002947687792878681), (1550, 0.002947465106119434), (867, 0.0029459071416803348), (1313, 0.0029454933478696922), (4668, 0.0029452811944269052), (4487, 0.0029449096824082062), (2173, 0.0029434220518259314), (3093, 0.0029417073838480553), (2946, 0.0029416728835399467), (3906, 0.002940917470585359), (3647, 0.002940904027115295), (1338, 0.0029399307755231256), (1100, 0.002939644334420327), (4349, 0.0029392301627886182), (2463, 0.002938172468190145), (1110, 0.0029381075924436173), (169, 0.0029367878022753652), (215, 0.002936583612778921), (1026, 0.0029331408750560657), (1319, 0.002932618361001878), (4020, 0.0029324567546830916), (3827, 0.0029307567392343518), (3379, 0.002930552470176776), (1286, 0.002930377079729766), (1084, 0.0029289422406999373), (1882, 0.002928693488335665), (2945, 0.002925963309074107), (1527, 0.0029253625194469394), (26, 0.0029246910034581995), (2087, 0.0029235640954724026), (4530, 0.002923332944690828), (2102, 0.0029221882205873457), (3220, 0.002921366354832793), (3447, 0.00292084122843982), (4641, 0.0029200052996876382), (3069, 0.0029190197278217704), (2029, 0.002918255886226113), (1617, 0.002918156603425102), (3719, 0.002917542914510412), (3706, 0.0029171638001537275), (4743, 0.0029165388891535817), (3412, 0.0029152388683617533), (2553, 0.0029141136792314583), (3402, 0.0029128295832381848), (2279, 0.0029124328281989035), (2698, 0.0029123040551909526), (693, 0.002909282797490824), (1096, 0.002907998027983155), (2401, 0.0029050196382956217), (755, 0.002904904612998027), (4693, 0.002903540498304967), (3075, 0.0029030417031598037), (1813, 0.002901971976332051), (2422, 0.0029015385145037273), (349, 0.0028990627753087608), (4381, 0.0028978294070674967), (4573, 0.002897695188559872), (2912, 0.002894336781539913), (1261, 0.002894058655932207), (3348, 0.0028927438569272147), (817, 0.0028926177916550884), (3890, 0.0028918469304617467), (541, 0.0028912265209097435), (488, 0.002891225002033356), (4472, 0.002889434203518681), (3028, 0.0028885228712504595), (2080, 0.0028880214416445735), (2571, 0.002887920631523548), (4336, 0.002887227239156718), (4069, 0.002887164122271593), (2268, 0.0028868248099859686), (651, 0.0028858442440093763), (1969, 0.002884647898574281), (3010, 0.0028824034102365196), (1463, 0.002881979857777282), (1597, 0.002879383005503404), (4461, 0.0028775851783474525), (85, 0.0028755632385441803), (3900, 0.0028743078374243772), (396, 0.0028724371144599097), (4729, 0.0028712022704671753), (1582, 0.002869674139328149), (1020, 0.0028677231241590593), (1446, 0.002864464621710494), (1034, 0.0028625423783621403), (487, 0.0028614145207222245), (3868, 0.0028600748749141487), (731, 0.0028593051930296508), (2752, 0.00285894160524911), (1027, 0.002858287652090735), (4567, 0.002856817150375873), (1416, 0.002856436902143087), (883, 0.002855353638039827), (1854, 0.0028539058939214797), (3214, 0.0028536793857370877), (2779, 0.002853457805040303), (3268, 0.002852908832216342), (854, 0.0028526711039641474), (1877, 0.00285233810935041), (2886, 0.002851781933321799), (1744, 0.0028515556929968183), (1929, 0.0028495899056188902), (1002, 0.0028480150481984766), (3151, 0.0028473432683042946), (3733, 0.002846849789867821), (29, 0.00284649424228977), (4321, 0.0028457678472108955), (3691, 0.002844280859204016), (164, 0.002844262434896766), (3170, 0.0028436624705654766), (3171, 0.0028433722705196985), (984, 0.002843262959536242), (221, 0.00284200304712279), (3036, 0.0028418766956185247), (2706, 0.002841741166231484), (505, 0.0028396007449551326), (4206, 0.002839313257285076), (2892, 0.002837393047803361), (1160, 0.0028371640691821514), (3898, 0.00283656269312717), (437, 0.0028362587346284153), (4345, 0.002835307631267489), (962, 0.0028343263687602115), (2859, 0.002833893825706043), (3799, 0.0028334419512967726), (373, 0.002832848114705993), (2572, 0.0028315061912873303), (4246, 0.00283018399409085), (3293, 0.002829182701666931), (2679, 0.002828502871439111), (698, 0.0028280759866232746), (434, 0.002827852620661544), (2133, 0.0028272683019057703), (1742, 0.0028262985855489705), (1404, 0.0028255086920839344), (2997, 0.002825265458838207), (4399, 0.0028249285377494548), (1759, 0.002824292764156866), (2800, 0.002824059540644211), (1032, 0.002823238337331277), (197, 0.0028223519844148915), (3014, 0.002821807345526397), (388, 0.002821781934995522), (3194, 0.0028213359757804897), (578, 0.002821111334340295), (126, 0.0028202497646356737), (1036, 0.0028191782942699178), (2303, 0.002819136195022572), (387, 0.002819087031021553), (3811, 0.00281787674248382), (2972, 0.0028175329803473126), (2812, 0.0028170042877898706), (1663, 0.002815963178326009), (4257, 0.0028158311698754227), (2166, 0.0028150959667040724), (2023, 0.002814833722319233), (3615, 0.0028148192277407526), (3300, 0.0028090119613795777), (4011, 0.002807231268714351), (4254, 0.0028066387664931144), (1203, 0.0028065260958434917), (1693, 0.0028065237279268677), (154, 0.002805759698302085), (1682, 0.0028050311391268337), (287, 0.0028047413399350314), (3057, 0.0028040956611134283), (886, 0.002802313283001627), (140, 0.0027999897728937257), (3071, 0.002799766400411322), (941, 0.0027996025513348116), (3243, 0.002799591779721649), (279, 0.002798285427928211), (975, 0.002798269155972093), (4059, 0.002795319803694961), (1620, 0.002794992602150947), (2552, 0.0027946318618230896), (2099, 0.002793861681333033), (1884, 0.002793831850424164), (2149, 0.002792869841696926), (3399, 0.0027926211798180414), (471, 0.0027914011626596178), (4634, 0.0027891736355190448), (4603, 0.00278824378150433), (229, 0.002786731256131971), (2862, 0.0027856968462329663), (372, 0.0027850903345083312), (598, 0.002785024806924162), (944, 0.0027848980119638397), (895, 0.0027848351696774507), (659, 0.0027843347488912765), (3725, 0.0027832173100779296), (213, 0.0027820348575601206), (410, 0.002780896990316157), (2201, 0.0027806119607133397), (4356, 0.0027799026299592097), (838, 0.0027794571666262652), (1558, 0.0027786173356613643), (2446, 0.002776276033219271), (3500, 0.002773179649266051), (2907, 0.0027722125838768423), (1641, 0.0027718672215715653), (2556, 0.002771683755426932), (589, 0.0027702247887171805), (2129, 0.0027697318523728777), (399, 0.0027697273011858957), (3120, 0.002767395039081661), (1052, 0.0027672569934193737), (766, 0.002765752037132966), (2317, 0.0027657355723390018), (3627, 0.002765691530213393), (2868, 0.0027654841084664744), (1920, 0.0027637752083363287), (4616, 0.002761207937162126), (136, 0.002760317635960526), (2735, 0.0027598469924100693), (3558, 0.0027595891796900252), (2593, 0.002757815648791629), (3369, 0.002757166339180015), (558, 0.0027563158563400814), (355, 0.002756247731302247), (899, 0.002755409993078515), (638, 0.0027549514220770737), (1357, 0.0027546097563014133), (1543, 0.002753914436181467), (1814, 0.0027522349346179834), (2674, 0.0027515548006504477), (4174, 0.0027512374676919187), (2845, 0.002751215526086511), (3389, 0.0027491116690797294), (2347, 0.00274779942458216), (2453, 0.0027472581156136188), (1875, 0.002744899920726459), (3455, 0.002744589766363678), (524, 0.0027421377081844928), (183, 0.002741362002411676), (4326, 0.002740483193864461), (3306, 0.0027403646482432814), (2362, 0.002740017337377052), (416, 0.002739143896857901), (3050, 0.0027385896122077897), (1672, 0.0027363554368173807), (1628, 0.002735025131491652), (2301, 0.0027342803987317706), (624, 0.002734064517172585), (3329, 0.002732666455525985), (4620, 0.002731110199397316), (4502, 0.0027300418403920315), (957, 0.0027294159262238665), (2954, 0.0027293150421437034), (465, 0.002728921462234538), (1730, 0.002725139998071685), (3563, 0.002724306993969862), (2728, 0.0027207720442344084), (3953, 0.0027196723930115805), (2011, 0.0027180079535799955), (3278, 0.00271795373878347), (1528, 0.00271495891857463), (2265, 0.0027135787869506703), (1538, 0.002713189391568552), (3418, 0.002712660345824949), (3267, 0.0027122464147479705), (1216, 0.0027105259258405345), (285, 0.002707172327118092), (2402, 0.0027070082189576228), (3304, 0.002706604518749482), (1869, 0.0027063435516507333), (3614, 0.0027055635646848447), (473, 0.0027042760168419283), (3311, 0.002703903166416276), (2931, 0.0027038976951217772), (1827, 0.0027030015448556042), (2338, 0.0027006114680898953), (1605, 0.0027004424890939576), (1719, 0.0026976600679690247), (2323, 0.00269744744433722), (1690, 0.0026930881372753492), (4712, 0.0026927091248593136), (3027, 0.002689783930690632), (3986, 0.0026894798902307162), (1625, 0.0026878486347413828), (2248, 0.002687277179249402), (597, 0.0026869802712657957), (4143, 0.0026868933926484802), (161, 0.002686773700060356), (3863, 0.0026860135394737644), (722, 0.0026858408585929638), (4304, 0.0026827540395841813), (2591, 0.002681695018058808), (158, 0.002681250870508251), (1980, 0.0026810233596268906), (1808, 0.0026807329907152667), (2976, 0.002677664168956965), (3167, 0.002676908767120481), (917, 0.002675533894181217), (1921, 0.0026713732275667366), (815, 0.002670457971537676), (2163, 0.002667141843465526), (1762, 0.0026665958341653075), (268, 0.0026659961389268096), (1318, 0.002665813978069073), (2213, 0.002665576102483983), (672, 0.0026653962967718983), (1539, 0.0026653574507309727), (4141, 0.0026651144201112584), (3956, 0.0026641907623290956), (1977, 0.0026613628384866755), (1392, 0.0026576195583976323), (657, 0.0026543949638479073), (3380, 0.0026534286807930983), (1423, 0.00265281254840229), (4608, 0.0026525527475147444), (132, 0.002650060591370062), (1290, 0.002648146860886025), (1954, 0.002647837855166665), (705, 0.0026462647899223738), (1251, 0.0026450529815005377), (495, 0.002643758383056741), (3755, 0.002641760365691537), (33, 0.002641614624222015), (2047, 0.0026413750247207507), (712, 0.002640862657880452), (2502, 0.002637267536114953), (4220, 0.0026369245979840647), (1199, 0.0026368318951770172), (2753, 0.0026332978545848887), (92, 0.002630536813965459), (605, 0.002630175428076171), (4247, 0.0026272031236619035), (1616, 0.0026268056840889117), (2975, 0.0026260529719009645), (4066, 0.002625013825215512), (97, 0.0026231515863804947), (2240, 0.0026230969076709307), (480, 0.0026229414984259665), (647, 0.002622651928148566), (3894, 0.0026215178286274655), (249, 0.0026214380570754436), (1136, 0.0026205109359455814), (851, 0.0026185724321570155), (317, 0.0026173376721755326), (3895, 0.002616649773977643), (3880, 0.002607828433418372), (924, 0.0026036583937730983), (4296, 0.0026036456846326955), (4473, 0.0026033233026531316), (1943, 0.002601741180988907), (4232, 0.002598617439094612), (2721, 0.0025972854604485655), (4429, 0.0025953257123012777), (1465, 0.0025915016278226293), (2520, 0.002591209044719256), (2747, 0.0025900397054883367), (103, 0.0025890018477432095), (3211, 0.0025880322984745767), (2270, 0.0025826480751046208), (357, 0.0025794189569345394), (1828, 0.002579194190428954), (4386, 0.0025779819936881166), (874, 0.0025777395987017066), (1370, 0.0025773533933307192), (1450, 0.002575898114234333), (278, 0.002574414852279057), (3238, 0.0025723800477931652), (2527, 0.0025708660410383747), (269, 0.0025648621492130996), (4627, 0.002564855001099887), (2611, 0.0025643916888778507), (3569, 0.002562788984038384), (2743, 0.002562756393840268), (251, 0.0025619755450454304), (2382, 0.0025605429030041804), (445, 0.0025588897692286985), (4476, 0.0025577903462957866), (60, 0.0025569696266954317), (1088, 0.002555213448269453), (1565, 0.002554982442388557), (2146, 0.002554479640846923), (3376, 0.0025524882685245454), (3579, 0.002551447517366651), (3409, 0.002550195862558144), (1743, 0.0025443032846436046), (3200, 0.0025397555974357045), (2758, 0.0025386291548404535), (2933, 0.002538456349646271), (3855, 0.0025363007688969153), (403, 0.002533545136409657), (626, 0.0025331389799282543), (3669, 0.0025331353995927553), (267, 0.002533102188843462), (2035, 0.0025322402977091536), (3668, 0.0025300487118596598), (1312, 0.0025225066064574744), (2076, 0.0025210163663167452), (547, 0.002520150175711036), (2039, 0.002514343499940237), (195, 0.0025124470483356993), (2603, 0.002510492500198161), (3347, 0.002508805067413042), (4610, 0.0025086662500209806), (2211, 0.0025046221479484935), (2132, 0.0024972020499104564), (3928, 0.002496846388212314), (2359, 0.002494879718948654), (2985, 0.002493254891334356), (616, 0.002490960307066378), (1209, 0.0024909040308773818), (1078, 0.0024892829149802042), (3430, 0.0024880433692319563), (3927, 0.002487985529180194), (796, 0.002481626875793172), (2969, 0.0024791372076831014), (901, 0.0024758103864740387), (3024, 0.0024726864160954736), (25, 0.00247259227714474), (2563, 0.0024721377392908934), (4200, 0.0024713665413742605), (1305, 0.0024711359368621375), (441, 0.002470098614418066), (3548, 0.0024580925986024444), (113, 0.002458034438887656), (1241, 0.0024572835636778607), (1427, 0.0024502928837972404), (1415, 0.002449006411684981), (3254, 0.0024440333519787434), (412, 0.0024420286003892606), (645, 0.002441334274486514), (3313, 0.0024403869352240307), (1098, 0.0024374471162534), (816, 0.0024328716585024293), (1037, 0.0024315354375035163), (4744, 0.002423138081684565), (3575, 0.0024148400489834203), (3410, 0.002405365425454735), (3431, 0.0024003472721361896), (194, 0.002398238829154639), (510, 0.0023893142255287914), (1144, 0.002383121658511626), (309, 0.0023774588371915178), (706, 0.002374150881153509), (2766, 0.002371799318372471), (527, 0.0023663766632412778), (4598, 0.002345047407028581), (3301, 0.0023407263662543532), (2469, 0.002340294356929125), (159, 0.00233943064152839), (1040, 0.002334626541464742), (1747, 0.0023262072139292288), (3199, 0.0023147486555319557), (607, 0.0023033039630969685), (1403, 0.0022965791536368567), (2760, 0.0022942647242830756), (3626, 0.0022932714737620096), (224, 0.002286968060444816), (453, 0.002285677715112128), (4652, 0.0022847382943882825), (351, 0.002280509695264068), (82, 0.002268299306254099), (4182, 0.0022677910801142233), (1861, 0.0022657218163912585), (228, 0.002263816764246061), (3285, 0.0022471407493678103), (4445, 0.00224395670256728), (3983, 0.002239343248105116), (4301, 0.002217688816236813), (2902, 0.0021984126168778343), (684, 0.00219337058240572), (929, 0.0021562414578598387), (7, 0.0021472668134412693), (4752, 0.0021411225743874756), (293, 0.0021253407591930603), (4171, 0.0021125258544082894), (3365, 0.002107934590944246), (940, 0.0020919514459212985), (129, 0.0020872975137865373), (824, 0.002081521369897629), (3421, 0.0020679701106288565), (330, 0.002065356964625612), (740, 0.0020052197411528734), (3392, 0.0019861175236987974), (202, 0.001961374503716367), (24, 0.0019522709604667134), (1780, 0.0019499097813754013), (3608, 0.0019469584567841803), (3835, 0.0018002585249104286), (475, 0.0010449633547106605), (2, 0.0), (10, 0.0), (13, 0.0), (14, 0.0), (28, 0.0), (40, 0.0), (42, 0.0), (49, 0.0), (50, 0.0), (64, 0.0), (100, 0.0), (110, 0.0), (122, 0.0), (133, 0.0), (134, 0.0), (139, 0.0), (141, 0.0), (143, 0.0), (146, 0.0), (155, 0.0), (162, 0.0), (163, 0.0), (168, 0.0), (177, 0.0), (180, 0.0), (181, 0.0), (186, 0.0), (205, 0.0), (223, 0.0), (248, 0.0), (259, 0.0), (265, 0.0), (272, 0.0), (275, 0.0), (311, 0.0), (319, 0.0), (328, 0.0), (331, 0.0), (335, 0.0), (337, 0.0), (338, 0.0), (344, 0.0), (352, 0.0), (367, 0.0), (369, 0.0), (383, 0.0), (385, 0.0), (386, 0.0), (391, 0.0), (392, 0.0), (394, 0.0), (398, 0.0), (404, 0.0), (405, 0.0), (411, 0.0), (413, 0.0), (414, 0.0), (422, 0.0), (439, 0.0), (440, 0.0), (454, 0.0), (459, 0.0), (462, 0.0), (474, 0.0), (486, 0.0), (492, 0.0), (494, 0.0), (503, 0.0), (506, 0.0), (516, 0.0), (517, 0.0), (520, 0.0), (531, 0.0), (535, 0.0), (536, 0.0), (538, 0.0), (552, 0.0), (554, 0.0), (555, 0.0), (556, 0.0), (557, 0.0), (561, 0.0), (574, 0.0), (575, 0.0), (577, 0.0), (582, 0.0), (583, 0.0), (585, 0.0), (630, 0.0), (632, 0.0), (648, 0.0), (649, 0.0), (662, 0.0), (663, 0.0), (664, 0.0), (702, 0.0), (704, 0.0), (708, 0.0), (711, 0.0), (718, 0.0), (736, 0.0), (746, 0.0), (747, 0.0), (752, 0.0), (754, 0.0), (758, 0.0), (763, 0.0), (764, 0.0), (770, 0.0), (771, 0.0), (772, 0.0), (776, 0.0), (778, 0.0), (780, 0.0), (781, 0.0), (784, 0.0), (785, 0.0), (786, 0.0), (789, 0.0), (795, 0.0), (807, 0.0), (812, 0.0), (814, 0.0), (819, 0.0), (820, 0.0), (822, 0.0), (833, 0.0), (834, 0.0), (835, 0.0), (836, 0.0), (839, 0.0), (840, 0.0), (841, 0.0), (862, 0.0), (869, 0.0), (873, 0.0), (912, 0.0), (943, 0.0), (950, 0.0), (955, 0.0), (958, 0.0), (964, 0.0), (972, 0.0), (978, 0.0), (982, 0.0), (995, 0.0), (1008, 0.0), (1014, 0.0), (1025, 0.0), (1031, 0.0), (1038, 0.0), (1046, 0.0), (1055, 0.0), (1056, 0.0), (1057, 0.0), (1070, 0.0), (1073, 0.0), (1076, 0.0), (1081, 0.0), (1093, 0.0), (1094, 0.0), (1097, 0.0), (1101, 0.0), (1103, 0.0), (1105, 0.0), (1106, 0.0), (1125, 0.0), (1128, 0.0), (1130, 0.0), (1133, 0.0), (1142, 0.0), (1143, 0.0), (1147, 0.0), (1149, 0.0), (1152, 0.0), (1155, 0.0), (1156, 0.0), (1157, 0.0), (1159, 0.0), (1166, 0.0), (1171, 0.0), (1172, 0.0), (1178, 0.0), (1180, 0.0), (1189, 0.0), (1193, 0.0), (1196, 0.0), (1200, 0.0), (1201, 0.0), (1212, 0.0), (1213, 0.0), (1214, 0.0), (1218, 0.0), (1227, 0.0), (1235, 0.0), (1246, 0.0), (1249, 0.0), (1250, 0.0), (1253, 0.0), (1260, 0.0), (1267, 0.0), (1268, 0.0), (1271, 0.0), (1274, 0.0), (1285, 0.0), (1299, 0.0), (1311, 0.0), (1316, 0.0), (1320, 0.0), (1323, 0.0), (1330, 0.0), (1331, 0.0), (1336, 0.0), (1361, 0.0), (1362, 0.0), (1371, 0.0), (1390, 0.0), (1393, 0.0), (1399, 0.0), (1405, 0.0), (1424, 0.0), (1441, 0.0), (1444, 0.0), (1453, 0.0), (1457, 0.0), (1461, 0.0), (1473, 0.0), (1485, 0.0), (1486, 0.0), (1491, 0.0), (1492, 0.0), (1501, 0.0), (1504, 0.0), (1505, 0.0), (1511, 0.0), (1517, 0.0), (1520, 0.0), (1524, 0.0), (1525, 0.0), (1526, 0.0), (1532, 0.0), (1536, 0.0), (1540, 0.0), (1544, 0.0), (1545, 0.0), (1548, 0.0), (1556, 0.0), (1560, 0.0), (1561, 0.0), (1563, 0.0), (1564, 0.0), (1569, 0.0), (1583, 0.0), (1584, 0.0), (1586, 0.0), (1589, 0.0), (1602, 0.0), (1609, 0.0), (1613, 0.0), (1618, 0.0), (1626, 0.0), (1636, 0.0), (1646, 0.0), (1647, 0.0), (1652, 0.0), (1654, 0.0), (1657, 0.0), (1668, 0.0), (1673, 0.0), (1674, 0.0), (1676, 0.0), (1679, 0.0), (1684, 0.0), (1689, 0.0), (1695, 0.0), (1698, 0.0), (1702, 0.0), (1715, 0.0), (1718, 0.0), (1720, 0.0), (1721, 0.0), (1726, 0.0), (1728, 0.0), (1735, 0.0), (1741, 0.0), (1746, 0.0), (1750, 0.0), (1751, 0.0), (1752, 0.0), (1756, 0.0), (1757, 0.0), (1766, 0.0), (1769, 0.0), (1775, 0.0), (1778, 0.0), (1783, 0.0), (1785, 0.0), (1786, 0.0), (1787, 0.0), (1794, 0.0), (1795, 0.0), (1800, 0.0), (1803, 0.0), (1804, 0.0), (1806, 0.0), (1816, 0.0), (1823, 0.0), (1825, 0.0), (1834, 0.0), (1835, 0.0), (1837, 0.0), (1842, 0.0), (1847, 0.0), (1849, 0.0), (1863, 0.0), (1867, 0.0), (1868, 0.0), (1888, 0.0), (1899, 0.0), (1913, 0.0), (1915, 0.0), (1917, 0.0), (1935, 0.0), (1938, 0.0), (1956, 0.0), (1957, 0.0), (1963, 0.0), (1972, 0.0), (1974, 0.0), (1978, 0.0), (1979, 0.0), (1981, 0.0), (1984, 0.0), (1986, 0.0), (1994, 0.0), (2001, 0.0), (2002, 0.0), (2003, 0.0), (2005, 0.0), (2007, 0.0), (2009, 0.0), (2018, 0.0), (2021, 0.0), (2025, 0.0), (2026, 0.0), (2030, 0.0), (2032, 0.0), (2033, 0.0), (2038, 0.0), (2041, 0.0), (2042, 0.0), (2046, 0.0), (2052, 0.0), (2054, 0.0), (2056, 0.0), (2059, 0.0), (2064, 0.0), (2071, 0.0), (2077, 0.0), (2079, 0.0), (2081, 0.0), (2082, 0.0), (2085, 0.0), (2086, 0.0), (2090, 0.0), (2092, 0.0), (2101, 0.0), (2106, 0.0), (2113, 0.0), (2114, 0.0), (2120, 0.0), (2124, 0.0), (2135, 0.0), (2138, 0.0), (2140, 0.0), (2152, 0.0), (2156, 0.0), (2160, 0.0), (2165, 0.0), (2167, 0.0), (2170, 0.0), (2179, 0.0), (2180, 0.0), (2184, 0.0), (2186, 0.0), (2194, 0.0), (2200, 0.0), (2204, 0.0), (2207, 0.0), (2215, 0.0), (2217, 0.0), (2220, 0.0), (2222, 0.0), (2225, 0.0), (2227, 0.0), (2228, 0.0), (2238, 0.0), (2241, 0.0), (2244, 0.0), (2253, 0.0), (2256, 0.0), (2258, 0.0), (2261, 0.0), (2262, 0.0), (2263, 0.0), (2267, 0.0), (2272, 0.0), (2274, 0.0), (2282, 0.0), (2304, 0.0), (2305, 0.0), (2307, 0.0), (2311, 0.0), (2315, 0.0), (2322, 0.0), (2325, 0.0), (2327, 0.0), (2331, 0.0), (2333, 0.0), (2335, 0.0), (2339, 0.0), (2341, 0.0), (2343, 0.0), (2345, 0.0), (2357, 0.0), (2358, 0.0), (2360, 0.0), (2363, 0.0), (2366, 0.0), (2368, 0.0), (2369, 0.0), (2372, 0.0), (2380, 0.0), (2384, 0.0), (2395, 0.0), (2409, 0.0), (2420, 0.0), (2424, 0.0), (2431, 0.0), (2435, 0.0), (2445, 0.0), (2449, 0.0), (2452, 0.0), (2455, 0.0), (2458, 0.0), (2462, 0.0), (2470, 0.0), (2483, 0.0), (2485, 0.0), (2487, 0.0), (2491, 0.0), (2497, 0.0), (2498, 0.0), (2499, 0.0), (2500, 0.0), (2503, 0.0), (2508, 0.0), (2510, 0.0), (2511, 0.0), (2513, 0.0), (2514, 0.0), (2515, 0.0), (2516, 0.0), (2518, 0.0), (2519, 0.0), (2521, 0.0), (2536, 0.0), (2564, 0.0), (2577, 0.0), (2578, 0.0), (2581, 0.0), (2583, 0.0), (2586, 0.0), (2589, 0.0), (2596, 0.0), (2600, 0.0), (2620, 0.0), (2631, 0.0), (2639, 0.0), (2644, 0.0), (2648, 0.0), (2656, 0.0), (2657, 0.0), (2658, 0.0), (2659, 0.0), (2660, 0.0), (2662, 0.0), (2663, 0.0), (2665, 0.0), (2667, 0.0), (2669, 0.0), (2670, 0.0), (2675, 0.0), (2681, 0.0), (2685, 0.0), (2686, 0.0), (2693, 0.0), (2699, 0.0), (2701, 0.0), (2703, 0.0), (2708, 0.0), (2709, 0.0), (2717, 0.0), (2719, 0.0), (2726, 0.0), (2730, 0.0), (2734, 0.0), (2737, 0.0), (2750, 0.0), (2754, 0.0), (2762, 0.0), (2770, 0.0), (2773, 0.0), (2785, 0.0), (2793, 0.0), (2794, 0.0), (2799, 0.0), (2805, 0.0), (2807, 0.0), (2810, 0.0), (2811, 0.0), (2815, 0.0), (2816, 0.0), (2817, 0.0), (2818, 0.0), (2823, 0.0), (2824, 0.0), (2825, 0.0), (2827, 0.0), (2828, 0.0), (2829, 0.0), (2833, 0.0), (2836, 0.0), (2837, 0.0), (2839, 0.0), (2851, 0.0), (2852, 0.0), (2855, 0.0), (2856, 0.0), (2864, 0.0), (2865, 0.0), (2866, 0.0), (2874, 0.0), (2875, 0.0), (2880, 0.0), (2891, 0.0), (2896, 0.0), (2913, 0.0), (2921, 0.0), (2922, 0.0), (2930, 0.0), (2935, 0.0), (2938, 0.0), (2941, 0.0), (2948, 0.0), (2951, 0.0), (2952, 0.0), (2958, 0.0), (2962, 0.0), (2967, 0.0), (2971, 0.0), (2973, 0.0), (2979, 0.0), (2983, 0.0), (3001, 0.0), (3002, 0.0), (3009, 0.0), (3017, 0.0), (3023, 0.0), (3025, 0.0), (3029, 0.0), (3033, 0.0), (3034, 0.0), (3038, 0.0), (3041, 0.0), (3054, 0.0), (3059, 0.0), (3060, 0.0), (3073, 0.0), (3077, 0.0), (3080, 0.0), (3087, 0.0), (3088, 0.0), (3089, 0.0), (3090, 0.0), (3092, 0.0), (3098, 0.0), (3102, 0.0), (3103, 0.0), (3104, 0.0), (3106, 0.0), (3107, 0.0), (3109, 0.0), (3130, 0.0), (3138, 0.0), (3142, 0.0), (3144, 0.0), (3145, 0.0), (3162, 0.0), (3175, 0.0), (3176, 0.0), (3181, 0.0), (3188, 0.0), (3192, 0.0), (3197, 0.0), (3201, 0.0), (3203, 0.0), (3204, 0.0), (3207, 0.0), (3209, 0.0), (3212, 0.0), (3217, 0.0), (3221, 0.0), (3223, 0.0), (3244, 0.0), (3245, 0.0), (3251, 0.0), (3253, 0.0), (3255, 0.0), (3256, 0.0), (3259, 0.0), (3265, 0.0), (3266, 0.0), (3270, 0.0), (3280, 0.0), (3281, 0.0), (3288, 0.0), (3294, 0.0), (3295, 0.0), (3305, 0.0), (3309, 0.0), (3310, 0.0), (3319, 0.0), (3320, 0.0), (3321, 0.0), (3323, 0.0), (3324, 0.0), (3332, 0.0), (3333, 0.0), (3340, 0.0), (3343, 0.0), (3345, 0.0), (3350, 0.0), (3356, 0.0), (3368, 0.0), (3371, 0.0), (3375, 0.0), (3378, 0.0), (3383, 0.0), (3400, 0.0), (3411, 0.0), (3415, 0.0), (3420, 0.0), (3422, 0.0), (3424, 0.0), (3442, 0.0), (3453, 0.0), (3457, 0.0), (3459, 0.0), (3462, 0.0), (3472, 0.0), (3480, 0.0), (3481, 0.0), (3489, 0.0), (3490, 0.0), (3494, 0.0), (3505, 0.0), (3510, 0.0), (3515, 0.0), (3518, 0.0), (3519, 0.0), (3528, 0.0), (3530, 0.0), (3533, 0.0), (3539, 0.0), (3543, 0.0), (3547, 0.0), (3549, 0.0), (3550, 0.0), (3559, 0.0), (3562, 0.0), (3580, 0.0), (3581, 0.0), (3585, 0.0), (3589, 0.0), (3594, 0.0), (3595, 0.0), (3603, 0.0), (3607, 0.0), (3609, 0.0), (3622, 0.0), (3625, 0.0), (3631, 0.0), (3632, 0.0), (3633, 0.0), (3663, 0.0), (3671, 0.0), (3676, 0.0), (3682, 0.0), (3683, 0.0), (3686, 0.0), (3702, 0.0), (3712, 0.0), (3716, 0.0), (3717, 0.0), (3722, 0.0), (3724, 0.0), (3730, 0.0), (3731, 0.0), (3736, 0.0), (3738, 0.0), (3746, 0.0), (3748, 0.0), (3750, 0.0), (3752, 0.0), (3753, 0.0), (3758, 0.0), (3760, 0.0), (3761, 0.0), (3789, 0.0), (3791, 0.0), (3796, 0.0), (3800, 0.0), (3808, 0.0), (3818, 0.0), (3820, 0.0), (3825, 0.0), (3830, 0.0), (3836, 0.0), (3838, 0.0), (3842, 0.0), (3851, 0.0), (3856, 0.0), (3859, 0.0), (3864, 0.0), (3872, 0.0), (3879, 0.0), (3885, 0.0), (3887, 0.0), (3896, 0.0), (3905, 0.0), (3914, 0.0), (3918, 0.0), (3921, 0.0), (3926, 0.0), (3930, 0.0), (3931, 0.0), (3934, 0.0), (3936, 0.0), (3940, 0.0), (3943, 0.0), (3948, 0.0), (3955, 0.0), (3958, 0.0), (3964, 0.0), (3969, 0.0), (3971, 0.0), (3976, 0.0), (3981, 0.0), (3985, 0.0), (3988, 0.0), (3994, 0.0), (3996, 0.0), (3998, 0.0), (4006, 0.0), (4008, 0.0), (4012, 0.0), (4021, 0.0), (4026, 0.0), (4027, 0.0), (4028, 0.0), (4029, 0.0), (4035, 0.0), (4037, 0.0), (4040, 0.0), (4045, 0.0), (4063, 0.0), (4064, 0.0), (4065, 0.0), (4067, 0.0), (4072, 0.0), (4073, 0.0), (4078, 0.0), (4094, 0.0), (4100, 0.0), (4105, 0.0), (4108, 0.0), (4122, 0.0), (4125, 0.0), (4127, 0.0), (4131, 0.0), (4157, 0.0), (4166, 0.0), (4167, 0.0), (4170, 0.0), (4177, 0.0), (4179, 0.0), (4180, 0.0), (4184, 0.0), (4190, 0.0), (4198, 0.0), (4201, 0.0), (4204, 0.0), (4212, 0.0), (4214, 0.0), (4215, 0.0), (4217, 0.0), (4226, 0.0), (4229, 0.0), (4234, 0.0), (4237, 0.0), (4239, 0.0), (4250, 0.0), (4258, 0.0), (4261, 0.0), (4271, 0.0), (4276, 0.0), (4278, 0.0), (4279, 0.0), (4291, 0.0), (4297, 0.0), (4302, 0.0), (4305, 0.0), (4317, 0.0), (4319, 0.0), (4327, 0.0), (4329, 0.0), (4335, 0.0), (4346, 0.0), (4358, 0.0), (4367, 0.0), (4372, 0.0), (4373, 0.0), (4385, 0.0), (4388, 0.0), (4393, 0.0), (4408, 0.0), (4410, 0.0), (4413, 0.0), (4414, 0.0), (4415, 0.0), (4417, 0.0), (4424, 0.0), (4425, 0.0), (4433, 0.0), (4434, 0.0), (4437, 0.0), (4440, 0.0), (4449, 0.0), (4451, 0.0), (4463, 0.0), (4483, 0.0), (4485, 0.0), (4496, 0.0), (4499, 0.0), (4500, 0.0), (4506, 0.0), (4532, 0.0), (4538, 0.0), (4541, 0.0), (4547, 0.0), (4549, 0.0), (4556, 0.0), (4559, 0.0), (4561, 0.0), (4562, 0.0), (4565, 0.0), (4577, 0.0), (4578, 0.0), (4583, 0.0), (4592, 0.0), (4596, 0.0), (4597, 0.0), (4599, 0.0), (4622, 0.0), (4631, 0.0), (4635, 0.0), (4644, 0.0), (4654, 0.0), (4655, 0.0), (4656, 0.0), (4659, 0.0), (4662, 0.0), (4671, 0.0), (4672, 0.0), (4675, 0.0), (4681, 0.0), (4683, 0.0), (4690, 0.0), (4700, 0.0), (4702, 0.0), (4707, 0.0), (4711, 0.0), (4714, 0.0), (4716, 0.0), (4720, 0.0), (4725, 0.0), (4728, 0.0), (4730, 0.0), (4737, 0.0), (4738, 0.0), (4740, 0.0), (4741, 0.0), (4750, 0.0), (4751, 0.0), (4755, 0.0), (4758, 0.0), (4759, 0.0)]\n"
          ]
        }
      ]
    },
    {
      "cell_type": "markdown",
      "source": [
        "\n",
        "\n",
        "> **Prediction : Getting all movies sort based on Recommendation score with respcet to favorite movie**\n",
        "\n",
        "\n",
        "\n"
      ],
      "metadata": {
        "id": "CsrWFbYNPf2W"
      }
    },
    {
      "cell_type": "code",
      "source": [
        "print('Top 30 Movies Suggested for You: \\n')\n",
        "i=1\n",
        "for movie in Sorted_similar_movies:\n",
        "  index=movie[0]\n",
        "  title_from_index = mv[mv.index==index]['Movie_Title'].values[0]\n",
        "  if(i<31):\n",
        "    print(i,'.',title_from_index)\n",
        "    i+=1\n"
      ],
      "metadata": {
        "colab": {
          "base_uri": "https://localhost:8080/"
        },
        "id": "74qYYaTwF8cH",
        "outputId": "2b770be0-d56e-435d-ac77-48721440a532"
      },
      "execution_count": null,
      "outputs": [
        {
          "output_type": "stream",
          "name": "stdout",
          "text": [
            "Top 30 Movies Suggested for You: \n",
            "\n",
            "1 . The Walk\n",
            "2 . Don Jon\n",
            "3 . The Hundred-Foot Journey\n",
            "4 . Inception\n",
            "5 . Treasure Planet\n",
            "6 . The Juror\n",
            "7 . 13 Hours: The Secret Soldiers of Benghazi\n",
            "8 . Sin City: A Dame to Kill For\n",
            "9 . The Jungle Book\n",
            "10 . Shame\n",
            "11 . Shutter Island\n",
            "12 . In the Heart of the Sea\n",
            "13 . The Lone Ranger\n",
            "14 . World War Z\n",
            "15 . G.I. Joe: The Rise of Cobra\n",
            "16 . The Conjuring\n",
            "17 . Boiler Room\n",
            "18 . 10 Things I Hate About You\n",
            "19 . Ender's Game\n",
            "20 . BloodRayne\n",
            "21 . The Duchess\n",
            "22 . Sexy Beast\n",
            "23 . The Town\n",
            "24 . Blow\n",
            "25 . The Finest Hours\n",
            "26 . The Wackness\n",
            "27 . Suspect Zero\n",
            "28 . Winter's Tale\n",
            "29 . In Dreams\n",
            "30 . Days of Summer\n"
          ]
        }
      ]
    },
    {
      "cell_type": "markdown",
      "source": [
        "\n",
        "\n",
        "# > **Explanarion**\n",
        "Movie recommendation work by filtering out data that is irrelevant and including only that which have matching characteristics or features.\n",
        "The major types of filtering methods are collaborative filtering, content-based filtering.\n",
        "\n",
        "\n",
        "\n",
        "\n",
        "\n",
        "\n"
      ],
      "metadata": {
        "id": "vsy9pbgiP_K1"
      }
    }
  ],
  "metadata": {
    "colab": {
      "provenance": [],
      "authorship_tag": "ABX9TyOvSV7LIHvG81xs/V9mdNbV",
      "include_colab_link": true
    },
    "kernelspec": {
      "display_name": "Python 3",
      "name": "python3"
    },
    "language_info": {
      "name": "python"
    }
  },
  "nbformat": 4,
  "nbformat_minor": 0
}